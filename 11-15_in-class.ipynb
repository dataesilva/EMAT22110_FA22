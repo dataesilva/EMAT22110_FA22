{
 "cells": [
  {
   "cell_type": "code",
   "execution_count": 1,
   "id": "592989a8",
   "metadata": {},
   "outputs": [],
   "source": [
    "import pandas as pd\n",
    "import numpy as np\n",
    "from matplotlib import pyplot as plt\n",
    "from scipy import stats"
   ]
  },
  {
   "cell_type": "code",
   "execution_count": 3,
   "id": "647e277f",
   "metadata": {},
   "outputs": [],
   "source": [
    "audio_features = pd.read_csv('audio_features.csv', sep = ',')"
   ]
  },
  {
   "cell_type": "code",
   "execution_count": null,
   "id": "c2616ebb",
   "metadata": {},
   "outputs": [],
   "source": [
    "audio_features"
   ]
  },
  {
   "cell_type": "code",
   "execution_count": 9,
   "id": "d8a9e453",
   "metadata": {},
   "outputs": [
    {
     "data": {
      "text/plain": [
       "20    0.647\n",
       "21    0.779\n",
       "22    0.743\n",
       "23    0.727\n",
       "24    0.689\n",
       "25    0.843\n",
       "26    0.663\n",
       "27    0.633\n",
       "28    0.772\n",
       "29    0.853\n",
       "30    0.821\n",
       "31    0.453\n",
       "32    0.707\n",
       "33    0.690\n",
       "34    0.601\n",
       "35    0.696\n",
       "Name: danceability, dtype: float64"
      ]
     },
     "execution_count": 9,
     "metadata": {},
     "output_type": "execute_result"
    }
   ],
   "source": [
    "audio_features[audio_features['album'] == 'loneliest']['danceability']"
   ]
  },
  {
   "cell_type": "code",
   "execution_count": 12,
   "id": "9f780b82",
   "metadata": {},
   "outputs": [
    {
     "data": {
      "image/png": "[encoded data removed]",
      "text/plain": [
       "<Figure size 432x288 with 1 Axes>"
      ]
     },
     "metadata": {
      "needs_background": "light"
     },
     "output_type": "display_data"
    }
   ],
   "source": [
    "fig1, ax1 = plt.subplots()\n",
    "md = audio_features[audio_features['album'] == 'midnights']['danceability']\n",
    "ld = audio_features[audio_features['album'] == 'loneliest']['danceability']\n",
    "ax1.hist(md, alpha = 0.5, color = 'red', label = 'Midnights')\n",
    "ax1.hist(ld, alpha = 0.5, color = 'green', label = 'Loneliest')\n",
    "ax1.legend()\n",
    "plt.show()"
   ]
  }
 ],
 "metadata": {
  "kernelspec": {
   "display_name": "Python 3 (ipykernel)",
   "language": "python",
   "name": "python3"
  },
  "language_info": {
   "codemirror_mode": {
    "name": "ipython",
    "version": 3
   },
   "file_extension": ".py",
   "mimetype": "text/x-python",
   "name": "python",
   "nbconvert_exporter": "python",
   "pygments_lexer": "ipython3",
   "version": "3.10.4"
  }
 },
 "nbformat": 4,
 "nbformat_minor": 5
}
