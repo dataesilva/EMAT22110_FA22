{
 "cells": [
  {
   "cell_type": "code",
   "execution_count": 1,
   "id": "d6316260",
   "metadata": {},
   "outputs": [],
   "source": [
    "import pandas as pd\n",
    "from matplotlib import pyplot as plt\n",
    "import numpy as np"
   ]
  },
  {
   "cell_type": "code",
   "execution_count": 2,
   "id": "e784c87c",
   "metadata": {},
   "outputs": [
    {
     "name": "stdout",
     "output_type": "stream",
     "text": [
      " Volume in drive C is Windows\n",
      " Volume Serial Number is 88B8-561F\n",
      "\n",
      " Directory of C:\\Users\\dsilva2\\EMAT22110_FA22\n",
      "\n",
      "11/03/2022  11:07 AM    <DIR>          .\n",
      "11/03/2022  11:07 AM    <DIR>          ..\n",
      "11/03/2022  11:06 AM    <DIR>          .ipynb_checkpoints\n",
      "10/19/2022  12:17 PM            41,566 10-18_in-class.ipynb\n",
      "10/18/2022  12:18 PM           106,102 10-18_prep.ipynb\n",
      "10/20/2022  12:17 PM             9,821 10-20_in-class-Spotify.ipynb\n",
      "10/20/2022  12:17 PM            76,091 10-20_prep_BLS-API.ipynb\n",
      "10/27/2022  12:15 PM            38,005 10-27_in-class.ipynb\n",
      "10/27/2022  12:15 PM            84,335 10-27_prep-SQL.ipynb\n",
      "10/06/2022  12:23 PM            20,763 10-4_in-class.ipynb\n",
      "10/18/2022  12:18 PM            31,856 10-6_in-class.ipynb\n",
      "10/20/2022  12:17 PM           164,720 10-8_Spotify-API-prep.ipynb\n",
      "11/01/2022  12:10 PM            51,341 11-1_in-class.ipynb\n",
      "11/01/2022  12:10 PM           363,683 11-1_prep.ipynb\n",
      "11/03/2022  11:07 AM               589 11-3_in-class.ipynb\n",
      "11/02/2022  02:46 PM           232,704 11-3_prep.ipynb\n",
      "08/30/2022  12:14 PM             1,231 8-30_inclass.ipynb\n",
      "09/01/2022  11:27 AM               696 9-1_in-class.ipynb\n",
      "09/15/2022  10:19 PM            24,001 9-15_in-class.ipynb\n",
      "09/22/2022  12:19 PM            12,829 9-22_in-class.ipynb\n",
      "10/17/2022  02:34 PM            98,823 9-22_prep.ipynb\n",
      "09/06/2022  12:11 PM           531,684 9-6_in-class.ipynb\n",
      "10/19/2022  12:27 PM             1,623 bls_data.csv\n",
      "11/01/2022  09:36 AM            77,889 cces_example_data.csv\n",
      "10/26/2022  07:33 PM    <DIR>          chinook\n",
      "09/06/2022  09:50 AM    <DIR>          facebook-davidsilva100046_full\n",
      "09/06/2022  09:48 AM    <DIR>          facebook-davidsilva100046_year-toshare\n",
      "09/06/2022  09:27 AM           597,973 facebook-davidsilva100046_year-toshare.zip\n",
      "11/01/2022  10:05 AM    <DIR>          OLD\n",
      "09/30/2021  04:28 PM            20,755 Sept-30_in-class-Spotify.ipynb\n",
      "09/01/2022  12:14 PM             2,232 Silva_SystemsCheck.ipynb\n",
      "10/18/2022  12:11 PM                89 Spotify-Keys_9-23-21.txt\n",
      "10/17/2022  04:22 PM           145,509 Spotify-pt1.ipynb\n",
      "10/04/2022  10:53 AM            17,127 Twitter_API-example.ipynb\n",
      "09/22/2022  11:49 AM               127 Twitter_Token_9-22.txt\n",
      "09/21/2022  09:34 PM               125 Twitter-Key_9-21-22.txt\n",
      "              29 File(s)      2,754,289 bytes\n",
      "               7 Dir(s)  200,509,775,872 bytes free\n"
     ]
    }
   ],
   "source": [
    "ls"
   ]
  },
  {
   "cell_type": "code",
   "execution_count": 3,
   "id": "460f5d1e",
   "metadata": {},
   "outputs": [],
   "source": [
    "cces = pd.read_csv('cces_example_data.csv', sep = ',')"
   ]
  },
  {
   "cell_type": "code",
   "execution_count": 4,
   "id": "83c6f6de",
   "metadata": {},
   "outputs": [
    {
     "data": {
      "text/html": [
       "<div>\n",
       "<style scoped>\n",
       "    .dataframe tbody tr th:only-of-type {\n",
       "        vertical-align: middle;\n",
       "    }\n",
       "\n",
       "    .dataframe tbody tr th {\n",
       "        vertical-align: top;\n",
       "    }\n",
       "\n",
       "    .dataframe thead th {\n",
       "        text-align: right;\n",
       "    }\n",
       "</style>\n",
       "<table border=\"1\" class=\"dataframe\">\n",
       "  <thead>\n",
       "    <tr style=\"text-align: right;\">\n",
       "      <th></th>\n",
       "      <th>pew_religimp</th>\n",
       "      <th>pew_churatd</th>\n",
       "      <th>sex</th>\n",
       "      <th>educ</th>\n",
       "      <th>nonwhite</th>\n",
       "      <th>age</th>\n",
       "      <th>faminc_new</th>\n",
       "      <th>pid3</th>\n",
       "      <th>ideo5</th>\n",
       "      <th>QueerPhobia</th>\n",
       "      <th>...</th>\n",
       "      <th>InterGBiasParty</th>\n",
       "      <th>InterGBiasCand</th>\n",
       "      <th>InterGBiasSup</th>\n",
       "      <th>LibMediaUse</th>\n",
       "      <th>ConMediaUse</th>\n",
       "      <th>Real_Threat</th>\n",
       "      <th>Symb_Threat</th>\n",
       "      <th>Evaluation</th>\n",
       "      <th>teamweight</th>\n",
       "      <th>caseid</th>\n",
       "    </tr>\n",
       "  </thead>\n",
       "  <tbody>\n",
       "    <tr>\n",
       "      <th>0</th>\n",
       "      <td>2</td>\n",
       "      <td>6</td>\n",
       "      <td>2</td>\n",
       "      <td>2</td>\n",
       "      <td>1</td>\n",
       "      <td>56</td>\n",
       "      <td>6</td>\n",
       "      <td>1</td>\n",
       "      <td>1</td>\n",
       "      <td>1.000000</td>\n",
       "      <td>...</td>\n",
       "      <td>-99</td>\n",
       "      <td>-99</td>\n",
       "      <td>-96</td>\n",
       "      <td>2.666667</td>\n",
       "      <td>1.000000</td>\n",
       "      <td>5.00</td>\n",
       "      <td>4.857143</td>\n",
       "      <td>0</td>\n",
       "      <td>0.505028</td>\n",
       "      <td>1231308943</td>\n",
       "    </tr>\n",
       "    <tr>\n",
       "      <th>1</th>\n",
       "      <td>2</td>\n",
       "      <td>4</td>\n",
       "      <td>2</td>\n",
       "      <td>5</td>\n",
       "      <td>1</td>\n",
       "      <td>53</td>\n",
       "      <td>13</td>\n",
       "      <td>1</td>\n",
       "      <td>2</td>\n",
       "      <td>3.000000</td>\n",
       "      <td>...</td>\n",
       "      <td>-100</td>\n",
       "      <td>-100</td>\n",
       "      <td>-100</td>\n",
       "      <td>2.000000</td>\n",
       "      <td>2.000000</td>\n",
       "      <td>5.00</td>\n",
       "      <td>5.000000</td>\n",
       "      <td>0</td>\n",
       "      <td>0.852381</td>\n",
       "      <td>1232300315</td>\n",
       "    </tr>\n",
       "    <tr>\n",
       "      <th>2</th>\n",
       "      <td>1</td>\n",
       "      <td>2</td>\n",
       "      <td>1</td>\n",
       "      <td>2</td>\n",
       "      <td>1</td>\n",
       "      <td>69</td>\n",
       "      <td>10</td>\n",
       "      <td>2</td>\n",
       "      <td>5</td>\n",
       "      <td>4.333333</td>\n",
       "      <td>...</td>\n",
       "      <td>99</td>\n",
       "      <td>99</td>\n",
       "      <td>96</td>\n",
       "      <td>1.000000</td>\n",
       "      <td>1.000000</td>\n",
       "      <td>5.00</td>\n",
       "      <td>5.000000</td>\n",
       "      <td>2</td>\n",
       "      <td>1.320189</td>\n",
       "      <td>1232358697</td>\n",
       "    </tr>\n",
       "    <tr>\n",
       "      <th>3</th>\n",
       "      <td>2</td>\n",
       "      <td>3</td>\n",
       "      <td>1</td>\n",
       "      <td>6</td>\n",
       "      <td>1</td>\n",
       "      <td>76</td>\n",
       "      <td>97</td>\n",
       "      <td>1</td>\n",
       "      <td>3</td>\n",
       "      <td>1.000000</td>\n",
       "      <td>...</td>\n",
       "      <td>-86</td>\n",
       "      <td>-91</td>\n",
       "      <td>-89</td>\n",
       "      <td>4.666667</td>\n",
       "      <td>1.333333</td>\n",
       "      <td>4.25</td>\n",
       "      <td>4.428571</td>\n",
       "      <td>0</td>\n",
       "      <td>0.519198</td>\n",
       "      <td>1232540961</td>\n",
       "    </tr>\n",
       "    <tr>\n",
       "      <th>4</th>\n",
       "      <td>4</td>\n",
       "      <td>5</td>\n",
       "      <td>2</td>\n",
       "      <td>6</td>\n",
       "      <td>1</td>\n",
       "      <td>83</td>\n",
       "      <td>4</td>\n",
       "      <td>1</td>\n",
       "      <td>2</td>\n",
       "      <td>1.000000</td>\n",
       "      <td>...</td>\n",
       "      <td>-80</td>\n",
       "      <td>-88</td>\n",
       "      <td>-87</td>\n",
       "      <td>4.666667</td>\n",
       "      <td>3.666667</td>\n",
       "      <td>4.25</td>\n",
       "      <td>5.000000</td>\n",
       "      <td>0</td>\n",
       "      <td>1.154005</td>\n",
       "      <td>1232580601</td>\n",
       "    </tr>\n",
       "  </tbody>\n",
       "</table>\n",
       "<p>5 rows × 21 columns</p>\n",
       "</div>"
      ],
      "text/plain": [
       "   pew_religimp  pew_churatd  sex  educ  nonwhite  age  faminc_new  pid3  \\\n",
       "0             2            6    2     2         1   56           6     1   \n",
       "1             2            4    2     5         1   53          13     1   \n",
       "2             1            2    1     2         1   69          10     2   \n",
       "3             2            3    1     6         1   76          97     1   \n",
       "4             4            5    2     6         1   83           4     1   \n",
       "\n",
       "   ideo5  QueerPhobia  ...  InterGBiasParty  InterGBiasCand  InterGBiasSup  \\\n",
       "0      1     1.000000  ...              -99             -99            -96   \n",
       "1      2     3.000000  ...             -100            -100           -100   \n",
       "2      5     4.333333  ...               99              99             96   \n",
       "3      3     1.000000  ...              -86             -91            -89   \n",
       "4      2     1.000000  ...              -80             -88            -87   \n",
       "\n",
       "   LibMediaUse  ConMediaUse  Real_Threat  Symb_Threat  Evaluation  teamweight  \\\n",
       "0     2.666667     1.000000         5.00     4.857143           0    0.505028   \n",
       "1     2.000000     2.000000         5.00     5.000000           0    0.852381   \n",
       "2     1.000000     1.000000         5.00     5.000000           2    1.320189   \n",
       "3     4.666667     1.333333         4.25     4.428571           0    0.519198   \n",
       "4     4.666667     3.666667         4.25     5.000000           0    1.154005   \n",
       "\n",
       "       caseid  \n",
       "0  1231308943  \n",
       "1  1232300315  \n",
       "2  1232358697  \n",
       "3  1232540961  \n",
       "4  1232580601  \n",
       "\n",
       "[5 rows x 21 columns]"
      ]
     },
     "execution_count": 4,
     "metadata": {},
     "output_type": "execute_result"
    }
   ],
   "source": [
    "cces.head()"
   ]
  },
  {
   "cell_type": "code",
   "execution_count": 6,
   "id": "73910298",
   "metadata": {},
   "outputs": [
    {
     "data": {
      "image/png": "[encoded data removed]",
      "text/plain": [
       "<Figure size 432x288 with 1 Axes>"
      ]
     },
     "metadata": {
      "needs_background": "light"
     },
     "output_type": "display_data"
    }
   ],
   "source": [
    "IGBP_hist = cces['InterGBiasParty'].plot.hist(bins = 20)\n",
    "plt.show()"
   ]
  },
  {
   "cell_type": "code",
   "execution_count": 22,
   "id": "cc0637f1",
   "metadata": {},
   "outputs": [
    {
     "data": {
      "image/png": "[encoded data removed]",
      "text/plain": [
       "<Figure size 720x720 with 4 Axes>"
      ]
     },
     "metadata": {
      "needs_background": "light"
     },
     "output_type": "display_data"
    }
   ],
   "source": [
    "fig1, ax1 = plt.subplots(2, 2, layout = 'constrained')\n",
    "fig1.set_figwidth(10)\n",
    "fig1.set_figheight(10)\n",
    "ax1[0, 0].hist(cces['InterGBiasParty'])\n",
    "ax1[0, 1].hist(cces['InterGBiasCand'])\n",
    "ax1[0, 1].set_ylabel('Counts')\n",
    "ax1[1, 0].hist(cces['InterGBiasSup'])\n",
    "ax1[1, 1].hist(cces['QueerPhobia'])\n",
    "plt.show()"
   ]
  },
  {
   "cell_type": "code",
   "execution_count": 26,
   "id": "ef759ecb",
   "metadata": {},
   "outputs": [],
   "source": [
    "count_sex = cces.groupby('sex').count()['caseid']"
   ]
  },
  {
   "cell_type": "code",
   "execution_count": 41,
   "id": "2eda106e",
   "metadata": {},
   "outputs": [
    {
     "data": {
      "text/plain": [
       "nonwhite\n",
       "1    491\n",
       "2    168\n",
       "Name: caseid, dtype: int64"
      ]
     },
     "execution_count": 41,
     "metadata": {},
     "output_type": "execute_result"
    }
   ],
   "source": [
    "count_race"
   ]
  },
  {
   "cell_type": "code",
   "execution_count": 30,
   "id": "9e4a6026",
   "metadata": {},
   "outputs": [
    {
     "data": {
      "text/plain": [
       "290"
      ]
     },
     "execution_count": 30,
     "metadata": {},
     "output_type": "execute_result"
    }
   ],
   "source": [
    "count_sex.iloc[0]"
   ]
  },
  {
   "cell_type": "code",
   "execution_count": 31,
   "id": "434e4742",
   "metadata": {},
   "outputs": [],
   "source": [
    "labels_sex = ['Male', 'Female']"
   ]
  },
  {
   "cell_type": "code",
   "execution_count": 40,
   "id": "9dcf88b9",
   "metadata": {},
   "outputs": [],
   "source": [
    "count_race = cces.groupby('nonwhite').count()['caseid']"
   ]
  },
  {
   "cell_type": "code",
   "execution_count": 46,
   "id": "978671a1",
   "metadata": {},
   "outputs": [
    {
     "data": {
      "image/png": "[encoded data removed]",
      "text/plain": [
       "<Figure size 432x576 with 3 Axes>"
      ]
     },
     "metadata": {
      "needs_background": "light"
     },
     "output_type": "display_data"
    }
   ],
   "source": [
    "fig2, ax2 = plt.subplots(3, 1, layout = 'constrained')\n",
    "fig2.set_figheight(8)\n",
    "ax2[0].bar(labels_sex, count_sex)\n",
    "\n",
    "labels_foul = ['Ducks', 'Geese', 'Loons', 'Swans']\n",
    "values_foul = [940, 814, 12, 346]\n",
    "data_dict = {'Ducks': 940, 'Geese': 814, 'Loons': 12, 'Swans': 346}\n",
    "\n",
    "ax2[1].bar(data_dict.keys(), data_dict.values())\n",
    "ax2[2].bar(['White', 'Nonwhite'], count_race)\n",
    "plt.show()"
   ]
  },
  {
   "cell_type": "code",
   "execution_count": 56,
   "id": "c0fd0bac",
   "metadata": {},
   "outputs": [
    {
     "data": {
      "image/png": "[encoded data removed]",
      "text/plain": [
       "<Figure size 432x288 with 1 Axes>"
      ]
     },
     "metadata": {},
     "output_type": "display_data"
    }
   ],
   "source": [
    "fig3, ax3 = plt.subplots()\n",
    "ax3.pie(count_sex, labels = labels_sex, autopct = '%1.1F%%', colors = ['purple', 'green'], startangle = 90)\n",
    "plt.show()"
   ]
  },
  {
   "cell_type": "code",
   "execution_count": 58,
   "id": "d8bf5ae7",
   "metadata": {},
   "outputs": [
    {
     "data": {
      "image/png": "[encoded data removed]",
      "text/plain": [
       "<Figure size 432x288 with 3 Axes>"
      ]
     },
     "metadata": {
      "needs_background": "light"
     },
     "output_type": "display_data"
    }
   ],
   "source": [
    "fig3, ax4 = plt.subplots(1, 3, layout = 'constrained')\n",
    "ax4[0].boxplot(cces['QueerPhobia'])\n",
    "ax4[1].boxplot(cces['ImmiPhobia'])\n",
    "ax4[2].boxplot([cces['QueerPhobia'], cces['ImmiPhobia']])\n",
    "plt.show()"
   ]
  },
  {
   "cell_type": "code",
   "execution_count": null,
   "id": "5e9b297c",
   "metadata": {},
   "outputs": [],
   "source": []
  },
  {
   "cell_type": "code",
   "execution_count": null,
   "id": "679d3fb5",
   "metadata": {},
   "outputs": [],
   "source": []
  },
  {
   "cell_type": "code",
   "execution_count": null,
   "id": "939d0972",
   "metadata": {},
   "outputs": [],
   "source": []
  },
  {
   "cell_type": "code",
   "execution_count": null,
   "id": "90a34417",
   "metadata": {},
   "outputs": [],
   "source": []
  },
  {
   "cell_type": "code",
   "execution_count": null,
   "id": "6f20b875",
   "metadata": {},
   "outputs": [],
   "source": []
  },
  {
   "cell_type": "code",
   "execution_count": null,
   "id": "0cb92f11",
   "metadata": {},
   "outputs": [],
   "source": []
  }
 ],
 "metadata": {
  "kernelspec": {
   "display_name": "Python 3 (ipykernel)",
   "language": "python",
   "name": "python3"
  },
  "language_info": {
   "codemirror_mode": {
    "name": "ipython",
    "version": 3
   },
   "file_extension": ".py",
   "mimetype": "text/x-python",
   "name": "python",
   "nbconvert_exporter": "python",
   "pygments_lexer": "ipython3",
   "version": "3.10.4"
  }
 },
 "nbformat": 4,
 "nbformat_minor": 5
}
