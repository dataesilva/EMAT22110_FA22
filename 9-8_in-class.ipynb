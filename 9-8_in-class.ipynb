{
 "cells": [
  {
   "cell_type": "code",
   "execution_count": 1,
   "id": "f061eb22",
   "metadata": {},
   "outputs": [],
   "source": [
    "import pandas as pd\n",
    "import json"
   ]
  },
  {
   "cell_type": "code",
   "execution_count": 2,
   "id": "3bb57b85",
   "metadata": {},
   "outputs": [],
   "source": [
    "with open(r\"C:\\Users\\dsilva2\\EMAT22110_FA22\\facebook-davidsilva100046_full\\comments_and_reactions\\posts_and_comments.json\") as j:\n",
    "    posts_and_comments = json.load(j)"
   ]
  },
  {
   "cell_type": "code",
   "execution_count": 3,
   "id": "5b91a082",
   "metadata": {},
   "outputs": [],
   "source": [
    "posts_and_comments_df = pd.DataFrame({'a': [1, 2, 3], 'b': [4, 5, 6], 'c': [7, 8, 9]})"
   ]
  },
  {
   "cell_type": "code",
   "execution_count": 4,
   "id": "bfbce2e2",
   "metadata": {},
   "outputs": [
    {
     "data": {
      "text/html": [
       "<div>\n",
       "<style scoped>\n",
       "    .dataframe tbody tr th:only-of-type {\n",
       "        vertical-align: middle;\n",
       "    }\n",
       "\n",
       "    .dataframe tbody tr th {\n",
       "        vertical-align: top;\n",
       "    }\n",
       "\n",
       "    .dataframe thead th {\n",
       "        text-align: right;\n",
       "    }\n",
       "</style>\n",
       "<table border=\"1\" class=\"dataframe\">\n",
       "  <thead>\n",
       "    <tr style=\"text-align: right;\">\n",
       "      <th></th>\n",
       "      <th>a</th>\n",
       "      <th>b</th>\n",
       "      <th>c</th>\n",
       "    </tr>\n",
       "  </thead>\n",
       "  <tbody>\n",
       "    <tr>\n",
       "      <th>0</th>\n",
       "      <td>1</td>\n",
       "      <td>4</td>\n",
       "      <td>7</td>\n",
       "    </tr>\n",
       "    <tr>\n",
       "      <th>1</th>\n",
       "      <td>2</td>\n",
       "      <td>5</td>\n",
       "      <td>8</td>\n",
       "    </tr>\n",
       "    <tr>\n",
       "      <th>2</th>\n",
       "      <td>3</td>\n",
       "      <td>6</td>\n",
       "      <td>9</td>\n",
       "    </tr>\n",
       "  </tbody>\n",
       "</table>\n",
       "</div>"
      ],
      "text/plain": [
       "   a  b  c\n",
       "0  1  4  7\n",
       "1  2  5  8\n",
       "2  3  6  9"
      ]
     },
     "execution_count": 4,
     "metadata": {},
     "output_type": "execute_result"
    }
   ],
   "source": [
    "posts_and_comments_df"
   ]
  },
  {
   "cell_type": "code",
   "execution_count": 5,
   "id": "bb7eaf6e",
   "metadata": {},
   "outputs": [],
   "source": [
    "posts_and_comments_df2 = pd.DataFrame([{'a': 1, 'b': 4, 'c':7}, {'a': 2, 'b':5, 'c':8}, {'a': 3, 'b': 6, 'c':9}])"
   ]
  },
  {
   "cell_type": "code",
   "execution_count": 6,
   "id": "7a72850a",
   "metadata": {},
   "outputs": [
    {
     "data": {
      "text/html": [
       "<div>\n",
       "<style scoped>\n",
       "    .dataframe tbody tr th:only-of-type {\n",
       "        vertical-align: middle;\n",
       "    }\n",
       "\n",
       "    .dataframe tbody tr th {\n",
       "        vertical-align: top;\n",
       "    }\n",
       "\n",
       "    .dataframe thead th {\n",
       "        text-align: right;\n",
       "    }\n",
       "</style>\n",
       "<table border=\"1\" class=\"dataframe\">\n",
       "  <thead>\n",
       "    <tr style=\"text-align: right;\">\n",
       "      <th></th>\n",
       "      <th>a</th>\n",
       "      <th>b</th>\n",
       "      <th>c</th>\n",
       "    </tr>\n",
       "  </thead>\n",
       "  <tbody>\n",
       "    <tr>\n",
       "      <th>0</th>\n",
       "      <td>1</td>\n",
       "      <td>4</td>\n",
       "      <td>7</td>\n",
       "    </tr>\n",
       "    <tr>\n",
       "      <th>1</th>\n",
       "      <td>2</td>\n",
       "      <td>5</td>\n",
       "      <td>8</td>\n",
       "    </tr>\n",
       "    <tr>\n",
       "      <th>2</th>\n",
       "      <td>3</td>\n",
       "      <td>6</td>\n",
       "      <td>9</td>\n",
       "    </tr>\n",
       "  </tbody>\n",
       "</table>\n",
       "</div>"
      ],
      "text/plain": [
       "   a  b  c\n",
       "0  1  4  7\n",
       "1  2  5  8\n",
       "2  3  6  9"
      ]
     },
     "execution_count": 6,
     "metadata": {},
     "output_type": "execute_result"
    }
   ],
   "source": [
    "posts_and_comments_df2"
   ]
  },
  {
   "cell_type": "code",
   "execution_count": null,
   "id": "fe916d74",
   "metadata": {},
   "outputs": [],
   "source": [
    "posts_and_comments"
   ]
  },
  {
   "cell_type": "code",
   "execution_count": 8,
   "id": "acf20cf9",
   "metadata": {},
   "outputs": [],
   "source": [
    "test1 = pd.DataFrame(posts_and_comments)"
   ]
  },
  {
   "cell_type": "code",
   "execution_count": 9,
   "id": "f1e36408",
   "metadata": {},
   "outputs": [
    {
     "data": {
      "text/html": [
       "<div>\n",
       "<style scoped>\n",
       "    .dataframe tbody tr th:only-of-type {\n",
       "        vertical-align: middle;\n",
       "    }\n",
       "\n",
       "    .dataframe tbody tr th {\n",
       "        vertical-align: top;\n",
       "    }\n",
       "\n",
       "    .dataframe thead th {\n",
       "        text-align: right;\n",
       "    }\n",
       "</style>\n",
       "<table border=\"1\" class=\"dataframe\">\n",
       "  <thead>\n",
       "    <tr style=\"text-align: right;\">\n",
       "      <th></th>\n",
       "      <th>reactions_v2</th>\n",
       "    </tr>\n",
       "  </thead>\n",
       "  <tbody>\n",
       "    <tr>\n",
       "      <th>0</th>\n",
       "      <td>{'timestamp': 1253148596, 'data': [{'reaction'...</td>\n",
       "    </tr>\n",
       "    <tr>\n",
       "      <th>1</th>\n",
       "      <td>{'timestamp': 1255727692, 'data': [{'reaction'...</td>\n",
       "    </tr>\n",
       "    <tr>\n",
       "      <th>2</th>\n",
       "      <td>{'timestamp': 1255810172, 'data': [{'reaction'...</td>\n",
       "    </tr>\n",
       "    <tr>\n",
       "      <th>3</th>\n",
       "      <td>{'timestamp': 1256162033, 'data': [{'reaction'...</td>\n",
       "    </tr>\n",
       "    <tr>\n",
       "      <th>4</th>\n",
       "      <td>{'timestamp': 1258578394, 'data': [{'reaction'...</td>\n",
       "    </tr>\n",
       "  </tbody>\n",
       "</table>\n",
       "</div>"
      ],
      "text/plain": [
       "                                        reactions_v2\n",
       "0  {'timestamp': 1253148596, 'data': [{'reaction'...\n",
       "1  {'timestamp': 1255727692, 'data': [{'reaction'...\n",
       "2  {'timestamp': 1255810172, 'data': [{'reaction'...\n",
       "3  {'timestamp': 1256162033, 'data': [{'reaction'...\n",
       "4  {'timestamp': 1258578394, 'data': [{'reaction'..."
      ]
     },
     "execution_count": 9,
     "metadata": {},
     "output_type": "execute_result"
    }
   ],
   "source": [
    "test1.head()"
   ]
  },
  {
   "cell_type": "code",
   "execution_count": 10,
   "id": "c37859a0",
   "metadata": {},
   "outputs": [],
   "source": [
    "test2 = pd.DataFrame(posts_and_comments['reactions_v2'])"
   ]
  },
  {
   "cell_type": "code",
   "execution_count": 11,
   "id": "1bb2c626",
   "metadata": {},
   "outputs": [
    {
     "data": {
      "text/html": [
       "<div>\n",
       "<style scoped>\n",
       "    .dataframe tbody tr th:only-of-type {\n",
       "        vertical-align: middle;\n",
       "    }\n",
       "\n",
       "    .dataframe tbody tr th {\n",
       "        vertical-align: top;\n",
       "    }\n",
       "\n",
       "    .dataframe thead th {\n",
       "        text-align: right;\n",
       "    }\n",
       "</style>\n",
       "<table border=\"1\" class=\"dataframe\">\n",
       "  <thead>\n",
       "    <tr style=\"text-align: right;\">\n",
       "      <th></th>\n",
       "      <th>timestamp</th>\n",
       "      <th>data</th>\n",
       "      <th>title</th>\n",
       "    </tr>\n",
       "  </thead>\n",
       "  <tbody>\n",
       "    <tr>\n",
       "      <th>0</th>\n",
       "      <td>1253148596</td>\n",
       "      <td>[{'reaction': {'reaction': 'LIKE', 'actor': 'D...</td>\n",
       "      <td>David Silva likes Ashlee Boban's post.</td>\n",
       "    </tr>\n",
       "    <tr>\n",
       "      <th>1</th>\n",
       "      <td>1255727692</td>\n",
       "      <td>[{'reaction': {'reaction': 'LIKE', 'actor': 'D...</td>\n",
       "      <td>David Silva likes PUMA's post.</td>\n",
       "    </tr>\n",
       "    <tr>\n",
       "      <th>2</th>\n",
       "      <td>1255810172</td>\n",
       "      <td>[{'reaction': {'reaction': 'LIKE', 'actor': 'D...</td>\n",
       "      <td>David Silva likes Scott Pence's post.</td>\n",
       "    </tr>\n",
       "    <tr>\n",
       "      <th>3</th>\n",
       "      <td>1256162033</td>\n",
       "      <td>[{'reaction': {'reaction': 'LIKE', 'actor': 'D...</td>\n",
       "      <td>David Silva likes Chelsea Football Club's post.</td>\n",
       "    </tr>\n",
       "    <tr>\n",
       "      <th>4</th>\n",
       "      <td>1258578394</td>\n",
       "      <td>[{'reaction': {'reaction': 'LIKE', 'actor': 'D...</td>\n",
       "      <td>David Silva likes Bruno Arama's post.</td>\n",
       "    </tr>\n",
       "  </tbody>\n",
       "</table>\n",
       "</div>"
      ],
      "text/plain": [
       "    timestamp                                               data  \\\n",
       "0  1253148596  [{'reaction': {'reaction': 'LIKE', 'actor': 'D...   \n",
       "1  1255727692  [{'reaction': {'reaction': 'LIKE', 'actor': 'D...   \n",
       "2  1255810172  [{'reaction': {'reaction': 'LIKE', 'actor': 'D...   \n",
       "3  1256162033  [{'reaction': {'reaction': 'LIKE', 'actor': 'D...   \n",
       "4  1258578394  [{'reaction': {'reaction': 'LIKE', 'actor': 'D...   \n",
       "\n",
       "                                             title  \n",
       "0           David Silva likes Ashlee Boban's post.  \n",
       "1                   David Silva likes PUMA's post.  \n",
       "2            David Silva likes Scott Pence's post.  \n",
       "3  David Silva likes Chelsea Football Club's post.  \n",
       "4            David Silva likes Bruno Arama's post.  "
      ]
     },
     "execution_count": 11,
     "metadata": {},
     "output_type": "execute_result"
    }
   ],
   "source": [
    "test2.head()"
   ]
  }
 ],
 "metadata": {
  "kernelspec": {
   "display_name": "Python 3 (ipykernel)",
   "language": "python",
   "name": "python3"
  },
  "language_info": {
   "codemirror_mode": {
    "name": "ipython",
    "version": 3
   },
   "file_extension": ".py",
   "mimetype": "text/x-python",
   "name": "python",
   "nbconvert_exporter": "python",
   "pygments_lexer": "ipython3",
   "version": "3.10.4"
  }
 },
 "nbformat": 4,
 "nbformat_minor": 5
}
