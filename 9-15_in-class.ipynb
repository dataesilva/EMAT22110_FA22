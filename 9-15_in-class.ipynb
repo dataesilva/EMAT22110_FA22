{
 "cells": [
  {
   "cell_type": "code",
   "execution_count": 1,
   "id": "f061eb22",
   "metadata": {},
   "outputs": [],
   "source": [
    "import pandas as pd\n",
    "import json"
   ]
  },
  {
   "cell_type": "code",
   "execution_count": 2,
   "id": "3bb57b85",
   "metadata": {},
   "outputs": [],
   "source": [
    "with open(r\"C:\\Users\\dsilva2\\EMAT22110_FA22\\facebook-davidsilva100046_full\\comments_and_reactions\\posts_and_comments.json\") as j:\n",
    "    posts_and_comments = json.load(j)"
   ]
  },
  {
   "cell_type": "code",
   "execution_count": 3,
   "id": "5b91a082",
   "metadata": {},
   "outputs": [],
   "source": [
    "posts_and_comments_df = pd.DataFrame({'a': [1, 2, 3], 'b': [4, 5, 6], 'c': [7, 8, 9]})"
   ]
  },
  {
   "cell_type": "code",
   "execution_count": 4,
   "id": "bfbce2e2",
   "metadata": {},
   "outputs": [
    {
     "data": {
      "text/html": [
       "<div>\n",
       "<style scoped>\n",
       "    .dataframe tbody tr th:only-of-type {\n",
       "        vertical-align: middle;\n",
       "    }\n",
       "\n",
       "    .dataframe tbody tr th {\n",
       "        vertical-align: top;\n",
       "    }\n",
       "\n",
       "    .dataframe thead th {\n",
       "        text-align: right;\n",
       "    }\n",
       "</style>\n",
       "<table border=\"1\" class=\"dataframe\">\n",
       "  <thead>\n",
       "    <tr style=\"text-align: right;\">\n",
       "      <th></th>\n",
       "      <th>a</th>\n",
       "      <th>b</th>\n",
       "      <th>c</th>\n",
       "    </tr>\n",
       "  </thead>\n",
       "  <tbody>\n",
       "    <tr>\n",
       "      <th>0</th>\n",
       "      <td>1</td>\n",
       "      <td>4</td>\n",
       "      <td>7</td>\n",
       "    </tr>\n",
       "    <tr>\n",
       "      <th>1</th>\n",
       "      <td>2</td>\n",
       "      <td>5</td>\n",
       "      <td>8</td>\n",
       "    </tr>\n",
       "    <tr>\n",
       "      <th>2</th>\n",
       "      <td>3</td>\n",
       "      <td>6</td>\n",
       "      <td>9</td>\n",
       "    </tr>\n",
       "  </tbody>\n",
       "</table>\n",
       "</div>"
      ],
      "text/plain": [
       "   a  b  c\n",
       "0  1  4  7\n",
       "1  2  5  8\n",
       "2  3  6  9"
      ]
     },
     "execution_count": 4,
     "metadata": {},
     "output_type": "execute_result"
    }
   ],
   "source": [
    "posts_and_comments_df"
   ]
  },
  {
   "cell_type": "code",
   "execution_count": 5,
   "id": "bb7eaf6e",
   "metadata": {},
   "outputs": [],
   "source": [
    "posts_and_comments_df2 = pd.DataFrame([{'a': 1, 'b': 4, 'c':7}, {'a': 2, 'b':5, 'c':8}, {'a': 3, 'b': 6, 'c':9}])"
   ]
  },
  {
   "cell_type": "code",
   "execution_count": 6,
   "id": "7a72850a",
   "metadata": {},
   "outputs": [
    {
     "data": {
      "text/html": [
       "<div>\n",
       "<style scoped>\n",
       "    .dataframe tbody tr th:only-of-type {\n",
       "        vertical-align: middle;\n",
       "    }\n",
       "\n",
       "    .dataframe tbody tr th {\n",
       "        vertical-align: top;\n",
       "    }\n",
       "\n",
       "    .dataframe thead th {\n",
       "        text-align: right;\n",
       "    }\n",
       "</style>\n",
       "<table border=\"1\" class=\"dataframe\">\n",
       "  <thead>\n",
       "    <tr style=\"text-align: right;\">\n",
       "      <th></th>\n",
       "      <th>a</th>\n",
       "      <th>b</th>\n",
       "      <th>c</th>\n",
       "    </tr>\n",
       "  </thead>\n",
       "  <tbody>\n",
       "    <tr>\n",
       "      <th>0</th>\n",
       "      <td>1</td>\n",
       "      <td>4</td>\n",
       "      <td>7</td>\n",
       "    </tr>\n",
       "    <tr>\n",
       "      <th>1</th>\n",
       "      <td>2</td>\n",
       "      <td>5</td>\n",
       "      <td>8</td>\n",
       "    </tr>\n",
       "    <tr>\n",
       "      <th>2</th>\n",
       "      <td>3</td>\n",
       "      <td>6</td>\n",
       "      <td>9</td>\n",
       "    </tr>\n",
       "  </tbody>\n",
       "</table>\n",
       "</div>"
      ],
      "text/plain": [
       "   a  b  c\n",
       "0  1  4  7\n",
       "1  2  5  8\n",
       "2  3  6  9"
      ]
     },
     "execution_count": 6,
     "metadata": {},
     "output_type": "execute_result"
    }
   ],
   "source": [
    "posts_and_comments_df2"
   ]
  },
  {
   "cell_type": "code",
   "execution_count": null,
   "id": "fe916d74",
   "metadata": {},
   "outputs": [],
   "source": [
    "posts_and_comments"
   ]
  },
  {
   "cell_type": "markdown",
   "id": "54115757",
   "metadata": {},
   "source": [
    "The output from the cell above has been cleared to protect personal data."
   ]
  },
  {
   "cell_type": "code",
   "execution_count": 8,
   "id": "acf20cf9",
   "metadata": {},
   "outputs": [],
   "source": [
    "test1 = pd.DataFrame(posts_and_comments)"
   ]
  },
  {
   "cell_type": "code",
   "execution_count": 9,
   "id": "f1e36408",
   "metadata": {},
   "outputs": [
    {
     "data": {
      "text/html": [
       "<div>\n",
       "<style scoped>\n",
       "    .dataframe tbody tr th:only-of-type {\n",
       "        vertical-align: middle;\n",
       "    }\n",
       "\n",
       "    .dataframe tbody tr th {\n",
       "        vertical-align: top;\n",
       "    }\n",
       "\n",
       "    .dataframe thead th {\n",
       "        text-align: right;\n",
       "    }\n",
       "</style>\n",
       "<table border=\"1\" class=\"dataframe\">\n",
       "  <thead>\n",
       "    <tr style=\"text-align: right;\">\n",
       "      <th></th>\n",
       "      <th>reactions_v2</th>\n",
       "    </tr>\n",
       "  </thead>\n",
       "  <tbody>\n",
       "    <tr>\n",
       "      <th>0</th>\n",
       "      <td>{'timestamp': 1253148596, 'data': [{'reaction'...</td>\n",
       "    </tr>\n",
       "    <tr>\n",
       "      <th>1</th>\n",
       "      <td>{'timestamp': 1255727692, 'data': [{'reaction'...</td>\n",
       "    </tr>\n",
       "    <tr>\n",
       "      <th>2</th>\n",
       "      <td>{'timestamp': 1255810172, 'data': [{'reaction'...</td>\n",
       "    </tr>\n",
       "    <tr>\n",
       "      <th>3</th>\n",
       "      <td>{'timestamp': 1256162033, 'data': [{'reaction'...</td>\n",
       "    </tr>\n",
       "    <tr>\n",
       "      <th>4</th>\n",
       "      <td>{'timestamp': 1258578394, 'data': [{'reaction'...</td>\n",
       "    </tr>\n",
       "  </tbody>\n",
       "</table>\n",
       "</div>"
      ],
      "text/plain": [
       "                                        reactions_v2\n",
       "0  {'timestamp': 1253148596, 'data': [{'reaction'...\n",
       "1  {'timestamp': 1255727692, 'data': [{'reaction'...\n",
       "2  {'timestamp': 1255810172, 'data': [{'reaction'...\n",
       "3  {'timestamp': 1256162033, 'data': [{'reaction'...\n",
       "4  {'timestamp': 1258578394, 'data': [{'reaction'..."
      ]
     },
     "execution_count": 9,
     "metadata": {},
     "output_type": "execute_result"
    }
   ],
   "source": [
    "test1.head()"
   ]
  },
  {
   "cell_type": "code",
   "execution_count": 10,
   "id": "c37859a0",
   "metadata": {},
   "outputs": [],
   "source": [
    "test2 = pd.DataFrame(posts_and_comments['reactions_v2'])"
   ]
  },
  {
   "cell_type": "code",
   "execution_count": 11,
   "id": "1bb2c626",
   "metadata": {},
   "outputs": [
    {
     "data": {
      "text/html": [
       "<div>\n",
       "<style scoped>\n",
       "    .dataframe tbody tr th:only-of-type {\n",
       "        vertical-align: middle;\n",
       "    }\n",
       "\n",
       "    .dataframe tbody tr th {\n",
       "        vertical-align: top;\n",
       "    }\n",
       "\n",
       "    .dataframe thead th {\n",
       "        text-align: right;\n",
       "    }\n",
       "</style>\n",
       "<table border=\"1\" class=\"dataframe\">\n",
       "  <thead>\n",
       "    <tr style=\"text-align: right;\">\n",
       "      <th></th>\n",
       "      <th>timestamp</th>\n",
       "      <th>data</th>\n",
       "      <th>title</th>\n",
       "    </tr>\n",
       "  </thead>\n",
       "  <tbody>\n",
       "    <tr>\n",
       "      <th>0</th>\n",
       "      <td>1253148596</td>\n",
       "      <td>[{'reaction': {'reaction': 'LIKE', 'actor': 'D...</td>\n",
       "      <td>David Silva likes Ashlee Boban's post.</td>\n",
       "    </tr>\n",
       "    <tr>\n",
       "      <th>1</th>\n",
       "      <td>1255727692</td>\n",
       "      <td>[{'reaction': {'reaction': 'LIKE', 'actor': 'D...</td>\n",
       "      <td>David Silva likes PUMA's post.</td>\n",
       "    </tr>\n",
       "    <tr>\n",
       "      <th>2</th>\n",
       "      <td>1255810172</td>\n",
       "      <td>[{'reaction': {'reaction': 'LIKE', 'actor': 'D...</td>\n",
       "      <td>David Silva likes Scott Pence's post.</td>\n",
       "    </tr>\n",
       "    <tr>\n",
       "      <th>3</th>\n",
       "      <td>1256162033</td>\n",
       "      <td>[{'reaction': {'reaction': 'LIKE', 'actor': 'D...</td>\n",
       "      <td>David Silva likes Chelsea Football Club's post.</td>\n",
       "    </tr>\n",
       "    <tr>\n",
       "      <th>4</th>\n",
       "      <td>1258578394</td>\n",
       "      <td>[{'reaction': {'reaction': 'LIKE', 'actor': 'D...</td>\n",
       "      <td>David Silva likes Bruno Arama's post.</td>\n",
       "    </tr>\n",
       "  </tbody>\n",
       "</table>\n",
       "</div>"
      ],
      "text/plain": [
       "    timestamp                                               data  \\\n",
       "0  1253148596  [{'reaction': {'reaction': 'LIKE', 'actor': 'D...   \n",
       "1  1255727692  [{'reaction': {'reaction': 'LIKE', 'actor': 'D...   \n",
       "2  1255810172  [{'reaction': {'reaction': 'LIKE', 'actor': 'D...   \n",
       "3  1256162033  [{'reaction': {'reaction': 'LIKE', 'actor': 'D...   \n",
       "4  1258578394  [{'reaction': {'reaction': 'LIKE', 'actor': 'D...   \n",
       "\n",
       "                                             title  \n",
       "0           David Silva likes Ashlee Boban's post.  \n",
       "1                   David Silva likes PUMA's post.  \n",
       "2            David Silva likes Scott Pence's post.  \n",
       "3  David Silva likes Chelsea Football Club's post.  \n",
       "4            David Silva likes Bruno Arama's post.  "
      ]
     },
     "execution_count": 11,
     "metadata": {},
     "output_type": "execute_result"
    }
   ],
   "source": [
    "test2.head()"
   ]
  },
  {
   "cell_type": "code",
   "execution_count": 12,
   "id": "13d089a9",
   "metadata": {},
   "outputs": [
    {
     "data": {
      "text/plain": [
       "[{'reaction': {'reaction': 'LIKE', 'actor': 'David Silva'}}]"
      ]
     },
     "execution_count": 12,
     "metadata": {},
     "output_type": "execute_result"
    }
   ],
   "source": [
    "test2['data'][0]"
   ]
  },
  {
   "cell_type": "code",
   "execution_count": 13,
   "id": "68347347",
   "metadata": {},
   "outputs": [
    {
     "data": {
      "text/plain": [
       "{'reaction': {'reaction': 'LIKE', 'actor': 'David Silva'}}"
      ]
     },
     "execution_count": 13,
     "metadata": {},
     "output_type": "execute_result"
    }
   ],
   "source": [
    "test2['data'][0][0]"
   ]
  },
  {
   "cell_type": "code",
   "execution_count": 14,
   "id": "415d1832",
   "metadata": {},
   "outputs": [
    {
     "data": {
      "text/plain": [
       "{'reaction': 'LIKE', 'actor': 'David Silva'}"
      ]
     },
     "execution_count": 14,
     "metadata": {},
     "output_type": "execute_result"
    }
   ],
   "source": [
    "test2['data'][0][0]['reaction']"
   ]
  },
  {
   "cell_type": "code",
   "execution_count": 15,
   "id": "35f83219",
   "metadata": {},
   "outputs": [
    {
     "data": {
      "text/plain": [
       "'LIKE'"
      ]
     },
     "execution_count": 15,
     "metadata": {},
     "output_type": "execute_result"
    }
   ],
   "source": [
    "test2['data'][0][0]['reaction']['reaction']"
   ]
  },
  {
   "cell_type": "code",
   "execution_count": 16,
   "id": "4d395266",
   "metadata": {},
   "outputs": [],
   "source": [
    "reactions = [x[0]['reaction']['reaction'] for x in test2['data']]"
   ]
  },
  {
   "cell_type": "code",
   "execution_count": 17,
   "id": "694bc46d",
   "metadata": {},
   "outputs": [
    {
     "data": {
      "text/plain": [
       "['LIKE', 'LIKE', 'LIKE', 'LIKE', 'LIKE']"
      ]
     },
     "execution_count": 17,
     "metadata": {},
     "output_type": "execute_result"
    }
   ],
   "source": [
    "reactions[0:5]"
   ]
  },
  {
   "cell_type": "markdown",
   "id": "3322f7b7",
   "metadata": {},
   "source": [
    "The `[0:5]` in the cell above selects out the first five elements from the `reactions` list."
   ]
  },
  {
   "cell_type": "code",
   "execution_count": 18,
   "id": "4625b35e",
   "metadata": {},
   "outputs": [
    {
     "data": {
      "text/plain": [
       "1445"
      ]
     },
     "execution_count": 18,
     "metadata": {},
     "output_type": "execute_result"
    }
   ],
   "source": [
    "len(reactions)"
   ]
  },
  {
   "cell_type": "code",
   "execution_count": 19,
   "id": "a9899bc4",
   "metadata": {},
   "outputs": [],
   "source": [
    "test2['reactions'] = reactions"
   ]
  },
  {
   "cell_type": "code",
   "execution_count": 20,
   "id": "be2bdcd1",
   "metadata": {},
   "outputs": [],
   "source": [
    "actor = [x[0]['reaction']['actor'] for x in test2['data']]"
   ]
  },
  {
   "cell_type": "code",
   "execution_count": 21,
   "id": "330ba98a",
   "metadata": {},
   "outputs": [
    {
     "data": {
      "text/plain": [
       "['David Silva', 'David Silva', 'David Silva', 'David Silva', 'David Silva']"
      ]
     },
     "execution_count": 21,
     "metadata": {},
     "output_type": "execute_result"
    }
   ],
   "source": [
    "actor[0:5]"
   ]
  },
  {
   "cell_type": "code",
   "execution_count": 22,
   "id": "3f8ae573",
   "metadata": {},
   "outputs": [],
   "source": [
    "test2['actor'] = actor"
   ]
  },
  {
   "cell_type": "code",
   "execution_count": 23,
   "id": "e671e8a1",
   "metadata": {
    "scrolled": true
   },
   "outputs": [
    {
     "data": {
      "text/html": [
       "<div>\n",
       "<style scoped>\n",
       "    .dataframe tbody tr th:only-of-type {\n",
       "        vertical-align: middle;\n",
       "    }\n",
       "\n",
       "    .dataframe tbody tr th {\n",
       "        vertical-align: top;\n",
       "    }\n",
       "\n",
       "    .dataframe thead th {\n",
       "        text-align: right;\n",
       "    }\n",
       "</style>\n",
       "<table border=\"1\" class=\"dataframe\">\n",
       "  <thead>\n",
       "    <tr style=\"text-align: right;\">\n",
       "      <th></th>\n",
       "      <th>timestamp</th>\n",
       "      <th>data</th>\n",
       "      <th>title</th>\n",
       "      <th>reactions</th>\n",
       "      <th>actor</th>\n",
       "    </tr>\n",
       "  </thead>\n",
       "  <tbody>\n",
       "    <tr>\n",
       "      <th>0</th>\n",
       "      <td>1253148596</td>\n",
       "      <td>[{'reaction': {'reaction': 'LIKE', 'actor': 'D...</td>\n",
       "      <td>David Silva likes Ashlee Boban's post.</td>\n",
       "      <td>LIKE</td>\n",
       "      <td>David Silva</td>\n",
       "    </tr>\n",
       "    <tr>\n",
       "      <th>1</th>\n",
       "      <td>1255727692</td>\n",
       "      <td>[{'reaction': {'reaction': 'LIKE', 'actor': 'D...</td>\n",
       "      <td>David Silva likes PUMA's post.</td>\n",
       "      <td>LIKE</td>\n",
       "      <td>David Silva</td>\n",
       "    </tr>\n",
       "    <tr>\n",
       "      <th>2</th>\n",
       "      <td>1255810172</td>\n",
       "      <td>[{'reaction': {'reaction': 'LIKE', 'actor': 'D...</td>\n",
       "      <td>David Silva likes Scott Pence's post.</td>\n",
       "      <td>LIKE</td>\n",
       "      <td>David Silva</td>\n",
       "    </tr>\n",
       "    <tr>\n",
       "      <th>3</th>\n",
       "      <td>1256162033</td>\n",
       "      <td>[{'reaction': {'reaction': 'LIKE', 'actor': 'D...</td>\n",
       "      <td>David Silva likes Chelsea Football Club's post.</td>\n",
       "      <td>LIKE</td>\n",
       "      <td>David Silva</td>\n",
       "    </tr>\n",
       "    <tr>\n",
       "      <th>4</th>\n",
       "      <td>1258578394</td>\n",
       "      <td>[{'reaction': {'reaction': 'LIKE', 'actor': 'D...</td>\n",
       "      <td>David Silva likes Bruno Arama's post.</td>\n",
       "      <td>LIKE</td>\n",
       "      <td>David Silva</td>\n",
       "    </tr>\n",
       "  </tbody>\n",
       "</table>\n",
       "</div>"
      ],
      "text/plain": [
       "    timestamp                                               data  \\\n",
       "0  1253148596  [{'reaction': {'reaction': 'LIKE', 'actor': 'D...   \n",
       "1  1255727692  [{'reaction': {'reaction': 'LIKE', 'actor': 'D...   \n",
       "2  1255810172  [{'reaction': {'reaction': 'LIKE', 'actor': 'D...   \n",
       "3  1256162033  [{'reaction': {'reaction': 'LIKE', 'actor': 'D...   \n",
       "4  1258578394  [{'reaction': {'reaction': 'LIKE', 'actor': 'D...   \n",
       "\n",
       "                                             title reactions        actor  \n",
       "0           David Silva likes Ashlee Boban's post.      LIKE  David Silva  \n",
       "1                   David Silva likes PUMA's post.      LIKE  David Silva  \n",
       "2            David Silva likes Scott Pence's post.      LIKE  David Silva  \n",
       "3  David Silva likes Chelsea Football Club's post.      LIKE  David Silva  \n",
       "4            David Silva likes Bruno Arama's post.      LIKE  David Silva  "
      ]
     },
     "execution_count": 23,
     "metadata": {},
     "output_type": "execute_result"
    }
   ],
   "source": [
    "test2.head()"
   ]
  },
  {
   "cell_type": "code",
   "execution_count": 24,
   "id": "1c34d79e",
   "metadata": {},
   "outputs": [],
   "source": [
    "final_df = test2.drop('data', axis = 1)"
   ]
  },
  {
   "cell_type": "code",
   "execution_count": 26,
   "id": "df74eb58",
   "metadata": {},
   "outputs": [
    {
     "data": {
      "text/html": [
       "<div>\n",
       "<style scoped>\n",
       "    .dataframe tbody tr th:only-of-type {\n",
       "        vertical-align: middle;\n",
       "    }\n",
       "\n",
       "    .dataframe tbody tr th {\n",
       "        vertical-align: top;\n",
       "    }\n",
       "\n",
       "    .dataframe thead th {\n",
       "        text-align: right;\n",
       "    }\n",
       "</style>\n",
       "<table border=\"1\" class=\"dataframe\">\n",
       "  <thead>\n",
       "    <tr style=\"text-align: right;\">\n",
       "      <th></th>\n",
       "      <th>timestamp</th>\n",
       "      <th>title</th>\n",
       "      <th>reactions</th>\n",
       "      <th>actor</th>\n",
       "    </tr>\n",
       "  </thead>\n",
       "  <tbody>\n",
       "    <tr>\n",
       "      <th>0</th>\n",
       "      <td>1253148596</td>\n",
       "      <td>David Silva likes Ashlee Boban's post.</td>\n",
       "      <td>LIKE</td>\n",
       "      <td>David Silva</td>\n",
       "    </tr>\n",
       "    <tr>\n",
       "      <th>1</th>\n",
       "      <td>1255727692</td>\n",
       "      <td>David Silva likes PUMA's post.</td>\n",
       "      <td>LIKE</td>\n",
       "      <td>David Silva</td>\n",
       "    </tr>\n",
       "    <tr>\n",
       "      <th>2</th>\n",
       "      <td>1255810172</td>\n",
       "      <td>David Silva likes Scott Pence's post.</td>\n",
       "      <td>LIKE</td>\n",
       "      <td>David Silva</td>\n",
       "    </tr>\n",
       "    <tr>\n",
       "      <th>3</th>\n",
       "      <td>1256162033</td>\n",
       "      <td>David Silva likes Chelsea Football Club's post.</td>\n",
       "      <td>LIKE</td>\n",
       "      <td>David Silva</td>\n",
       "    </tr>\n",
       "    <tr>\n",
       "      <th>4</th>\n",
       "      <td>1258578394</td>\n",
       "      <td>David Silva likes Bruno Arama's post.</td>\n",
       "      <td>LIKE</td>\n",
       "      <td>David Silva</td>\n",
       "    </tr>\n",
       "  </tbody>\n",
       "</table>\n",
       "</div>"
      ],
      "text/plain": [
       "    timestamp                                            title reactions  \\\n",
       "0  1253148596           David Silva likes Ashlee Boban's post.      LIKE   \n",
       "1  1255727692                   David Silva likes PUMA's post.      LIKE   \n",
       "2  1255810172            David Silva likes Scott Pence's post.      LIKE   \n",
       "3  1256162033  David Silva likes Chelsea Football Club's post.      LIKE   \n",
       "4  1258578394            David Silva likes Bruno Arama's post.      LIKE   \n",
       "\n",
       "         actor  \n",
       "0  David Silva  \n",
       "1  David Silva  \n",
       "2  David Silva  \n",
       "3  David Silva  \n",
       "4  David Silva  "
      ]
     },
     "execution_count": 26,
     "metadata": {},
     "output_type": "execute_result"
    }
   ],
   "source": [
    "final_df.head()"
   ]
  },
  {
   "cell_type": "code",
   "execution_count": 27,
   "id": "1121f06a",
   "metadata": {},
   "outputs": [
    {
     "data": {
      "text/html": [
       "<div>\n",
       "<style scoped>\n",
       "    .dataframe tbody tr th:only-of-type {\n",
       "        vertical-align: middle;\n",
       "    }\n",
       "\n",
       "    .dataframe tbody tr th {\n",
       "        vertical-align: top;\n",
       "    }\n",
       "\n",
       "    .dataframe thead th {\n",
       "        text-align: right;\n",
       "    }\n",
       "</style>\n",
       "<table border=\"1\" class=\"dataframe\">\n",
       "  <thead>\n",
       "    <tr style=\"text-align: right;\">\n",
       "      <th></th>\n",
       "      <th>timestamp</th>\n",
       "      <th>title</th>\n",
       "      <th>actor</th>\n",
       "    </tr>\n",
       "    <tr>\n",
       "      <th>reactions</th>\n",
       "      <th></th>\n",
       "      <th></th>\n",
       "      <th></th>\n",
       "    </tr>\n",
       "  </thead>\n",
       "  <tbody>\n",
       "    <tr>\n",
       "      <th>LIKE</th>\n",
       "      <td>1388</td>\n",
       "      <td>1388</td>\n",
       "      <td>1388</td>\n",
       "    </tr>\n",
       "    <tr>\n",
       "      <th>LOVE</th>\n",
       "      <td>52</td>\n",
       "      <td>52</td>\n",
       "      <td>52</td>\n",
       "    </tr>\n",
       "    <tr>\n",
       "      <th>HAHA</th>\n",
       "      <td>4</td>\n",
       "      <td>4</td>\n",
       "      <td>4</td>\n",
       "    </tr>\n",
       "    <tr>\n",
       "      <th>SORRY</th>\n",
       "      <td>1</td>\n",
       "      <td>1</td>\n",
       "      <td>1</td>\n",
       "    </tr>\n",
       "  </tbody>\n",
       "</table>\n",
       "</div>"
      ],
      "text/plain": [
       "           timestamp  title  actor\n",
       "reactions                         \n",
       "LIKE            1388   1388   1388\n",
       "LOVE              52     52     52\n",
       "HAHA               4      4      4\n",
       "SORRY              1      1      1"
      ]
     },
     "execution_count": 27,
     "metadata": {},
     "output_type": "execute_result"
    }
   ],
   "source": [
    "final_df.groupby('reactions').count().sort_values('title', ascending=False)"
   ]
  }
 ],
 "metadata": {
  "kernelspec": {
   "display_name": "Python 3 (ipykernel)",
   "language": "python",
   "name": "python3"
  },
  "language_info": {
   "codemirror_mode": {
    "name": "ipython",
    "version": 3
   },
   "file_extension": ".py",
   "mimetype": "text/x-python",
   "name": "python",
   "nbconvert_exporter": "python",
   "pygments_lexer": "ipython3",
   "version": "3.10.4"
  }
 },
 "nbformat": 4,
 "nbformat_minor": 5
}
