{
 "cells": [
  {
   "cell_type": "markdown",
   "id": "77ea2622",
   "metadata": {},
   "source": [
    "## Systems Check Assignment\n",
    "### By David E. Silva\n",
    "### 9/1/2022\n",
    "\n",
    "\n",
    "### Why are we here?\n",
    "To *learn* some _stuff_.\n",
    "\n",
    "Check out this list of things:\n",
    "1. David\n",
    "2. Amelia\n",
    "3. Kaia\n",
    "\n",
    "And in no particular order:\n",
    "- David\n",
    "- Amelia\n",
    "- Kaia"
   ]
  },
  {
   "cell_type": "markdown",
   "id": "213c47bd",
   "metadata": {},
   "source": [
    "And this is the bike that I ride:![](https://cloudfront-us-east-1.images.arcpublishing.com/octane/UIL2OE5J2NNLPWOFN3KNCCSHDY.jpg)"
   ]
  },
  {
   "cell_type": "code",
   "execution_count": 2,
   "id": "3178b824",
   "metadata": {},
   "outputs": [
    {
     "name": "stdout",
     "output_type": "stream",
     "text": [
      "1\n",
      "2\n",
      "3\n",
      "4\n"
     ]
    }
   ],
   "source": [
    "for i in [1,2,3,4]:\n",
    "    print(i)"
   ]
  },
  {
   "cell_type": "code",
   "execution_count": 3,
   "id": "c0d04c51",
   "metadata": {},
   "outputs": [
    {
     "name": "stdout",
     "output_type": "stream",
     "text": [
      "David\n"
     ]
    }
   ],
   "source": [
    "x = \"David\"\n",
    "print(x)"
   ]
  },
  {
   "cell_type": "code",
   "execution_count": 5,
   "id": "7ce92894",
   "metadata": {},
   "outputs": [],
   "source": [
    "def names (x):\n",
    "    return(x)"
   ]
  },
  {
   "cell_type": "code",
   "execution_count": 6,
   "id": "5fadc285",
   "metadata": {},
   "outputs": [
    {
     "name": "stdout",
     "output_type": "stream",
     "text": [
      "David\n"
     ]
    }
   ],
   "source": [
    "y = names(\"David\")\n",
    "print(y)"
   ]
  }
 ],
 "metadata": {
  "kernelspec": {
   "display_name": "Python 3 (ipykernel)",
   "language": "python",
   "name": "python3"
  },
  "language_info": {
   "codemirror_mode": {
    "name": "ipython",
    "version": 3
   },
   "file_extension": ".py",
   "mimetype": "text/x-python",
   "name": "python",
   "nbconvert_exporter": "python",
   "pygments_lexer": "ipython3",
   "version": "3.10.4"
  }
 },
 "nbformat": 4,
 "nbformat_minor": 5
}
