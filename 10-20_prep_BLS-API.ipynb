{
 "cells": [
  {
   "cell_type": "code",
   "execution_count": 8,
   "id": "d6ac2b15",
   "metadata": {},
   "outputs": [],
   "source": [
    "import requests\n",
    "import json\n",
    "import pandas as pd"
   ]
  },
  {
   "cell_type": "markdown",
   "id": "0de6725f",
   "metadata": {},
   "source": [
    "### U.S. Bureau of Labor Statistics\n",
    "Start by choosing a dataset from the [Series ID Formats page](https://www.bls.gov/help/hlpforma.htm#OEUS)"
   ]
  },
  {
   "cell_type": "code",
   "execution_count": 2,
   "id": "c30a7b4b",
   "metadata": {},
   "outputs": [],
   "source": [
    "header = {'Content-type': 'application/json'}\n",
    "payload = json.dumps({\"seriesid\": ['CUUR0000SA0','SUUR0000SA0'],\"startyear\":\"2011\", \"endyear\":\"2014\"})\n",
    "p = requests.request(\"POST\", 'https://api.bls.gov/publicAPI/v2/timeseries/data/', data = payload, headers = header)"
   ]
  },
  {
   "cell_type": "code",
   "execution_count": 3,
   "id": "4a0b5805",
   "metadata": {},
   "outputs": [
    {
     "data": {
      "text/plain": [
       "<Response [200]>"
      ]
     },
     "execution_count": 3,
     "metadata": {},
     "output_type": "execute_result"
    }
   ],
   "source": [
    "p"
   ]
  },
  {
   "cell_type": "code",
   "execution_count": 4,
   "id": "b9758e5f",
   "metadata": {},
   "outputs": [
    {
     "data": {
      "text/plain": [
       "'{\"status\":\"REQUEST_SUCCEEDED\",\"responseTime\":220,\"message\":[],\"Results\":{\\n\"series\":\\n[{\"seriesID\":\"CUUR0000SA0\",\"data\":[{\"year\":\"2014\",\"period\":\"M12\",\"periodName\":\"December\",\"value\":\"234.812\",\"footnotes\":[{}]},{\"year\":\"2014\",\"period\":\"M11\",\"periodName\":\"November\",\"value\":\"236.151\",\"footnotes\":[{}]},{\"year\":\"2014\",\"period\":\"M10\",\"periodName\":\"October\",\"value\":\"237.433\",\"footnotes\":[{}]},{\"year\":\"2014\",\"period\":\"M09\",\"periodName\":\"September\",\"value\":\"238.031\",\"footnotes\":[{}]},{\"year\":\"2014\",\"period\":\"M08\",\"periodName\":\"August\",\"value\":\"237.852\",\"footnotes\":[{}]},{\"year\":\"2014\",\"period\":\"M07\",\"periodName\":\"July\",\"value\":\"238.250\",\"footnotes\":[{}]},{\"year\":\"2014\",\"period\":\"M06\",\"periodName\":\"June\",\"value\":\"238.343\",\"footnotes\":[{}]},{\"year\":\"2014\",\"period\":\"M05\",\"periodName\":\"May\",\"value\":\"237.900\",\"footnotes\":[{}]},{\"year\":\"2014\",\"period\":\"M04\",\"periodName\":\"April\",\"value\":\"237.072\",\"footnotes\":[{}]},{\"year\":\"2014\",\"period\":\"M03\",\"periodName\":\"March\",\"value\":\"236.293\",\"footnotes\":[{}]},{\"year\":\"2014\",\"period\":\"M02\",\"periodName\":\"February\",\"value\":\"234.781\",\"footnotes\":[{}]},{\"year\":\"2014\",\"period\":\"M01\",\"periodName\":\"January\",\"value\":\"233.916\",\"footnotes\":[{}]},{\"year\":\"2013\",\"period\":\"M12\",\"periodName\":\"December\",\"value\":\"233.049\",\"footnotes\":[{}]},{\"year\":\"2013\",\"period\":\"M11\",\"periodName\":\"November\",\"value\":\"233.069\",\"footnotes\":[{}]},{\"year\":\"2013\",\"period\":\"M10\",\"periodName\":\"October\",\"value\":\"233.546\",\"footnotes\":[{}]},{\"year\":\"2013\",\"period\":\"M09\",\"periodName\":\"September\",\"value\":\"234.149\",\"footnotes\":[{}]},{\"year\":\"2013\",\"period\":\"M08\",\"periodName\":\"August\",\"value\":\"233.877\",\"footnotes\":[{}]},{\"year\":\"2013\",\"period\":\"M07\",\"periodName\":\"July\",\"value\":\"233.596\",\"footnotes\":[{}]},{\"year\":\"2013\",\"period\":\"M06\",\"periodName\":\"June\",\"value\":\"233.504\",\"footnotes\":[{}]},{\"year\":\"2013\",\"period\":\"M05\",\"periodName\":\"May\",\"value\":\"232.945\",\"footnotes\":[{}]},{\"year\":\"2013\",\"period\":\"M04\",\"periodName\":\"April\",\"value\":\"232.531\",\"footnotes\":[{}]},{\"year\":\"2013\",\"period\":\"M03\",\"periodName\":\"March\",\"value\":\"232.773\",\"footnotes\":[{}]},{\"year\":\"2013\",\"period\":\"M02\",\"periodName\":\"February\",\"value\":\"232.166\",\"footnotes\":[{}]},{\"year\":\"2013\",\"period\":\"M01\",\"periodName\":\"January\",\"value\":\"230.280\",\"footnotes\":[{}]},{\"year\":\"2012\",\"period\":\"M12\",\"periodName\":\"December\",\"value\":\"229.601\",\"footnotes\":[{}]},{\"year\":\"2012\",\"period\":\"M11\",\"periodName\":\"November\",\"value\":\"230.221\",\"footnotes\":[{}]},{\"year\":\"2012\",\"period\":\"M10\",\"periodName\":\"October\",\"value\":\"231.317\",\"footnotes\":[{}]},{\"year\":\"2012\",\"period\":\"M09\",\"periodName\":\"September\",\"value\":\"231.407\",\"footnotes\":[{}]},{\"year\":\"2012\",\"period\":\"M08\",\"periodName\":\"August\",\"value\":\"230.379\",\"footnotes\":[{}]},{\"year\":\"2012\",\"period\":\"M07\",\"periodName\":\"July\",\"value\":\"229.104\",\"footnotes\":[{}]},{\"year\":\"2012\",\"period\":\"M06\",\"periodName\":\"June\",\"value\":\"229.478\",\"footnotes\":[{}]},{\"year\":\"2012\",\"period\":\"M05\",\"periodName\":\"May\",\"value\":\"229.815\",\"footnotes\":[{}]},{\"year\":\"2012\",\"period\":\"M04\",\"periodName\":\"April\",\"value\":\"230.085\",\"footnotes\":[{}]},{\"year\":\"2012\",\"period\":\"M03\",\"periodName\":\"March\",\"value\":\"229.392\",\"footnotes\":[{}]},{\"year\":\"2012\",\"period\":\"M02\",\"periodName\":\"February\",\"value\":\"227.663\",\"footnotes\":[{}]},{\"year\":\"2012\",\"period\":\"M01\",\"periodName\":\"January\",\"value\":\"226.665\",\"footnotes\":[{}]},{\"year\":\"2011\",\"period\":\"M12\",\"periodName\":\"December\",\"value\":\"225.672\",\"footnotes\":[{}]},{\"year\":\"2011\",\"period\":\"M11\",\"periodName\":\"November\",\"value\":\"226.230\",\"footnotes\":[{}]},{\"year\":\"2011\",\"period\":\"M10\",\"periodName\":\"October\",\"value\":\"226.421\",\"footnotes\":[{}]},{\"year\":\"2011\",\"period\":\"M09\",\"periodName\":\"September\",\"value\":\"226.889\",\"footnotes\":[{}]},{\"year\":\"2011\",\"period\":\"M08\",\"periodName\":\"August\",\"value\":\"226.545\",\"footnotes\":[{}]},{\"year\":\"2011\",\"period\":\"M07\",\"periodName\":\"July\",\"value\":\"225.922\",\"footnotes\":[{}]},{\"year\":\"2011\",\"period\":\"M06\",\"periodName\":\"June\",\"value\":\"225.722\",\"footnotes\":[{}]},{\"year\":\"2011\",\"period\":\"M05\",\"periodName\":\"May\",\"value\":\"225.964\",\"footnotes\":[{}]},{\"year\":\"2011\",\"period\":\"M04\",\"periodName\":\"April\",\"value\":\"224.906\",\"footnotes\":[{}]},{\"year\":\"2011\",\"period\":\"M03\",\"periodName\":\"March\",\"value\":\"223.467\",\"footnotes\":[{}]},{\"year\":\"2011\",\"period\":\"M02\",\"periodName\":\"February\",\"value\":\"221.309\",\"footnotes\":[{}]},{\"year\":\"2011\",\"period\":\"M01\",\"periodName\":\"January\",\"value\":\"220.223\",\"footnotes\":[{}]}]},\\n{\"seriesID\":\"SUUR0000SA0\",\"data\":[{\"year\":\"2014\",\"period\":\"M12\",\"periodName\":\"December\",\"value\":\"134.207\",\"footnotes\":[{}]},{\"year\":\"2014\",\"period\":\"M11\",\"periodName\":\"November\",\"value\":\"135.107\",\"footnotes\":[{}]},{\"year\":\"2014\",\"period\":\"M10\",\"periodName\":\"October\",\"value\":\"135.891\",\"footnotes\":[{}]},{\"year\":\"2014\",\"period\":\"M09\",\"periodName\":\"September\",\"value\":\"136.211\",\"footnotes\":[{}]},{\"year\":\"2014\",\"period\":\"M08\",\"periodName\":\"August\",\"value\":\"136.127\",\"footnotes\":[{}]},{\"year\":\"2014\",\"period\":\"M07\",\"periodName\":\"July\",\"value\":\"136.392\",\"footnotes\":[{}]},{\"year\":\"2014\",\"period\":\"M06\",\"periodName\":\"June\",\"value\":\"136.433\",\"footnotes\":[{}]},{\"year\":\"2014\",\"period\":\"M05\",\"periodName\":\"May\",\"value\":\"136.216\",\"footnotes\":[{}]},{\"year\":\"2014\",\"period\":\"M04\",\"periodName\":\"April\",\"value\":\"135.771\",\"footnotes\":[{}]},{\"year\":\"2014\",\"period\":\"M03\",\"periodName\":\"March\",\"value\":\"135.375\",\"footnotes\":[{}]},{\"year\":\"2014\",\"period\":\"M02\",\"periodName\":\"February\",\"value\":\"134.542\",\"footnotes\":[{}]},{\"year\":\"2014\",\"period\":\"M01\",\"periodName\":\"January\",\"value\":\"134.017\",\"footnotes\":[{}]},{\"year\":\"2013\",\"period\":\"M12\",\"periodName\":\"December\",\"value\":\"133.509\",\"footnotes\":[{}]},{\"year\":\"2013\",\"period\":\"M11\",\"periodName\":\"November\",\"value\":\"133.596\",\"footnotes\":[{}]},{\"year\":\"2013\",\"period\":\"M10\",\"periodName\":\"October\",\"value\":\"133.876\",\"footnotes\":[{}]},{\"year\":\"2013\",\"period\":\"M09\",\"periodName\":\"September\",\"value\":\"134.255\",\"footnotes\":[{}]},{\"year\":\"2013\",\"period\":\"M08\",\"periodName\":\"August\",\"value\":\"134.098\",\"footnotes\":[{}]},{\"year\":\"2013\",\"period\":\"M07\",\"periodName\":\"July\",\"value\":\"133.919\",\"footnotes\":[{}]},{\"year\":\"2013\",\"period\":\"M06\",\"periodName\":\"June\",\"value\":\"133.900\",\"footnotes\":[{}]},{\"year\":\"2013\",\"period\":\"M05\",\"periodName\":\"May\",\"value\":\"133.626\",\"footnotes\":[{}]},{\"year\":\"2013\",\"period\":\"M04\",\"periodName\":\"April\",\"value\":\"133.421\",\"footnotes\":[{}]},{\"year\":\"2013\",\"period\":\"M03\",\"periodName\":\"March\",\"value\":\"133.558\",\"footnotes\":[{}]},{\"year\":\"2013\",\"period\":\"M02\",\"periodName\":\"February\",\"value\":\"133.204\",\"footnotes\":[{}]},{\"year\":\"2013\",\"period\":\"M01\",\"periodName\":\"January\",\"value\":\"132.137\",\"footnotes\":[{}]},{\"year\":\"2012\",\"period\":\"M12\",\"periodName\":\"December\",\"value\":\"131.770\",\"footnotes\":[{}]},{\"year\":\"2012\",\"period\":\"M11\",\"periodName\":\"November\",\"value\":\"132.208\",\"footnotes\":[{}]},{\"year\":\"2012\",\"period\":\"M10\",\"periodName\":\"October\",\"value\":\"132.892\",\"footnotes\":[{}]},{\"year\":\"2012\",\"period\":\"M09\",\"periodName\":\"September\",\"value\":\"132.988\",\"footnotes\":[{}]},{\"year\":\"2012\",\"period\":\"M08\",\"periodName\":\"August\",\"value\":\"132.430\",\"footnotes\":[{}]},{\"year\":\"2012\",\"period\":\"M07\",\"periodName\":\"July\",\"value\":\"131.731\",\"footnotes\":[{}]},{\"year\":\"2012\",\"period\":\"M06\",\"periodName\":\"June\",\"value\":\"131.956\",\"footnotes\":[{}]},{\"year\":\"2012\",\"period\":\"M05\",\"periodName\":\"May\",\"value\":\"132.154\",\"footnotes\":[{}]},{\"year\":\"2012\",\"period\":\"M04\",\"periodName\":\"April\",\"value\":\"132.284\",\"footnotes\":[{}]},{\"year\":\"2012\",\"period\":\"M03\",\"periodName\":\"March\",\"value\":\"131.905\",\"footnotes\":[{}]},{\"year\":\"2012\",\"period\":\"M02\",\"periodName\":\"February\",\"value\":\"130.953\",\"footnotes\":[{}]},{\"year\":\"2012\",\"period\":\"M01\",\"periodName\":\"January\",\"value\":\"130.438\",\"footnotes\":[{}]},{\"year\":\"2011\",\"period\":\"M12\",\"periodName\":\"December\",\"value\":\"129.844\",\"footnotes\":[{}]},{\"year\":\"2011\",\"period\":\"M11\",\"periodName\":\"November\",\"value\":\"130.196\",\"footnotes\":[{}]},{\"year\":\"2011\",\"period\":\"M10\",\"periodName\":\"October\",\"value\":\"130.373\",\"footnotes\":[{}]},{\"year\":\"2011\",\"period\":\"M09\",\"periodName\":\"September\",\"value\":\"130.635\",\"footnotes\":[{}]},{\"year\":\"2011\",\"period\":\"M08\",\"periodName\":\"August\",\"value\":\"130.351\",\"footnotes\":[{}]},{\"year\":\"2011\",\"period\":\"M07\",\"periodName\":\"July\",\"value\":\"129.983\",\"footnotes\":[{}]},{\"year\":\"2011\",\"period\":\"M06\",\"periodName\":\"June\",\"value\":\"129.846\",\"footnotes\":[{}]},{\"year\":\"2011\",\"period\":\"M05\",\"periodName\":\"May\",\"value\":\"129.999\",\"footnotes\":[{}]},{\"year\":\"2011\",\"period\":\"M04\",\"periodName\":\"April\",\"value\":\"129.483\",\"footnotes\":[{}]},{\"year\":\"2011\",\"period\":\"M03\",\"periodName\":\"March\",\"value\":\"128.585\",\"footnotes\":[{}]},{\"year\":\"2011\",\"period\":\"M02\",\"periodName\":\"February\",\"value\":\"127.363\",\"footnotes\":[{}]},{\"year\":\"2011\",\"period\":\"M01\",\"periodName\":\"January\",\"value\":\"126.778\",\"footnotes\":[{}]}]}]\\n}}'"
      ]
     },
     "execution_count": 4,
     "metadata": {},
     "output_type": "execute_result"
    }
   ],
   "source": [
    "p.text"
   ]
  },
  {
   "cell_type": "code",
   "execution_count": 42,
   "id": "c822c301",
   "metadata": {},
   "outputs": [],
   "source": [
    "url = 'https://api.bls.gov/publicAPI/v2/timeseries/data/CUUR0000SA0L1E'\n",
    "pi = requests.post(url, headers = header)"
   ]
  },
  {
   "cell_type": "code",
   "execution_count": 43,
   "id": "261bced6",
   "metadata": {},
   "outputs": [
    {
     "data": {
      "text/plain": [
       "<Response [200]>"
      ]
     },
     "execution_count": 43,
     "metadata": {},
     "output_type": "execute_result"
    }
   ],
   "source": [
    "pi"
   ]
  },
  {
   "cell_type": "code",
   "execution_count": 44,
   "id": "252b0996",
   "metadata": {},
   "outputs": [
    {
     "data": {
      "text/plain": [
       "'{\"status\":\"REQUEST_SUCCEEDED\",\"responseTime\":213,\"message\":[],\"Results\":{\\n\"series\":\\n[{\"seriesID\":\"CUUR0000SA0L1E\",\"data\":[{\"year\":\"2022\",\"period\":\"M09\",\"periodName\":\"September\",\"latest\":\"true\",\"value\":\"298.442\",\"footnotes\":[{}]},{\"year\":\"2022\",\"period\":\"M08\",\"periodName\":\"August\",\"value\":\"297.178\",\"footnotes\":[{}]},{\"year\":\"2022\",\"period\":\"M07\",\"periodName\":\"July\",\"value\":\"295.646\",\"footnotes\":[{}]},{\"year\":\"2022\",\"period\":\"M06\",\"periodName\":\"June\",\"value\":\"294.680\",\"footnotes\":[{}]},{\"year\":\"2022\",\"period\":\"M05\",\"periodName\":\"May\",\"value\":\"292.506\",\"footnotes\":[{}]},{\"year\":\"2022\",\"period\":\"M04\",\"periodName\":\"April\",\"value\":\"290.846\",\"footnotes\":[{}]},{\"year\":\"2022\",\"period\":\"M03\",\"periodName\":\"March\",\"value\":\"289.305\",\"footnotes\":[{}]},{\"year\":\"2022\",\"period\":\"M02\",\"periodName\":\"February\",\"value\":\"288.059\",\"footnotes\":[{}]},{\"year\":\"2022\",\"period\":\"M01\",\"periodName\":\"January\",\"value\":\"285.996\",\"footnotes\":[{}]},{\"year\":\"2021\",\"period\":\"M12\",\"periodName\":\"December\",\"value\":\"283.908\",\"footnotes\":[{}]},{\"year\":\"2021\",\"period\":\"M11\",\"periodName\":\"November\",\"value\":\"282.754\",\"footnotes\":[{}]},{\"year\":\"2021\",\"period\":\"M10\",\"periodName\":\"October\",\"value\":\"281.617\",\"footnotes\":[{}]},{\"year\":\"2021\",\"period\":\"M09\",\"periodName\":\"September\",\"value\":\"279.884\",\"footnotes\":[{}]},{\"year\":\"2021\",\"period\":\"M08\",\"periodName\":\"August\",\"value\":\"279.507\",\"footnotes\":[{}]},{\"year\":\"2021\",\"period\":\"M07\",\"periodName\":\"July\",\"value\":\"279.146\",\"footnotes\":[{}]},{\"year\":\"2021\",\"period\":\"M06\",\"periodName\":\"June\",\"value\":\"278.218\",\"footnotes\":[{}]},{\"year\":\"2021\",\"period\":\"M05\",\"periodName\":\"May\",\"value\":\"275.893\",\"footnotes\":[{}]},{\"year\":\"2021\",\"period\":\"M04\",\"periodName\":\"April\",\"value\":\"273.968\",\"footnotes\":[{}]},{\"year\":\"2021\",\"period\":\"M03\",\"periodName\":\"March\",\"value\":\"271.713\",\"footnotes\":[{}]},{\"year\":\"2021\",\"period\":\"M02\",\"periodName\":\"February\",\"value\":\"270.696\",\"footnotes\":[{}]},{\"year\":\"2021\",\"period\":\"M01\",\"periodName\":\"January\",\"value\":\"269.755\",\"footnotes\":[{}]},{\"year\":\"2020\",\"period\":\"M12\",\"periodName\":\"December\",\"value\":\"269.226\",\"footnotes\":[{}]},{\"year\":\"2020\",\"period\":\"M11\",\"periodName\":\"November\",\"value\":\"269.473\",\"footnotes\":[{}]},{\"year\":\"2020\",\"period\":\"M10\",\"periodName\":\"October\",\"value\":\"269.328\",\"footnotes\":[{}]},{\"year\":\"2020\",\"period\":\"M09\",\"periodName\":\"September\",\"value\":\"269.054\",\"footnotes\":[{}]},{\"year\":\"2020\",\"period\":\"M08\",\"periodName\":\"August\",\"value\":\"268.756\",\"footnotes\":[{}]},{\"year\":\"2020\",\"period\":\"M07\",\"periodName\":\"July\",\"value\":\"267.703\",\"footnotes\":[{}]},{\"year\":\"2020\",\"period\":\"M06\",\"periodName\":\"June\",\"value\":\"266.302\",\"footnotes\":[{}]},{\"year\":\"2020\",\"period\":\"M05\",\"periodName\":\"May\",\"value\":\"265.799\",\"footnotes\":[{}]},{\"year\":\"2020\",\"period\":\"M04\",\"periodName\":\"April\",\"value\":\"266.089\",\"footnotes\":[{}]},{\"year\":\"2020\",\"period\":\"M03\",\"periodName\":\"March\",\"value\":\"267.312\",\"footnotes\":[{}]},{\"year\":\"2020\",\"period\":\"M02\",\"periodName\":\"February\",\"value\":\"267.268\",\"footnotes\":[{}]},{\"year\":\"2020\",\"period\":\"M01\",\"periodName\":\"January\",\"value\":\"266.004\",\"footnotes\":[{}]}]}]\\n}}'"
      ]
     },
     "execution_count": 44,
     "metadata": {},
     "output_type": "execute_result"
    }
   ],
   "source": [
    "pi.text"
   ]
  },
  {
   "cell_type": "code",
   "execution_count": 45,
   "id": "359e5b5a",
   "metadata": {},
   "outputs": [],
   "source": [
    "bls_data = json.loads(pi.text)"
   ]
  },
  {
   "cell_type": "code",
   "execution_count": 46,
   "id": "c52b0923",
   "metadata": {},
   "outputs": [
    {
     "data": {
      "text/plain": [
       "dict_keys(['status', 'responseTime', 'message', 'Results'])"
      ]
     },
     "execution_count": 46,
     "metadata": {},
     "output_type": "execute_result"
    }
   ],
   "source": [
    "bls_data.keys()"
   ]
  },
  {
   "cell_type": "code",
   "execution_count": 56,
   "id": "9b97bb6a",
   "metadata": {},
   "outputs": [
    {
     "data": {
      "text/plain": [
       "[{'year': '2022',\n",
       "  'period': 'M09',\n",
       "  'periodName': 'September',\n",
       "  'latest': 'true',\n",
       "  'value': '298.442',\n",
       "  'footnotes': [{}]},\n",
       " {'year': '2022',\n",
       "  'period': 'M08',\n",
       "  'periodName': 'August',\n",
       "  'value': '297.178',\n",
       "  'footnotes': [{}]},\n",
       " {'year': '2022',\n",
       "  'period': 'M07',\n",
       "  'periodName': 'July',\n",
       "  'value': '295.646',\n",
       "  'footnotes': [{}]},\n",
       " {'year': '2022',\n",
       "  'period': 'M06',\n",
       "  'periodName': 'June',\n",
       "  'value': '294.680',\n",
       "  'footnotes': [{}]},\n",
       " {'year': '2022',\n",
       "  'period': 'M05',\n",
       "  'periodName': 'May',\n",
       "  'value': '292.506',\n",
       "  'footnotes': [{}]},\n",
       " {'year': '2022',\n",
       "  'period': 'M04',\n",
       "  'periodName': 'April',\n",
       "  'value': '290.846',\n",
       "  'footnotes': [{}]},\n",
       " {'year': '2022',\n",
       "  'period': 'M03',\n",
       "  'periodName': 'March',\n",
       "  'value': '289.305',\n",
       "  'footnotes': [{}]},\n",
       " {'year': '2022',\n",
       "  'period': 'M02',\n",
       "  'periodName': 'February',\n",
       "  'value': '288.059',\n",
       "  'footnotes': [{}]},\n",
       " {'year': '2022',\n",
       "  'period': 'M01',\n",
       "  'periodName': 'January',\n",
       "  'value': '285.996',\n",
       "  'footnotes': [{}]},\n",
       " {'year': '2021',\n",
       "  'period': 'M12',\n",
       "  'periodName': 'December',\n",
       "  'value': '283.908',\n",
       "  'footnotes': [{}]},\n",
       " {'year': '2021',\n",
       "  'period': 'M11',\n",
       "  'periodName': 'November',\n",
       "  'value': '282.754',\n",
       "  'footnotes': [{}]},\n",
       " {'year': '2021',\n",
       "  'period': 'M10',\n",
       "  'periodName': 'October',\n",
       "  'value': '281.617',\n",
       "  'footnotes': [{}]},\n",
       " {'year': '2021',\n",
       "  'period': 'M09',\n",
       "  'periodName': 'September',\n",
       "  'value': '279.884',\n",
       "  'footnotes': [{}]},\n",
       " {'year': '2021',\n",
       "  'period': 'M08',\n",
       "  'periodName': 'August',\n",
       "  'value': '279.507',\n",
       "  'footnotes': [{}]},\n",
       " {'year': '2021',\n",
       "  'period': 'M07',\n",
       "  'periodName': 'July',\n",
       "  'value': '279.146',\n",
       "  'footnotes': [{}]},\n",
       " {'year': '2021',\n",
       "  'period': 'M06',\n",
       "  'periodName': 'June',\n",
       "  'value': '278.218',\n",
       "  'footnotes': [{}]},\n",
       " {'year': '2021',\n",
       "  'period': 'M05',\n",
       "  'periodName': 'May',\n",
       "  'value': '275.893',\n",
       "  'footnotes': [{}]},\n",
       " {'year': '2021',\n",
       "  'period': 'M04',\n",
       "  'periodName': 'April',\n",
       "  'value': '273.968',\n",
       "  'footnotes': [{}]},\n",
       " {'year': '2021',\n",
       "  'period': 'M03',\n",
       "  'periodName': 'March',\n",
       "  'value': '271.713',\n",
       "  'footnotes': [{}]},\n",
       " {'year': '2021',\n",
       "  'period': 'M02',\n",
       "  'periodName': 'February',\n",
       "  'value': '270.696',\n",
       "  'footnotes': [{}]},\n",
       " {'year': '2021',\n",
       "  'period': 'M01',\n",
       "  'periodName': 'January',\n",
       "  'value': '269.755',\n",
       "  'footnotes': [{}]},\n",
       " {'year': '2020',\n",
       "  'period': 'M12',\n",
       "  'periodName': 'December',\n",
       "  'value': '269.226',\n",
       "  'footnotes': [{}]},\n",
       " {'year': '2020',\n",
       "  'period': 'M11',\n",
       "  'periodName': 'November',\n",
       "  'value': '269.473',\n",
       "  'footnotes': [{}]},\n",
       " {'year': '2020',\n",
       "  'period': 'M10',\n",
       "  'periodName': 'October',\n",
       "  'value': '269.328',\n",
       "  'footnotes': [{}]},\n",
       " {'year': '2020',\n",
       "  'period': 'M09',\n",
       "  'periodName': 'September',\n",
       "  'value': '269.054',\n",
       "  'footnotes': [{}]},\n",
       " {'year': '2020',\n",
       "  'period': 'M08',\n",
       "  'periodName': 'August',\n",
       "  'value': '268.756',\n",
       "  'footnotes': [{}]},\n",
       " {'year': '2020',\n",
       "  'period': 'M07',\n",
       "  'periodName': 'July',\n",
       "  'value': '267.703',\n",
       "  'footnotes': [{}]},\n",
       " {'year': '2020',\n",
       "  'period': 'M06',\n",
       "  'periodName': 'June',\n",
       "  'value': '266.302',\n",
       "  'footnotes': [{}]},\n",
       " {'year': '2020',\n",
       "  'period': 'M05',\n",
       "  'periodName': 'May',\n",
       "  'value': '265.799',\n",
       "  'footnotes': [{}]},\n",
       " {'year': '2020',\n",
       "  'period': 'M04',\n",
       "  'periodName': 'April',\n",
       "  'value': '266.089',\n",
       "  'footnotes': [{}]},\n",
       " {'year': '2020',\n",
       "  'period': 'M03',\n",
       "  'periodName': 'March',\n",
       "  'value': '267.312',\n",
       "  'footnotes': [{}]},\n",
       " {'year': '2020',\n",
       "  'period': 'M02',\n",
       "  'periodName': 'February',\n",
       "  'value': '267.268',\n",
       "  'footnotes': [{}]},\n",
       " {'year': '2020',\n",
       "  'period': 'M01',\n",
       "  'periodName': 'January',\n",
       "  'value': '266.004',\n",
       "  'footnotes': [{}]}]"
      ]
     },
     "execution_count": 56,
     "metadata": {},
     "output_type": "execute_result"
    }
   ],
   "source": [
    "bls_data['Results']['series'][0]['data']"
   ]
  },
  {
   "cell_type": "code",
   "execution_count": 57,
   "id": "54b9b32d",
   "metadata": {},
   "outputs": [],
   "source": [
    "bls_df = pd.DataFrame(bls_data['Results']['series'][0]['data'])"
   ]
  },
  {
   "cell_type": "code",
   "execution_count": 58,
   "id": "62e6b413",
   "metadata": {},
   "outputs": [
    {
     "data": {
      "text/html": [
       "<div>\n",
       "<style scoped>\n",
       "    .dataframe tbody tr th:only-of-type {\n",
       "        vertical-align: middle;\n",
       "    }\n",
       "\n",
       "    .dataframe tbody tr th {\n",
       "        vertical-align: top;\n",
       "    }\n",
       "\n",
       "    .dataframe thead th {\n",
       "        text-align: right;\n",
       "    }\n",
       "</style>\n",
       "<table border=\"1\" class=\"dataframe\">\n",
       "  <thead>\n",
       "    <tr style=\"text-align: right;\">\n",
       "      <th></th>\n",
       "      <th>year</th>\n",
       "      <th>period</th>\n",
       "      <th>periodName</th>\n",
       "      <th>latest</th>\n",
       "      <th>value</th>\n",
       "      <th>footnotes</th>\n",
       "    </tr>\n",
       "  </thead>\n",
       "  <tbody>\n",
       "    <tr>\n",
       "      <th>0</th>\n",
       "      <td>2022</td>\n",
       "      <td>M09</td>\n",
       "      <td>September</td>\n",
       "      <td>true</td>\n",
       "      <td>298.442</td>\n",
       "      <td>[{}]</td>\n",
       "    </tr>\n",
       "    <tr>\n",
       "      <th>1</th>\n",
       "      <td>2022</td>\n",
       "      <td>M08</td>\n",
       "      <td>August</td>\n",
       "      <td>NaN</td>\n",
       "      <td>297.178</td>\n",
       "      <td>[{}]</td>\n",
       "    </tr>\n",
       "    <tr>\n",
       "      <th>2</th>\n",
       "      <td>2022</td>\n",
       "      <td>M07</td>\n",
       "      <td>July</td>\n",
       "      <td>NaN</td>\n",
       "      <td>295.646</td>\n",
       "      <td>[{}]</td>\n",
       "    </tr>\n",
       "    <tr>\n",
       "      <th>3</th>\n",
       "      <td>2022</td>\n",
       "      <td>M06</td>\n",
       "      <td>June</td>\n",
       "      <td>NaN</td>\n",
       "      <td>294.680</td>\n",
       "      <td>[{}]</td>\n",
       "    </tr>\n",
       "    <tr>\n",
       "      <th>4</th>\n",
       "      <td>2022</td>\n",
       "      <td>M05</td>\n",
       "      <td>May</td>\n",
       "      <td>NaN</td>\n",
       "      <td>292.506</td>\n",
       "      <td>[{}]</td>\n",
       "    </tr>\n",
       "  </tbody>\n",
       "</table>\n",
       "</div>"
      ],
      "text/plain": [
       "   year period periodName latest    value footnotes\n",
       "0  2022    M09  September   true  298.442      [{}]\n",
       "1  2022    M08     August    NaN  297.178      [{}]\n",
       "2  2022    M07       July    NaN  295.646      [{}]\n",
       "3  2022    M06       June    NaN  294.680      [{}]\n",
       "4  2022    M05        May    NaN  292.506      [{}]"
      ]
     },
     "execution_count": 58,
     "metadata": {},
     "output_type": "execute_result"
    }
   ],
   "source": [
    "bls_df.head()"
   ]
  },
  {
   "cell_type": "code",
   "execution_count": 10,
   "id": "6171e5f4",
   "metadata": {},
   "outputs": [],
   "source": [
    "bls_df.to_csv('bls_data.csv', header = True, sep = ',')"
   ]
  },
  {
   "cell_type": "code",
   "execution_count": 59,
   "id": "2bc8dc13",
   "metadata": {},
   "outputs": [],
   "source": [
    "url = 'https://api.bls.gov/publicAPI/v2/timeseries/data/CXUMENBOYSLB0101M'\n",
    "ces = requests.post(url, headers = header)"
   ]
  },
  {
   "cell_type": "code",
   "execution_count": 60,
   "id": "c2d89f1a",
   "metadata": {},
   "outputs": [
    {
     "data": {
      "text/plain": [
       "<Response [200]>"
      ]
     },
     "execution_count": 60,
     "metadata": {},
     "output_type": "execute_result"
    }
   ],
   "source": [
    "ces"
   ]
  },
  {
   "cell_type": "code",
   "execution_count": 61,
   "id": "26eda3d3",
   "metadata": {},
   "outputs": [
    {
     "data": {
      "text/plain": [
       "'{\"status\":\"REQUEST_SUCCEEDED\",\"responseTime\":209,\"message\":[],\"Results\":{\\n\"series\":\\n[{\"seriesID\":\"CXUMENBOYSLB0101M\",\"data\":[{\"year\":\"2021\",\"period\":\"A01\",\"periodName\":\"Annual\",\"latest\":\"true\",\"value\":\"424\",\"footnotes\":[{}]},{\"year\":\"2020\",\"period\":\"A01\",\"periodName\":\"Annual\",\"value\":\"326\",\"footnotes\":[{}]},{\"year\":\"2019\",\"period\":\"A01\",\"periodName\":\"Annual\",\"value\":\"447\",\"footnotes\":[{}]}]}]\\n}}'"
      ]
     },
     "execution_count": 61,
     "metadata": {},
     "output_type": "execute_result"
    }
   ],
   "source": [
    "ces.text"
   ]
  },
  {
   "cell_type": "code",
   "execution_count": 68,
   "id": "1a25abe0",
   "metadata": {},
   "outputs": [],
   "source": [
    "url = 'https://api.bls.gov/publicAPI/v2/timeseries/data/'\n",
    "payload = json.dumps({'seriesid': ['CXU900000LB0401M', 'CXUTOTALEXPLB0102M', 'CXUTOTALEXPLB0209M'], 'startyear': '2000', 'endyear': '2021'})\n",
    "cesm = requests.post(url, data = payload, headers = header)"
   ]
  },
  {
   "cell_type": "code",
   "execution_count": 69,
   "id": "c8f699e7",
   "metadata": {},
   "outputs": [
    {
     "data": {
      "text/plain": [
       "'{\"status\":\"REQUEST_SUCCEEDED\",\"responseTime\":356,\"message\":[\"Year range has been reduced to the system-allowed limit of 10 years.\"],\"Results\":{\\n\"series\":\\n[{\"seriesID\":\"CXU900000LB0401M\",\"data\":[{\"year\":\"2009\",\"period\":\"A01\",\"periodName\":\"Annual\",\"value\":\"50339\",\"footnotes\":[{}]},{\"year\":\"2008\",\"period\":\"A01\",\"periodName\":\"Annual\",\"value\":\"51007\",\"footnotes\":[{}]},{\"year\":\"2007\",\"period\":\"A01\",\"periodName\":\"Annual\",\"value\":\"50322\",\"footnotes\":[{}]},{\"year\":\"2006\",\"period\":\"A01\",\"periodName\":\"Annual\",\"value\":\"48119\",\"footnotes\":[{}]},{\"year\":\"2005\",\"period\":\"A01\",\"periodName\":\"Annual\",\"value\":\"46291\",\"footnotes\":[{}]},{\"year\":\"2004\",\"period\":\"A01\",\"periodName\":\"Annual\",\"value\":\"43192\",\"footnotes\":[{}]},{\"year\":\"2003\",\"period\":\"A01\",\"periodName\":\"Annual\",\"value\":\"41200\",\"footnotes\":[{\"code\":\"1\",\"text\":\"Components of income and taxes are derived from \\\\\"complete income reporters\\\\\" only through 2003; (see glossary). Beginning in 2004 income imputation was implemented. As a result, all consumer units are considered to be complete income reporters.\"}]},{\"year\":\"2002\",\"period\":\"A01\",\"periodName\":\"Annual\",\"value\":\"39864\",\"footnotes\":[{\"code\":\"1\",\"text\":\"Components of income and taxes are derived from \\\\\"complete income reporters\\\\\" only through 2003; (see glossary). Beginning in 2004 income imputation was implemented. As a result, all consumer units are considered to be complete income reporters.\"}]},{\"year\":\"2001\",\"period\":\"A01\",\"periodName\":\"Annual\",\"value\":\"38334\",\"footnotes\":[{\"code\":\"1\",\"text\":\"Components of income and taxes are derived from \\\\\"complete income reporters\\\\\" only through 2003; (see glossary). Beginning in 2004 income imputation was implemented. As a result, all consumer units are considered to be complete income reporters.\"}]},{\"year\":\"2000\",\"period\":\"A01\",\"periodName\":\"Annual\",\"value\":\"35579\",\"footnotes\":[{\"code\":\"1\",\"text\":\"Components of income and taxes are derived from \\\\\"complete income reporters\\\\\" only through 2003; (see glossary). Beginning in 2004 income imputation was implemented. As a result, all consumer units are considered to be complete income reporters.\"}]}]},\\n{\"seriesID\":\"CXUTOTALEXPLB0102M\",\"data\":[{\"year\":\"2009\",\"period\":\"A01\",\"periodName\":\"Annual\",\"value\":\"21611\",\"footnotes\":[{}]},{\"year\":\"2008\",\"period\":\"A01\",\"periodName\":\"Annual\",\"value\":\"22304\",\"footnotes\":[{}]},{\"year\":\"2007\",\"period\":\"A01\",\"periodName\":\"Annual\",\"value\":\"20471\",\"footnotes\":[{}]},{\"year\":\"2006\",\"period\":\"A01\",\"periodName\":\"Annual\",\"value\":\"20410\",\"footnotes\":[{}]},{\"year\":\"2005\",\"period\":\"A01\",\"periodName\":\"Annual\",\"value\":\"19120\",\"footnotes\":[{}]},{\"year\":\"2004\",\"period\":\"A01\",\"periodName\":\"Annual\",\"value\":\"17837\",\"footnotes\":[{}]},{\"year\":\"2003\",\"period\":\"A01\",\"periodName\":\"Annual\",\"value\":\"18492\",\"footnotes\":[{}]},{\"year\":\"2002\",\"period\":\"A01\",\"periodName\":\"Annual\",\"value\":\"19061\",\"footnotes\":[{}]},{\"year\":\"2001\",\"period\":\"A01\",\"periodName\":\"Annual\",\"value\":\"18883\",\"footnotes\":[{}]},{\"year\":\"2000\",\"period\":\"A01\",\"periodName\":\"Annual\",\"value\":\"17940\",\"footnotes\":[{}]}]},\\n{\"seriesID\":\"CXUTOTALEXPLB0209M\",\"data\":[{\"year\":\"2009\",\"period\":\"A01\",\"periodName\":\"Annual\",\"value\":\"48900\",\"footnotes\":[{}]},{\"year\":\"2008\",\"period\":\"A01\",\"periodName\":\"Annual\",\"value\":\"50465\",\"footnotes\":[{}]},{\"year\":\"2007\",\"period\":\"A01\",\"periodName\":\"Annual\",\"value\":\"50428\",\"footnotes\":[{}]},{\"year\":\"2006\",\"period\":\"A01\",\"periodName\":\"Annual\",\"value\":\"50086\",\"footnotes\":[{}]},{\"year\":\"2005\",\"period\":\"A01\",\"periodName\":\"Annual\",\"value\":\"49029\",\"footnotes\":[{}]},{\"year\":\"2004\",\"period\":\"A01\",\"periodName\":\"Annual\",\"value\":\"47750\",\"footnotes\":[{}]},{\"year\":\"2003\",\"period\":\"A01\",\"periodName\":\"Annual\",\"value\":\"49789\",\"footnotes\":[{}]},{\"year\":\"2002\",\"period\":\"A01\",\"periodName\":\"Annual\",\"value\":\"50406\",\"footnotes\":[{}]},{\"year\":\"2001\",\"period\":\"A01\",\"periodName\":\"Annual\",\"value\":\"50136\",\"footnotes\":[{}]},{\"year\":\"2000\",\"period\":\"A01\",\"periodName\":\"Annual\",\"value\":\"49245\",\"footnotes\":[{}]}]}]\\n}}'"
      ]
     },
     "execution_count": 69,
     "metadata": {},
     "output_type": "execute_result"
    }
   ],
   "source": [
    "cesm.text"
   ]
  },
  {
   "cell_type": "markdown",
   "id": "70621f38",
   "metadata": {},
   "source": [
    "### Census API"
   ]
  },
  {
   "cell_type": "code",
   "execution_count": 70,
   "id": "ca282e29",
   "metadata": {},
   "outputs": [],
   "source": [
    "census_data = requests.get(url = 'https://api.census.gov/data/2018/acs/acs5/pums?tabulate=weight(PWGTP)&col+PARTNER&col+SFR&col+DDRS&col+HINS3&row+ADJHSG&row+REFR&row+DECADE&row+ACR&row+MLPJ')"
   ]
  },
  {
   "cell_type": "code",
   "execution_count": 71,
   "id": "f5220b3b",
   "metadata": {},
   "outputs": [
    {
     "data": {
      "text/plain": [
       "<Response [500]>"
      ]
     },
     "execution_count": 71,
     "metadata": {},
     "output_type": "execute_result"
    }
   ],
   "source": [
    "census_data"
   ]
  },
  {
   "cell_type": "code",
   "execution_count": 72,
   "id": "9d36f683",
   "metadata": {},
   "outputs": [
    {
     "data": {
      "text/plain": [
       "'[[{\"PARTNER\": \"0\", \"SFR\": \"2\", \"DDRS\": \"1\", \"HINS3\": \"2\"}, {\"PARTNER\": \"-1\", \"SFR\": \"2\", \"DDRS\": \"1\", \"HINS3\": \"2\"}, {\"PARTNER\": \"3\", \"SFR\": \"2\", \"DDRS\": \"1\", \"HINS3\": \"2\"}, {\"PARTNER\": \"4\", \"SFR\": \"2\", \"DDRS\": \"1\", \"HINS3\": \"2\"}, {\"PARTNER\": \"2\", \"SFR\": \"2\", \"DDRS\": \"1\", \"HINS3\": \"2\"}, {\"PARTNER\": \"1\", \"SFR\": \"2\", \"DDRS\": \"1\", \"HINS3\": \"2\"}, {\"PARTNER\": \"0\", \"SFR\": \"6\", \"DDRS\": \"1\", \"HINS3\": \"2\"}, {\"PARTNER\": \"-1\", \"SFR\": \"6\", \"DDRS\": \"1\", \"HINS3\": \"2\"}, {\"PARTNER\": \"3\", \"SFR\": \"6\", \"DDRS\": \"1\", \"HINS3\": \"2\"}, {\"PARTNER\": \"4\", \"SFR\": \"6\", \"DDRS\": \"1\", \"HINS3\": \"2\"}, {\"PARTNER\": \"2\", \"SFR\": \"6\", \"DDRS\": \"1\", \"HINS3\": \"2\"}, {\"PARTNER\": \"1\", \"SFR\": \"6\", \"DDRS\": \"1\", \"HINS3\": \"2\"}, {\"PARTNER\": \"0\", \"SFR\": \"5\", \"DDRS\": \"1\", \"HINS3\": \"2\"}, {\"PARTNER\": \"-1\", \"SFR\": \"5\", \"DDRS\": \"1\", \"HINS3\": \"2\"}, {\"PARTNER\": \"3\", \"SFR\": \"5\", \"DDRS\": \"1\", \"HINS3\": \"2\"}, {\"PARTNER\": \"4\", \"SFR\": \"5\", \"DDRS\": \"1\", \"HINS3\": \"2\"}, {\"PARTNER\": \"2\", \"SFR\": \"5\", \"DDRS\": \"1\", \"HINS3\": \"2\"}, {\"PARTNER\": \"1\", \"SFR\": \"5\", \"DDRS\": \"1\", \"HINS3\": \"2\"}, {\"PARTNER\": \"0\", \"SFR\": \"1\", \"DDRS\": \"1\", \"HINS3\": \"2\"}, {\"PARTNER\": \"-1\", \"SFR\": \"1\", \"DDRS\": \"1\", \"HINS3\": \"2\"}, {\"PARTNER\": \"3\", \"SFR\": \"1\", \"DDRS\": \"1\", \"HINS3\": \"2\"}, {\"PARTNER\": \"4\", \"SFR\": \"1\", \"DDRS\": \"1\", \"HINS3\": \"2\"}, {\"PARTNER\": \"2\", \"SFR\": \"1\", \"DDRS\": \"1\", \"HINS3\": \"2\"}, {\"PARTNER\": \"1\", \"SFR\": \"1\", \"DDRS\": \"1\", \"HINS3\": \"2\"}, {\"PARTNER\": \"0\", \"SFR\": \"4\", \"DDRS\": \"1\", \"HINS3\": \"2\"}, {\"PARTNER\": \"-1\", \"SFR\": \"4\", \"DDRS\": \"1\", \"HINS3\": \"2\"}, {\"PARTNER\": \"3\", \"SFR\": \"4\", \"DDRS\": \"1\", \"HINS3\": \"2\"}, {\"PARTNER\": \"4\", \"SFR\": \"4\", \"DDRS\": \"1\", \"HINS3\": \"2\"}, {\"PARTNER\": \"2\", \"SFR\": \"4\", \"DDRS\": \"1\", \"HINS3\": \"2\"}, {\"PARTNER\": \"1\", \"SFR\": \"4\", \"DDRS\": \"1\", \"HINS3\": \"2\"}, {\"PARTNER\": \"0\", \"SFR\": \"0\", \"DDRS\": \"1\", \"HINS3\": \"2\"}, {\"PARTNER\": \"-1\", \"SFR\": \"0\", \"DDRS\": \"1\", \"HINS3\": \"2\"}, {\"PARTNER\": \"3\", \"SFR\": \"0\", \"DDRS\": \"1\", \"HINS3\": \"2\"}, {\"PARTNER\": \"4\", \"SFR\": \"0\", \"DDRS\": \"1\", \"HINS3\": \"2\"}, {\"PARTNER\": \"2\", \"SFR\": \"0\", \"DDRS\": \"1\", \"HINS3\": \"2\"}, {\"PARTNER\": \"1\", \"SFR\": \"0\", \"DDRS\": \"1\", \"HINS3\": \"2\"}, {\"PARTNER\": \"0\", \"SFR\": \"3\", \"DDRS\": \"1\", \"HINS3\": \"2\"}, {\"PARTNER\": \"-1\", \"SFR\": \"3\", \"DDRS\": \"1\", \"HINS3\": \"2\"}, {\"PARTNER\": \"3\", \"SFR\": \"3\", \"DDRS\": \"1\", \"HINS3\": \"2\"}, {\"PARTNER\": \"4\", \"SFR\": \"3\", \"DDRS\": \"1\", \"HINS3\": \"2\"}, {\"PARTNER\": \"2\", \"SFR\": \"3\", \"DDRS\": \"1\", \"HINS3\": \"2\"}, {\"PARTNER\": \"1\", \"SFR\": \"3\", \"DDRS\": \"1\", \"HINS3\": \"2\"}, {\"PARTNER\": \"0\", \"SFR\": \"2\", \"DDRS\": \"0\", \"HINS3\": \"2\"}, {\"PARTNER\": \"-1\", \"SFR\": \"2\", \"DDRS\": \"0\", \"HINS3\": \"2\"}, {\"PARTNER\": \"3\", \"SFR\": \"2\", \"DDRS\": \"0\", \"HINS3\": \"2\"}, {\"PARTNER\": \"4\", \"SFR\": \"2\", \"DDRS\": \"0\", \"HINS3\": \"2\"}, {\"PARTNER\": \"2\", \"SFR\": \"2\", \"DDRS\": \"0\", \"HINS3\": \"2\"}, {\"PARTNER\": \"1\", \"SFR\": \"2\", \"DDRS\": \"0\", \"HINS3\": \"2\"}, {\"PARTNER\": \"0\", \"SFR\": \"6\", \"DDRS\": \"0\", \"HINS3\": \"2\"}, {\"PARTNER\": \"-1\", \"SFR\": \"6\", \"DDRS\": \"0\", \"HINS3\": \"2\"}, {\"PARTNER\": \"3\", \"SFR\": \"6\", \"DDRS\": \"0\", \"HINS3\": \"2\"}, {\"PARTNER\": \"4\", \"SFR\": \"6\", \"DDRS\": \"0\", \"HINS3\": \"2\"}, {\"PARTNER\": \"2\", \"SFR\": \"6\", \"DDRS\": \"0\", \"HINS3\": \"2\"}, {\"PARTNER\": \"1\", \"SFR\": \"6\", \"DDRS\": \"0\", \"HINS3\": \"2\"}, {\"PARTNER\": \"0\", \"SFR\": \"5\", \"DDRS\": \"0\", \"HINS3\": \"2\"}, {\"PARTNER\": \"-1\", \"SFR\": \"5\", \"DDRS\": \"0\", \"HINS3\": \"2\"}, {\"PARTNER\": \"3\", \"SFR\": \"5\", \"DDRS\": \"0\", \"HINS3\": \"2\"}, {\"PARTNER\": \"4\", \"SFR\": \"5\", \"DDRS\": \"0\", \"HINS3\": \"2\"}, {\"PARTNER\": \"2\", \"SFR\": \"5\", \"DDRS\": \"0\", \"HINS3\": \"2\"}, {\"PARTNER\": \"1\", \"SFR\": \"5\", \"DDRS\": \"0\", \"HINS3\": \"2\"}, {\"PARTNER\": \"0\", \"SFR\": \"1\", \"DDRS\": \"0\", \"HINS3\": \"2\"}, {\"PARTNER\": \"-1\", \"SFR\": \"1\", \"DDRS\": \"0\", \"HINS3\": \"2\"}, {\"PARTNER\": \"3\", \"SFR\": \"1\", \"DDRS\": \"0\", \"HINS3\": \"2\"}, {\"PARTNER\": \"4\", \"SFR\": \"1\", \"DDRS\": \"0\", \"HINS3\": \"2\"}, {\"PARTNER\": \"2\", \"SFR\": \"1\", \"DDRS\": \"0\", \"HINS3\": \"2\"}, {\"PARTNER\": \"1\", \"SFR\": \"1\", \"DDRS\": \"0\", \"HINS3\": \"2\"}, {\"PARTNER\": \"0\", \"SFR\": \"4\", \"DDRS\": \"0\", \"HINS3\": \"2\"}, {\"PARTNER\": \"-1\", \"SFR\": \"4\", \"DDRS\": \"0\", \"HINS3\": \"2\"}, {\"PARTNER\": \"3\", \"SFR\": \"4\", \"DDRS\": \"0\", \"HINS3\": \"2\"}, {\"PARTNER\": \"4\", \"SFR\": \"4\", \"DDRS\": \"0\", \"HINS3\": \"2\"}, {\"PARTNER\": \"2\", \"SFR\": \"4\", \"DDRS\": \"0\", \"HINS3\": \"2\"}, {\"PARTNER\": \"1\", \"SFR\": \"4\", \"DDRS\": \"0\", \"HINS3\": \"2\"}, {\"PARTNER\": \"0\", \"SFR\": \"0\", \"DDRS\": \"0\", \"HINS3\": \"2\"}, {\"PARTNER\": \"-1\", \"SFR\": \"0\", \"DDRS\": \"0\", \"HINS3\": \"2\"}, {\"PARTNER\": \"3\", \"SFR\": \"0\", \"DDRS\": \"0\", \"HINS3\": \"2\"}, {\"PARTNER\": \"4\", \"SFR\": \"0\", \"DDRS\": \"0\", \"HINS3\": \"2\"}, {\"PARTNER\": \"2\", \"SFR\": \"0\", \"DDRS\": \"0\", \"HINS3\": \"2\"}, {\"PARTNER\": \"1\", \"SFR\": \"0\", \"DDRS\": \"0\", \"HINS3\": \"2\"}, {\"PARTNER\": \"0\", \"SFR\": \"3\", \"DDRS\": \"0\", \"HINS3\": \"2\"}, {\"PARTNER\": \"-1\", \"SFR\": \"3\", \"DDRS\": \"0\", \"HINS3\": \"2\"}, {\"PARTNER\": \"3\", \"SFR\": \"3\", \"DDRS\": \"0\", \"HINS3\": \"2\"}, {\"PARTNER\": \"4\", \"SFR\": \"3\", \"DDRS\": \"0\", \"HINS3\": \"2\"}, {\"PARTNER\": \"2\", \"SFR\": \"3\", \"DDRS\": \"0\", \"HINS3\": \"2\"}, {\"PARTNER\": \"1\", \"SFR\": \"3\", \"DDRS\": \"0\", \"HINS3\": \"2\"}, {\"PARTNER\": \"0\", \"SFR\": \"2\", \"DDRS\": \"2\", \"HINS3\": \"2\"}, {\"PARTNER\": \"-1\", \"SFR\": \"2\", \"DDRS\": \"2\", \"HINS3\": \"2\"}, {\"PARTNER\": \"3\", \"SFR\": \"2\", \"DDRS\": \"2\", \"HINS3\": \"2\"}, {\"PARTNER\": \"4\", \"SFR\": \"2\", \"DDRS\": \"2\", \"HINS3\": \"2\"}, {\"PARTNER\": \"2\", \"SFR\": \"2\", \"DDRS\": \"2\", \"HINS3\": \"2\"}, {\"PARTNER\": \"1\", \"SFR\": \"2\", \"DDRS\": \"2\", \"HINS3\": \"2\"}, {\"PARTNER\": \"0\", \"SFR\": \"6\", \"DDRS\": \"2\", \"HINS3\": \"2\"}, {\"PARTNER\": \"-1\", \"SFR\": \"6\", \"DDRS\": \"2\", \"HINS3\": \"2\"}, {\"PARTNER\": \"3\", \"SFR\": \"6\", \"DDRS\": \"2\", \"HINS3\": \"2\"}, {\"PARTNER\": \"4\", \"SFR\": \"6\", \"DDRS\": \"2\", \"HINS3\": \"2\"}, {\"PARTNER\": \"2\", \"SFR\": \"6\", \"DDRS\": \"2\", \"HINS3\": \"2\"}, {\"PARTNER\": \"1\", \"SFR\": \"6\", \"DDRS\": \"2\", \"HINS3\": \"2\"}, {\"PARTNER\": \"0\", \"SFR\": \"5\", \"DDRS\": \"2\", \"HINS3\": \"2\"}, {\"PARTNER\": \"-1\", \"SFR\": \"5\", \"DDRS\": \"2\", \"HINS3\": \"2\"}, {\"PARTNER\": \"3\", \"SFR\": \"5\", \"DDRS\": \"2\", \"HINS3\": \"2\"}, {\"PARTNER\": \"4\", \"SFR\": \"5\", \"DDRS\": \"2\", \"HINS3\": \"2\"}, {\"PARTNER\": \"2\", \"SFR\": \"5\", \"DDRS\": \"2\", \"HINS3\": \"2\"}, {\"PARTNER\": \"1\", \"SFR\": \"5\", \"DDRS\": \"2\", \"HINS3\": \"2\"}, {\"PARTNER\": \"0\", \"SFR\": \"1\", \"DDRS\": \"2\", \"HINS3\": \"2\"}, {\"PARTNER\": \"-1\", \"SFR\": \"1\", \"DDRS\": \"2\", \"HINS3\": \"2\"}, {\"PARTNER\": \"3\", \"SFR\": \"1\", \"DDRS\": \"2\", \"HINS3\": \"2\"}, {\"PARTNER\": \"4\", \"SFR\": \"1\", \"DDRS\": \"2\", \"HINS3\": \"2\"}, {\"PARTNER\": \"2\", \"SFR\": \"1\", \"DDRS\": \"2\", \"HINS3\": \"2\"}, {\"PARTNER\": \"1\", \"SFR\": \"1\", \"DDRS\": \"2\", \"HINS3\": \"2\"}, {\"PARTNER\": \"0\", \"SFR\": \"4\", \"DDRS\": \"2\", \"HINS3\": \"2\"}, {\"PARTNER\": \"-1\", \"SFR\": \"4\", \"DDRS\": \"2\", \"HINS3\": \"2\"}, {\"PARTNER\": \"3\", \"SFR\": \"4\", \"DDRS\": \"2\", \"HINS3\": \"2\"}, {\"PARTNER\": \"4\", \"SFR\": \"4\", \"DDRS\": \"2\", \"HINS3\": \"2\"}, {\"PARTNER\": \"2\", \"SFR\": \"4\", \"DDRS\": \"2\", \"HINS3\": \"2\"}, {\"PARTNER\": \"1\", \"SFR\": \"4\", \"DDRS\": \"2\", \"HINS3\": \"2\"}, {\"PARTNER\": \"0\", \"SFR\": \"0\", \"DDRS\": \"2\", \"HINS3\": \"2\"}, {\"PARTNER\": \"-1\", \"SFR\": \"0\", \"DDRS\": \"2\", \"HINS3\": \"2\"}, {\"PARTNER\": \"3\", \"SFR\": \"0\", \"DDRS\": \"2\", \"HINS3\": \"2\"}, {\"PARTNER\": \"4\", \"SFR\": \"0\", \"DDRS\": \"2\", \"HINS3\": \"2\"}, {\"PARTNER\": \"2\", \"SFR\": \"0\", \"DDRS\": \"2\", \"HINS3\": \"2\"}, {\"PARTNER\": \"1\", \"SFR\": \"0\", \"DDRS\": \"2\", \"HINS3\": \"2\"}, {\"PARTNER\": \"0\", \"SFR\": \"3\", \"DDRS\": \"2\", \"HINS3\": \"2\"}, {\"PARTNER\": \"-1\", \"SFR\": \"3\", \"DDRS\": \"2\", \"HINS3\": \"2\"}, {\"PARTNER\": \"3\", \"SFR\": \"3\", \"DDRS\": \"2\", \"HINS3\": \"2\"}, {\"PARTNER\": \"4\", \"SFR\": \"3\", \"DDRS\": \"2\", \"HINS3\": \"2\"}, {\"PARTNER\": \"2\", \"SFR\": \"3\", \"DDRS\": \"2\", \"HINS3\": \"2\"}, {\"PARTNER\": \"1\", \"SFR\": \"3\", \"DDRS\": \"2\", \"HINS3\": \"2\"}, {\"PARTNER\": \"0\", \"SFR\": \"2\", \"DDRS\": \"1\", \"HINS3\": \"1\"}, {\"PARTNER\": \"-1\", \"SFR\": \"2\", \"DDRS\": \"1\", \"HINS3\": \"1\"}, {\"PARTNER\": \"3\", \"SFR\": \"2\", \"DDRS\": \"1\", \"HINS3\": \"1\"}, {\"PARTNER\": \"4\", \"SFR\": \"2\", \"DDRS\": \"1\", \"HINS3\": \"1\"}, {\"PARTNER\": \"2\", \"SFR\": \"2\", \"DDRS\": \"1\", \"HINS3\": \"1\"}, {\"PARTNER\": \"1\", \"SFR\": \"2\", \"DDRS\": \"1\", \"HINS3\": \"1\"}, {\"PARTNER\": \"0\", \"SFR\": \"6\", \"DDRS\": \"1\", \"HINS3\": \"1\"}, {\"PARTNER\": \"-1\", \"SFR\": \"6\", \"DDRS\": \"1\", \"HINS3\": \"1\"}, {\"PARTNER\": \"3\", \"SFR\": \"6\", \"DDRS\": \"1\", \"HINS3\": \"1\"}, {\"PARTNER\": \"4\", \"SFR\": \"6\", \"DDRS\": \"1\", \"HINS3\": \"1\"}, {\"PARTNER\": \"2\", \"SFR\": \"6\", \"DDRS\": \"1\", \"HINS3\": \"1\"}, {\"PARTNER\": \"1\", \"SFR\": \"6\", \"DDRS\": \"1\", \"HINS3\": \"1\"}, {\"PARTNER\": \"0\", \"SFR\": \"5\", \"DDRS\": \"1\", \"HINS3\": \"1\"}, {\"PARTNER\": \"-1\", \"SFR\": \"5\", \"DDRS\": \"1\", \"HINS3\": \"1\"}, {\"PARTNER\": \"3\", \"SFR\": \"5\", \"DDRS\": \"1\", \"HINS3\": \"1\"}, {\"PARTNER\": \"4\", \"SFR\": \"5\", \"DDRS\": \"1\", \"HINS3\": \"1\"}, {\"PARTNER\": \"2\", \"SFR\": \"5\", \"DDRS\": \"1\", \"HINS3\": \"1\"}, {\"PARTNER\": \"1\", \"SFR\": \"5\", \"DDRS\": \"1\", \"HINS3\": \"1\"}, {\"PARTNER\": \"0\", \"SFR\": \"1\", \"DDRS\": \"1\", \"HINS3\": \"1\"}, {\"PARTNER\": \"-1\", \"SFR\": \"1\", \"DDRS\": \"1\", \"HINS3\": \"1\"}, {\"PARTNER\": \"3\", \"SFR\": \"1\", \"DDRS\": \"1\", \"HINS3\": \"1\"}, {\"PARTNER\": \"4\", \"SFR\": \"1\", \"DDRS\": \"1\", \"HINS3\": \"1\"}, {\"PARTNER\": \"2\", \"SFR\": \"1\", \"DDRS\": \"1\", \"HINS3\": \"1\"}, {\"PARTNER\": \"1\", \"SFR\": \"1\", \"DDRS\": \"1\", \"HINS3\": \"1\"}, {\"PARTNER\": \"0\", \"SFR\": \"4\", \"DDRS\": \"1\", \"HINS3\": \"1\"}, {\"PARTNER\": \"-1\", \"SFR\": \"4\", \"DDRS\": \"1\", \"HINS3\": \"1\"}, {\"PARTNER\": \"3\", \"SFR\": \"4\", \"DDRS\": \"1\", \"HINS3\": \"1\"}, {\"PARTNER\": \"4\", \"SFR\": \"4\", \"DDRS\": \"1\", \"HINS3\": \"1\"}, {\"PARTNER\": \"2\", \"SFR\": \"4\", \"DDRS\": \"1\", \"HINS3\": \"1\"}, {\"PARTNER\": \"1\", \"SFR\": \"4\", \"DDRS\": \"1\", \"HINS3\": \"1\"}, {\"PARTNER\": \"0\", \"SFR\": \"0\", \"DDRS\": \"1\", \"HINS3\": \"1\"}, {\"PARTNER\": \"-1\", \"SFR\": \"0\", \"DDRS\": \"1\", \"HINS3\": \"1\"}, {\"PARTNER\": \"3\", \"SFR\": \"0\", \"DDRS\": \"1\", \"HINS3\": \"1\"}, {\"PARTNER\": \"4\", \"SFR\": \"0\", \"DDRS\": \"1\", \"HINS3\": \"1\"}, {\"PARTNER\": \"2\", \"SFR\": \"0\", \"DDRS\": \"1\", \"HINS3\": \"1\"}, {\"PARTNER\": \"1\", \"SFR\": \"0\", \"DDRS\": \"1\", \"HINS3\": \"1\"}, {\"PARTNER\": \"0\", \"SFR\": \"3\", \"DDRS\": \"1\", \"HINS3\": \"1\"}, {\"PARTNER\": \"-1\", \"SFR\": \"3\", \"DDRS\": \"1\", \"HINS3\": \"1\"}, {\"PARTNER\": \"3\", \"SFR\": \"3\", \"DDRS\": \"1\", \"HINS3\": \"1\"}, {\"PARTNER\": \"4\", \"SFR\": \"3\", \"DDRS\": \"1\", \"HINS3\": \"1\"}, {\"PARTNER\": \"2\", \"SFR\": \"3\", \"DDRS\": \"1\", \"HINS3\": \"1\"}, {\"PARTNER\": \"1\", \"SFR\": \"3\", \"DDRS\": \"1\", \"HINS3\": \"1\"}, {\"PARTNER\": \"0\", \"SFR\": \"2\", \"DDRS\": \"0\", \"HINS3\": \"1\"}, {\"PARTNER\": \"-1\", \"SFR\": \"2\", \"DDRS\": \"0\", \"HINS3\": \"1\"}, {\"PARTNER\": \"3\", \"SFR\": \"2\", \"DDRS\": \"0\", \"HINS3\": \"1\"}, {\"PARTNER\": \"4\", \"SFR\": \"2\", \"DDRS\": \"0\", \"HINS3\": \"1\"}, {\"PARTNER\": \"2\", \"SFR\": \"2\", \"DDRS\": \"0\", \"HINS3\": \"1\"}, {\"PARTNER\": \"1\", \"SFR\": \"2\", \"DDRS\": \"0\", \"HINS3\": \"1\"}, {\"PARTNER\": \"0\", \"SFR\": \"6\", \"DDRS\": \"0\", \"HINS3\": \"1\"}, {\"PARTNER\": \"-1\", \"SFR\": \"6\", \"DDRS\": \"0\", \"HINS3\": \"1\"}, {\"PARTNER\": \"3\", \"SFR\": \"6\", \"DDRS\": \"0\", \"HINS3\": \"1\"}, {\"PARTNER\": \"4\", \"SFR\": \"6\", \"DDRS\": \"0\", \"HINS3\": \"1\"}, {\"PARTNER\": \"2\", \"SFR\": \"6\", \"DDRS\": \"0\", \"HINS3\": \"1\"}, {\"PARTNER\": \"1\", \"SFR\": \"6\", \"DDRS\": \"0\", \"HINS3\": \"1\"}, {\"PARTNER\": \"0\", \"SFR\": \"5\", \"DDRS\": \"0\", \"HINS3\": \"1\"}, {\"PARTNER\": \"-1\", \"SFR\": \"5\", \"DDRS\": \"0\", \"HINS3\": \"1\"}, {\"PARTNER\": \"3\", \"SFR\": \"5\", \"DDRS\": \"0\", \"HINS3\": \"1\"}, {\"PARTNER\": \"4\", \"SFR\": \"5\", \"DDRS\": \"0\", \"HINS3\": \"1\"}, {\"PARTNER\": \"2\", \"SFR\": \"5\", \"DDRS\": \"0\", \"HINS3\": \"1\"}, {\"PARTNER\": \"1\", \"SFR\": \"5\", \"DDRS\": \"0\", \"HINS3\": \"1\"}, {\"PARTNER\": \"0\", \"SFR\": \"1\", \"DDRS\": \"0\", \"HINS3\": \"1\"}, {\"PARTNER\": \"-1\", \"SFR\": \"1\", \"DDRS\": \"0\", \"HINS3\": \"1\"}, {\"PARTNER\": \"3\", \"SFR\": \"1\", \"DDRS\": \"0\", \"HINS3\": \"1\"}, {\"PARTNER\": \"4\", \"SFR\": \"1\", \"DDRS\": \"0\", \"HINS3\": \"1\"}, {\"PARTNER\": \"2\", \"SFR\": \"1\", \"DDRS\": \"0\", \"HINS3\": \"1\"}, {\"PARTNER\": \"1\", \"SFR\": \"1\", \"DDRS\": \"0\", \"HINS3\": \"1\"}, {\"PARTNER\": \"0\", \"SFR\": \"4\", \"DDRS\": \"0\", \"HINS3\": \"1\"}, {\"PARTNER\": \"-1\", \"SFR\": \"4\", \"DDRS\": \"0\", \"HINS3\": \"1\"}, {\"PARTNER\": \"3\", \"SFR\": \"4\", \"DDRS\": \"0\", \"HINS3\": \"1\"}, {\"PARTNER\": \"4\", \"SFR\": \"4\", \"DDRS\": \"0\", \"HINS3\": \"1\"}, {\"PARTNER\": \"2\", \"SFR\": \"4\", \"DDRS\": \"0\", \"HINS3\": \"1\"}, {\"PARTNER\": \"1\", \"SFR\": \"4\", \"DDRS\": \"0\", \"HINS3\": \"1\"}, {\"PARTNER\": \"0\", \"SFR\": \"0\", \"DDRS\": \"0\", \"HINS3\": \"1\"}, {\"PARTNER\": \"-1\", \"SFR\": \"0\", \"DDRS\": \"0\", \"HINS3\": \"1\"}, {\"PARTNER\": \"3\", \"SFR\": \"0\", \"DDRS\": \"0\", \"HINS3\": \"1\"}, {\"PARTNER\": \"4\", \"SFR\": \"0\", \"DDRS\": \"0\", \"HINS3\": \"1\"}, {\"PARTNER\": \"2\", \"SFR\": \"0\", \"DDRS\": \"0\", \"HINS3\": \"1\"}, {\"PARTNER\": \"1\", \"SFR\": \"0\", \"DDRS\": \"0\", \"HINS3\": \"1\"}, {\"PARTNER\": \"0\", \"SFR\": \"3\", \"DDRS\": \"0\", \"HINS3\": \"1\"}, {\"PARTNER\": \"-1\", \"SFR\": \"3\", \"DDRS\": \"0\", \"HINS3\": \"1\"}, {\"PARTNER\": \"3\", \"SFR\": \"3\", \"DDRS\": \"0\", \"HINS3\": \"1\"}, {\"PARTNER\": \"4\", \"SFR\": \"3\", \"DDRS\": \"0\", \"HINS3\": \"1\"}, {\"PARTNER\": \"2\", \"SFR\": \"3\", \"DDRS\": \"0\", \"HINS3\": \"1\"}, {\"PARTNER\": \"1\", \"SFR\": \"3\", \"DDRS\": \"0\", \"HINS3\": \"1\"}, {\"PARTNER\": \"0\", \"SFR\": \"2\", \"DDRS\": \"2\", \"HINS3\": \"1\"}, {\"PARTNER\": \"-1\", \"SFR\": \"2\", \"DDRS\": \"2\", \"HINS3\": \"1\"}, {\"PARTNER\": \"3\", \"SFR\": \"2\", \"DDRS\": \"2\", \"HINS3\": \"1\"}, {\"PARTNER\": \"4\", \"SFR\": \"2\", \"DDRS\": \"2\", \"HINS3\": \"1\"}, {\"PARTNER\": \"2\", \"SFR\": \"2\", \"DDRS\": \"2\", \"HINS3\": \"1\"}, {\"PARTNER\": \"1\", \"SFR\": \"2\", \"DDRS\": \"2\", \"HINS3\": \"1\"}, {\"PARTNER\": \"0\", \"SFR\": \"6\", \"DDRS\": \"2\", \"HINS3\": \"1\"}, {\"PARTNER\": \"-1\", \"SFR\": \"6\", \"DDRS\": \"2\", \"HINS3\": \"1\"}, {\"PARTNER\": \"3\", \"SFR\": \"6\", \"DDRS\": \"2\", \"HINS3\": \"1\"}, {\"PARTNER\": \"4\", \"SFR\": \"6\", \"DDRS\": \"2\", \"HINS3\": \"1\"}, {\"PARTNER\": \"2\", \"SFR\": \"6\", \"DDRS\": \"2\", \"HINS3\": \"1\"}, {\"PARTNER\": \"1\", \"SFR\": \"6\", \"DDRS\": \"2\", \"HINS3\": \"1\"}, {\"PARTNER\": \"0\", \"SFR\": \"5\", \"DDRS\": \"2\", \"HINS3\": \"1\"}, {\"PARTNER\": \"-1\", \"SFR\": \"5\", \"DDRS\": \"2\", \"HINS3\": \"1\"}, {\"PARTNER\": \"3\", \"SFR\": \"5\", \"DDRS\": \"2\", \"HINS3\": \"1\"}, {\"PARTNER\": \"4\", \"SFR\": \"5\", \"DDRS\": \"2\", \"HINS3\": \"1\"}, {\"PARTNER\": \"2\", \"SFR\": \"5\", \"DDRS\": \"2\", \"HINS3\": \"1\"}, {\"PARTNER\": \"1\", \"SFR\": \"5\", \"DDRS\": \"2\", \"HINS3\": \"1\"}, {\"PARTNER\": \"0\", \"SFR\": \"1\", \"DDRS\": \"2\", \"HINS3\": \"1\"}, {\"PARTNER\": \"-1\", \"SFR\": \"1\", \"DDRS\": \"2\", \"HINS3\": \"1\"}, {\"PARTNER\": \"3\", \"SFR\": \"1\", \"DDRS\": \"2\", \"HINS3\": \"1\"}, {\"PARTNER\": \"4\", \"SFR\": \"1\", \"DDRS\": \"2\", \"HINS3\": \"1\"}, {\"PARTNER\": \"2\", \"SFR\": \"1\", \"DDRS\": \"2\", \"HINS3\": \"1\"}, {\"PARTNER\": \"1\", \"SFR\": \"1\", \"DDRS\": \"2\", \"HINS3\": \"1\"}, {\"PARTNER\": \"0\", \"SFR\": \"4\", \"DDRS\": \"2\", \"HINS3\": \"1\"}, {\"PARTNER\": \"-1\", \"SFR\": \"4\", \"DDRS\": \"2\", \"HINS3\": \"1\"}, {\"PARTNER\": \"3\", \"SFR\": \"4\", \"DDRS\": \"2\", \"HINS3\": \"1\"}, {\"PARTNER\": \"4\", \"SFR\": \"4\", \"DDRS\": \"2\", \"HINS3\": \"1\"}, {\"PARTNER\": \"2\", \"SFR\": \"4\", \"DDRS\": \"2\", \"HINS3\": \"1\"}, {\"PARTNER\": \"1\", \"SFR\": \"4\", \"DDRS\": \"2\", \"HINS3\": \"1\"}, {\"PARTNER\": \"0\", \"SFR\": \"0\", \"DDRS\": \"2\", \"HINS3\": \"1\"}, {\"PARTNER\": \"-1\", \"SFR\": \"0\", \"DDRS\": \"2\", \"HINS3\": \"1\"}, {\"PARTNER\": \"3\", \"SFR\": \"0\", \"DDRS\": \"2\", \"HINS3\": \"1\"}, {\"PARTNER\": \"4\", \"SFR\": \"0\", \"DDRS\": \"2\", \"HINS3\": \"1\"}, {\"PARTNER\": \"2\", \"SFR\": \"0\", \"DDRS\": \"2\", \"HINS3\": \"1\"}, {\"PARTNER\": \"1\", \"SFR\": \"0\", \"DDRS\": \"2\", \"HINS3\": \"1\"}, {\"PARTNER\": \"0\", \"SFR\": \"3\", \"DDRS\": \"2\", \"HINS3\": \"1\"}, {\"PARTNER\": \"-1\", \"SFR\": \"3\", \"DDRS\": \"2\", \"HINS3\": \"1\"}, {\"PARTNER\": \"3\", \"SFR\": \"3\", \"DDRS\": \"2\", \"HINS3\": \"1\"}, {\"PARTNER\": \"4\", \"SFR\": \"3\", \"DDRS\": \"2\", \"HINS3\": \"1\"}, {\"PARTNER\": \"2\", \"SFR\": \"3\", \"DDRS\": \"2\", \"HINS3\": \"1\"}, {\"PARTNER\": \"1\", \"SFR\": \"3\", \"DDRS\": \"2\", \"HINS3\": \"1\"},\"ADJHSG\", \"REFR\", \"DECADE\", \"ACR\", \"MLPJ\"]There was an error while running your query.  We\\'ve logged the error and we\\'ll correct it ASAP.  Sorry for the inconvenience.'"
      ]
     },
     "execution_count": 72,
     "metadata": {},
     "output_type": "execute_result"
    }
   ],
   "source": [
    "census_data.text"
   ]
  },
  {
   "cell_type": "code",
   "execution_count": 12,
   "id": "070584d9",
   "metadata": {},
   "outputs": [],
   "source": [
    "census_df = pd.DataFrame(census_data)"
   ]
  },
  {
   "cell_type": "code",
   "execution_count": 13,
   "id": "ae3532bd",
   "metadata": {},
   "outputs": [
    {
     "data": {
      "text/plain": [
       "'[[{\"PARTNER\": \"0\", \"SFR\": \"2\", \"DDRS\": \"1\", \"HINS3\": \"2\"}, {\"PARTNER\": \"-1\", \"SFR\": \"2\", \"DDRS\": \"1\", \"HINS3\": \"2\"}, {\"PARTNER\": \"3\", \"SFR\": \"2\", \"DDRS\": \"1\", \"HINS3\": \"2\"}, {\"PARTNER\": \"4\", \"SFR\": \"2\", \"DDRS\": \"1\", \"HINS3\": \"2\"}, {\"PARTNER\": \"2\", \"SFR\": \"2\", \"DDRS\": \"1\", \"HINS3\": \"2\"}, {\"PARTNER\": \"1\", \"SFR\": \"2\", \"DDRS\": \"1\", \"HINS3\": \"2\"}, {\"PARTNER\": \"0\", \"SFR\": \"6\", \"DDRS\": \"1\", \"HINS3\": \"2\"}, {\"PARTNER\": \"-1\", \"SFR\": \"6\", \"DDRS\": \"1\", \"HINS3\": \"2\"}, {\"PARTNER\": \"3\", \"SFR\": \"6\", \"DDRS\": \"1\", \"HINS3\": \"2\"}, {\"PARTNER\": \"4\", \"SFR\": \"6\", \"DDRS\": \"1\", \"HINS3\": \"2\"}, {\"PARTNER\": \"2\", \"SFR\": \"6\", \"DDRS\": \"1\", \"HINS3\": \"2\"}, {\"PARTNER\": \"1\", \"SFR\": \"6\", \"DDRS\": \"1\", \"HINS3\": \"2\"}, {\"PARTNER\": \"0\", \"SFR\": \"5\", \"DDRS\": \"1\", \"HINS3\": \"2\"}, {\"PARTNER\": \"-1\", \"SFR\": \"5\", \"DDRS\": \"1\", \"HINS3\": \"2\"}, {\"PARTNER\": \"3\", \"SFR\": \"5\", \"DDRS\": \"1\", \"HINS3\": \"2\"}, {\"PARTNER\": \"4\", \"SFR\": \"5\", \"DDRS\": \"1\", \"HINS3\": \"2\"}, {\"PARTNER\": \"2\", \"SFR\": \"5\", \"DDRS\": \"1\", \"HINS3\": \"2\"}, {\"PARTNER\": \"1\", \"SFR\": \"5\", \"DDRS\": \"1\", \"HINS3\": \"2\"}, {\"PARTNER\": \"0\", \"SFR\": \"1\", \"DDRS\": \"1\", \"HINS3\": \"2\"}, {\"PARTNER\": \"-1\", \"SFR\": \"1\", \"DDRS\": \"1\", \"HINS3\": \"2\"}, {\"PARTNER\": \"3\", \"SFR\": \"1\", \"DDRS\": \"1\", \"HINS3\": \"2\"}, {\"PARTNER\": \"4\", \"SFR\": \"1\", \"DDRS\": \"1\", \"HINS3\": \"2\"}, {\"PARTNER\": \"2\", \"SFR\": \"1\", \"DDRS\": \"1\", \"HINS3\": \"2\"}, {\"PARTNER\": \"1\", \"SFR\": \"1\", \"DDRS\": \"1\", \"HINS3\": \"2\"}, {\"PARTNER\": \"0\", \"SFR\": \"4\", \"DDRS\": \"1\", \"HINS3\": \"2\"}, {\"PARTNER\": \"-1\", \"SFR\": \"4\", \"DDRS\": \"1\", \"HINS3\": \"2\"}, {\"PARTNER\": \"3\", \"SFR\": \"4\", \"DDRS\": \"1\", \"HINS3\": \"2\"}, {\"PARTNER\": \"4\", \"SFR\": \"4\", \"DDRS\": \"1\", \"HINS3\": \"2\"}, {\"PARTNER\": \"2\", \"SFR\": \"4\", \"DDRS\": \"1\", \"HINS3\": \"2\"}, {\"PARTNER\": \"1\", \"SFR\": \"4\", \"DDRS\": \"1\", \"HINS3\": \"2\"}, {\"PARTNER\": \"0\", \"SFR\": \"0\", \"DDRS\": \"1\", \"HINS3\": \"2\"}, {\"PARTNER\": \"-1\", \"SFR\": \"0\", \"DDRS\": \"1\", \"HINS3\": \"2\"}, {\"PARTNER\": \"3\", \"SFR\": \"0\", \"DDRS\": \"1\", \"HINS3\": \"2\"}, {\"PARTNER\": \"4\", \"SFR\": \"0\", \"DDRS\": \"1\", \"HINS3\": \"2\"}, {\"PARTNER\": \"2\", \"SFR\": \"0\", \"DDRS\": \"1\", \"HINS3\": \"2\"}, {\"PARTNER\": \"1\", \"SFR\": \"0\", \"DDRS\": \"1\", \"HINS3\": \"2\"}, {\"PARTNER\": \"0\", \"SFR\": \"3\", \"DDRS\": \"1\", \"HINS3\": \"2\"}, {\"PARTNER\": \"-1\", \"SFR\": \"3\", \"DDRS\": \"1\", \"HINS3\": \"2\"}, {\"PARTNER\": \"3\", \"SFR\": \"3\", \"DDRS\": \"1\", \"HINS3\": \"2\"}, {\"PARTNER\": \"4\", \"SFR\": \"3\", \"DDRS\": \"1\", \"HINS3\": \"2\"}, {\"PARTNER\": \"2\", \"SFR\": \"3\", \"DDRS\": \"1\", \"HINS3\": \"2\"}, {\"PARTNER\": \"1\", \"SFR\": \"3\", \"DDRS\": \"1\", \"HINS3\": \"2\"}, {\"PARTNER\": \"0\", \"SFR\": \"2\", \"DDRS\": \"0\", \"HINS3\": \"2\"}, {\"PARTNER\": \"-1\", \"SFR\": \"2\", \"DDRS\": \"0\", \"HINS3\": \"2\"}, {\"PARTNER\": \"3\", \"SFR\": \"2\", \"DDRS\": \"0\", \"HINS3\": \"2\"}, {\"PARTNER\": \"4\", \"SFR\": \"2\", \"DDRS\": \"0\", \"HINS3\": \"2\"}, {\"PARTNER\": \"2\", \"SFR\": \"2\", \"DDRS\": \"0\", \"HINS3\": \"2\"}, {\"PARTNER\": \"1\", \"SFR\": \"2\", \"DDRS\": \"0\", \"HINS3\": \"2\"}, {\"PARTNER\": \"0\", \"SFR\": \"6\", \"DDRS\": \"0\", \"HINS3\": \"2\"}, {\"PARTNER\": \"-1\", \"SFR\": \"6\", \"DDRS\": \"0\", \"HINS3\": \"2\"}, {\"PARTNER\": \"3\", \"SFR\": \"6\", \"DDRS\": \"0\", \"HINS3\": \"2\"}, {\"PARTNER\": \"4\", \"SFR\": \"6\", \"DDRS\": \"0\", \"HINS3\": \"2\"}, {\"PARTNER\": \"2\", \"SFR\": \"6\", \"DDRS\": \"0\", \"HINS3\": \"2\"}, {\"PARTNER\": \"1\", \"SFR\": \"6\", \"DDRS\": \"0\", \"HINS3\": \"2\"}, {\"PARTNER\": \"0\", \"SFR\": \"5\", \"DDRS\": \"0\", \"HINS3\": \"2\"}, {\"PARTNER\": \"-1\", \"SFR\": \"5\", \"DDRS\": \"0\", \"HINS3\": \"2\"}, {\"PARTNER\": \"3\", \"SFR\": \"5\", \"DDRS\": \"0\", \"HINS3\": \"2\"}, {\"PARTNER\": \"4\", \"SFR\": \"5\", \"DDRS\": \"0\", \"HINS3\": \"2\"}, {\"PARTNER\": \"2\", \"SFR\": \"5\", \"DDRS\": \"0\", \"HINS3\": \"2\"}, {\"PARTNER\": \"1\", \"SFR\": \"5\", \"DDRS\": \"0\", \"HINS3\": \"2\"}, {\"PARTNER\": \"0\", \"SFR\": \"1\", \"DDRS\": \"0\", \"HINS3\": \"2\"}, {\"PARTNER\": \"-1\", \"SFR\": \"1\", \"DDRS\": \"0\", \"HINS3\": \"2\"}, {\"PARTNER\": \"3\", \"SFR\": \"1\", \"DDRS\": \"0\", \"HINS3\": \"2\"}, {\"PARTNER\": \"4\", \"SFR\": \"1\", \"DDRS\": \"0\", \"HINS3\": \"2\"}, {\"PARTNER\": \"2\", \"SFR\": \"1\", \"DDRS\": \"0\", \"HINS3\": \"2\"}, {\"PARTNER\": \"1\", \"SFR\": \"1\", \"DDRS\": \"0\", \"HINS3\": \"2\"}, {\"PARTNER\": \"0\", \"SFR\": \"4\", \"DDRS\": \"0\", \"HINS3\": \"2\"}, {\"PARTNER\": \"-1\", \"SFR\": \"4\", \"DDRS\": \"0\", \"HINS3\": \"2\"}, {\"PARTNER\": \"3\", \"SFR\": \"4\", \"DDRS\": \"0\", \"HINS3\": \"2\"}, {\"PARTNER\": \"4\", \"SFR\": \"4\", \"DDRS\": \"0\", \"HINS3\": \"2\"}, {\"PARTNER\": \"2\", \"SFR\": \"4\", \"DDRS\": \"0\", \"HINS3\": \"2\"}, {\"PARTNER\": \"1\", \"SFR\": \"4\", \"DDRS\": \"0\", \"HINS3\": \"2\"}, {\"PARTNER\": \"0\", \"SFR\": \"0\", \"DDRS\": \"0\", \"HINS3\": \"2\"}, {\"PARTNER\": \"-1\", \"SFR\": \"0\", \"DDRS\": \"0\", \"HINS3\": \"2\"}, {\"PARTNER\": \"3\", \"SFR\": \"0\", \"DDRS\": \"0\", \"HINS3\": \"2\"}, {\"PARTNER\": \"4\", \"SFR\": \"0\", \"DDRS\": \"0\", \"HINS3\": \"2\"}, {\"PARTNER\": \"2\", \"SFR\": \"0\", \"DDRS\": \"0\", \"HINS3\": \"2\"}, {\"PARTNER\": \"1\", \"SFR\": \"0\", \"DDRS\": \"0\", \"HINS3\": \"2\"}, {\"PARTNER\": \"0\", \"SFR\": \"3\", \"DDRS\": \"0\", \"HINS3\": \"2\"}, {\"PARTNER\": \"-1\", \"SFR\": \"3\", \"DDRS\": \"0\", \"HINS3\": \"2\"}, {\"PARTNER\": \"3\", \"SFR\": \"3\", \"DDRS\": \"0\", \"HINS3\": \"2\"}, {\"PARTNER\": \"4\", \"SFR\": \"3\", \"DDRS\": \"0\", \"HINS3\": \"2\"}, {\"PARTNER\": \"2\", \"SFR\": \"3\", \"DDRS\": \"0\", \"HINS3\": \"2\"}, {\"PARTNER\": \"1\", \"SFR\": \"3\", \"DDRS\": \"0\", \"HINS3\": \"2\"}, {\"PARTNER\": \"0\", \"SFR\": \"2\", \"DDRS\": \"2\", \"HINS3\": \"2\"}, {\"PARTNER\": \"-1\", \"SFR\": \"2\", \"DDRS\": \"2\", \"HINS3\": \"2\"}, {\"PARTNER\": \"3\", \"SFR\": \"2\", \"DDRS\": \"2\", \"HINS3\": \"2\"}, {\"PARTNER\": \"4\", \"SFR\": \"2\", \"DDRS\": \"2\", \"HINS3\": \"2\"}, {\"PARTNER\": \"2\", \"SFR\": \"2\", \"DDRS\": \"2\", \"HINS3\": \"2\"}, {\"PARTNER\": \"1\", \"SFR\": \"2\", \"DDRS\": \"2\", \"HINS3\": \"2\"}, {\"PARTNER\": \"0\", \"SFR\": \"6\", \"DDRS\": \"2\", \"HINS3\": \"2\"}, {\"PARTNER\": \"-1\", \"SFR\": \"6\", \"DDRS\": \"2\", \"HINS3\": \"2\"}, {\"PARTNER\": \"3\", \"SFR\": \"6\", \"DDRS\": \"2\", \"HINS3\": \"2\"}, {\"PARTNER\": \"4\", \"SFR\": \"6\", \"DDRS\": \"2\", \"HINS3\": \"2\"}, {\"PARTNER\": \"2\", \"SFR\": \"6\", \"DDRS\": \"2\", \"HINS3\": \"2\"}, {\"PARTNER\": \"1\", \"SFR\": \"6\", \"DDRS\": \"2\", \"HINS3\": \"2\"}, {\"PARTNER\": \"0\", \"SFR\": \"5\", \"DDRS\": \"2\", \"HINS3\": \"2\"}, {\"PARTNER\": \"-1\", \"SFR\": \"5\", \"DDRS\": \"2\", \"HINS3\": \"2\"}, {\"PARTNER\": \"3\", \"SFR\": \"5\", \"DDRS\": \"2\", \"HINS3\": \"2\"}, {\"PARTNER\": \"4\", \"SFR\": \"5\", \"DDRS\": \"2\", \"HINS3\": \"2\"}, {\"PARTNER\": \"2\", \"SFR\": \"5\", \"DDRS\": \"2\", \"HINS3\": \"2\"}, {\"PARTNER\": \"1\", \"SFR\": \"5\", \"DDRS\": \"2\", \"HINS3\": \"2\"}, {\"PARTNER\": \"0\", \"SFR\": \"1\", \"DDRS\": \"2\", \"HINS3\": \"2\"}, {\"PARTNER\": \"-1\", \"SFR\": \"1\", \"DDRS\": \"2\", \"HINS3\": \"2\"}, {\"PARTNER\": \"3\", \"SFR\": \"1\", \"DDRS\": \"2\", \"HINS3\": \"2\"}, {\"PARTNER\": \"4\", \"SFR\": \"1\", \"DDRS\": \"2\", \"HINS3\": \"2\"}, {\"PARTNER\": \"2\", \"SFR\": \"1\", \"DDRS\": \"2\", \"HINS3\": \"2\"}, {\"PARTNER\": \"1\", \"SFR\": \"1\", \"DDRS\": \"2\", \"HINS3\": \"2\"}, {\"PARTNER\": \"0\", \"SFR\": \"4\", \"DDRS\": \"2\", \"HINS3\": \"2\"}, {\"PARTNER\": \"-1\", \"SFR\": \"4\", \"DDRS\": \"2\", \"HINS3\": \"2\"}, {\"PARTNER\": \"3\", \"SFR\": \"4\", \"DDRS\": \"2\", \"HINS3\": \"2\"}, {\"PARTNER\": \"4\", \"SFR\": \"4\", \"DDRS\": \"2\", \"HINS3\": \"2\"}, {\"PARTNER\": \"2\", \"SFR\": \"4\", \"DDRS\": \"2\", \"HINS3\": \"2\"}, {\"PARTNER\": \"1\", \"SFR\": \"4\", \"DDRS\": \"2\", \"HINS3\": \"2\"}, {\"PARTNER\": \"0\", \"SFR\": \"0\", \"DDRS\": \"2\", \"HINS3\": \"2\"}, {\"PARTNER\": \"-1\", \"SFR\": \"0\", \"DDRS\": \"2\", \"HINS3\": \"2\"}, {\"PARTNER\": \"3\", \"SFR\": \"0\", \"DDRS\": \"2\", \"HINS3\": \"2\"}, {\"PARTNER\": \"4\", \"SFR\": \"0\", \"DDRS\": \"2\", \"HINS3\": \"2\"}, {\"PARTNER\": \"2\", \"SFR\": \"0\", \"DDRS\": \"2\", \"HINS3\": \"2\"}, {\"PARTNER\": \"1\", \"SFR\": \"0\", \"DDRS\": \"2\", \"HINS3\": \"2\"}, {\"PARTNER\": \"0\", \"SFR\": \"3\", \"DDRS\": \"2\", \"HINS3\": \"2\"}, {\"PARTNER\": \"-1\", \"SFR\": \"3\", \"DDRS\": \"2\", \"HINS3\": \"2\"}, {\"PARTNER\": \"3\", \"SFR\": \"3\", \"DDRS\": \"2\", \"HINS3\": \"2\"}, {\"PARTNER\": \"4\", \"SFR\": \"3\", \"DDRS\": \"2\", \"HINS3\": \"2\"}, {\"PARTNER\": \"2\", \"SFR\": \"3\", \"DDRS\": \"2\", \"HINS3\": \"2\"}, {\"PARTNER\": \"1\", \"SFR\": \"3\", \"DDRS\": \"2\", \"HINS3\": \"2\"}, {\"PARTNER\": \"0\", \"SFR\": \"2\", \"DDRS\": \"1\", \"HINS3\": \"1\"}, {\"PARTNER\": \"-1\", \"SFR\": \"2\", \"DDRS\": \"1\", \"HINS3\": \"1\"}, {\"PARTNER\": \"3\", \"SFR\": \"2\", \"DDRS\": \"1\", \"HINS3\": \"1\"}, {\"PARTNER\": \"4\", \"SFR\": \"2\", \"DDRS\": \"1\", \"HINS3\": \"1\"}, {\"PARTNER\": \"2\", \"SFR\": \"2\", \"DDRS\": \"1\", \"HINS3\": \"1\"}, {\"PARTNER\": \"1\", \"SFR\": \"2\", \"DDRS\": \"1\", \"HINS3\": \"1\"}, {\"PARTNER\": \"0\", \"SFR\": \"6\", \"DDRS\": \"1\", \"HINS3\": \"1\"}, {\"PARTNER\": \"-1\", \"SFR\": \"6\", \"DDRS\": \"1\", \"HINS3\": \"1\"}, {\"PARTNER\": \"3\", \"SFR\": \"6\", \"DDRS\": \"1\", \"HINS3\": \"1\"}, {\"PARTNER\": \"4\", \"SFR\": \"6\", \"DDRS\": \"1\", \"HINS3\": \"1\"}, {\"PARTNER\": \"2\", \"SFR\": \"6\", \"DDRS\": \"1\", \"HINS3\": \"1\"}, {\"PARTNER\": \"1\", \"SFR\": \"6\", \"DDRS\": \"1\", \"HINS3\": \"1\"}, {\"PARTNER\": \"0\", \"SFR\": \"5\", \"DDRS\": \"1\", \"HINS3\": \"1\"}, {\"PARTNER\": \"-1\", \"SFR\": \"5\", \"DDRS\": \"1\", \"HINS3\": \"1\"}, {\"PARTNER\": \"3\", \"SFR\": \"5\", \"DDRS\": \"1\", \"HINS3\": \"1\"}, {\"PARTNER\": \"4\", \"SFR\": \"5\", \"DDRS\": \"1\", \"HINS3\": \"1\"}, {\"PARTNER\": \"2\", \"SFR\": \"5\", \"DDRS\": \"1\", \"HINS3\": \"1\"}, {\"PARTNER\": \"1\", \"SFR\": \"5\", \"DDRS\": \"1\", \"HINS3\": \"1\"}, {\"PARTNER\": \"0\", \"SFR\": \"1\", \"DDRS\": \"1\", \"HINS3\": \"1\"}, {\"PARTNER\": \"-1\", \"SFR\": \"1\", \"DDRS\": \"1\", \"HINS3\": \"1\"}, {\"PARTNER\": \"3\", \"SFR\": \"1\", \"DDRS\": \"1\", \"HINS3\": \"1\"}, {\"PARTNER\": \"4\", \"SFR\": \"1\", \"DDRS\": \"1\", \"HINS3\": \"1\"}, {\"PARTNER\": \"2\", \"SFR\": \"1\", \"DDRS\": \"1\", \"HINS3\": \"1\"}, {\"PARTNER\": \"1\", \"SFR\": \"1\", \"DDRS\": \"1\", \"HINS3\": \"1\"}, {\"PARTNER\": \"0\", \"SFR\": \"4\", \"DDRS\": \"1\", \"HINS3\": \"1\"}, {\"PARTNER\": \"-1\", \"SFR\": \"4\", \"DDRS\": \"1\", \"HINS3\": \"1\"}, {\"PARTNER\": \"3\", \"SFR\": \"4\", \"DDRS\": \"1\", \"HINS3\": \"1\"}, {\"PARTNER\": \"4\", \"SFR\": \"4\", \"DDRS\": \"1\", \"HINS3\": \"1\"}, {\"PARTNER\": \"2\", \"SFR\": \"4\", \"DDRS\": \"1\", \"HINS3\": \"1\"}, {\"PARTNER\": \"1\", \"SFR\": \"4\", \"DDRS\": \"1\", \"HINS3\": \"1\"}, {\"PARTNER\": \"0\", \"SFR\": \"0\", \"DDRS\": \"1\", \"HINS3\": \"1\"}, {\"PARTNER\": \"-1\", \"SFR\": \"0\", \"DDRS\": \"1\", \"HINS3\": \"1\"}, {\"PARTNER\": \"3\", \"SFR\": \"0\", \"DDRS\": \"1\", \"HINS3\": \"1\"}, {\"PARTNER\": \"4\", \"SFR\": \"0\", \"DDRS\": \"1\", \"HINS3\": \"1\"}, {\"PARTNER\": \"2\", \"SFR\": \"0\", \"DDRS\": \"1\", \"HINS3\": \"1\"}, {\"PARTNER\": \"1\", \"SFR\": \"0\", \"DDRS\": \"1\", \"HINS3\": \"1\"}, {\"PARTNER\": \"0\", \"SFR\": \"3\", \"DDRS\": \"1\", \"HINS3\": \"1\"}, {\"PARTNER\": \"-1\", \"SFR\": \"3\", \"DDRS\": \"1\", \"HINS3\": \"1\"}, {\"PARTNER\": \"3\", \"SFR\": \"3\", \"DDRS\": \"1\", \"HINS3\": \"1\"}, {\"PARTNER\": \"4\", \"SFR\": \"3\", \"DDRS\": \"1\", \"HINS3\": \"1\"}, {\"PARTNER\": \"2\", \"SFR\": \"3\", \"DDRS\": \"1\", \"HINS3\": \"1\"}, {\"PARTNER\": \"1\", \"SFR\": \"3\", \"DDRS\": \"1\", \"HINS3\": \"1\"}, {\"PARTNER\": \"0\", \"SFR\": \"2\", \"DDRS\": \"0\", \"HINS3\": \"1\"}, {\"PARTNER\": \"-1\", \"SFR\": \"2\", \"DDRS\": \"0\", \"HINS3\": \"1\"}, {\"PARTNER\": \"3\", \"SFR\": \"2\", \"DDRS\": \"0\", \"HINS3\": \"1\"}, {\"PARTNER\": \"4\", \"SFR\": \"2\", \"DDRS\": \"0\", \"HINS3\": \"1\"}, {\"PARTNER\": \"2\", \"SFR\": \"2\", \"DDRS\": \"0\", \"HINS3\": \"1\"}, {\"PARTNER\": \"1\", \"SFR\": \"2\", \"DDRS\": \"0\", \"HINS3\": \"1\"}, {\"PARTNER\": \"0\", \"SFR\": \"6\", \"DDRS\": \"0\", \"HINS3\": \"1\"}, {\"PARTNER\": \"-1\", \"SFR\": \"6\", \"DDRS\": \"0\", \"HINS3\": \"1\"}, {\"PARTNER\": \"3\", \"SFR\": \"6\", \"DDRS\": \"0\", \"HINS3\": \"1\"}, {\"PARTNER\": \"4\", \"SFR\": \"6\", \"DDRS\": \"0\", \"HINS3\": \"1\"}, {\"PARTNER\": \"2\", \"SFR\": \"6\", \"DDRS\": \"0\", \"HINS3\": \"1\"}, {\"PARTNER\": \"1\", \"SFR\": \"6\", \"DDRS\": \"0\", \"HINS3\": \"1\"}, {\"PARTNER\": \"0\", \"SFR\": \"5\", \"DDRS\": \"0\", \"HINS3\": \"1\"}, {\"PARTNER\": \"-1\", \"SFR\": \"5\", \"DDRS\": \"0\", \"HINS3\": \"1\"}, {\"PARTNER\": \"3\", \"SFR\": \"5\", \"DDRS\": \"0\", \"HINS3\": \"1\"}, {\"PARTNER\": \"4\", \"SFR\": \"5\", \"DDRS\": \"0\", \"HINS3\": \"1\"}, {\"PARTNER\": \"2\", \"SFR\": \"5\", \"DDRS\": \"0\", \"HINS3\": \"1\"}, {\"PARTNER\": \"1\", \"SFR\": \"5\", \"DDRS\": \"0\", \"HINS3\": \"1\"}, {\"PARTNER\": \"0\", \"SFR\": \"1\", \"DDRS\": \"0\", \"HINS3\": \"1\"}, {\"PARTNER\": \"-1\", \"SFR\": \"1\", \"DDRS\": \"0\", \"HINS3\": \"1\"}, {\"PARTNER\": \"3\", \"SFR\": \"1\", \"DDRS\": \"0\", \"HINS3\": \"1\"}, {\"PARTNER\": \"4\", \"SFR\": \"1\", \"DDRS\": \"0\", \"HINS3\": \"1\"}, {\"PARTNER\": \"2\", \"SFR\": \"1\", \"DDRS\": \"0\", \"HINS3\": \"1\"}, {\"PARTNER\": \"1\", \"SFR\": \"1\", \"DDRS\": \"0\", \"HINS3\": \"1\"}, {\"PARTNER\": \"0\", \"SFR\": \"4\", \"DDRS\": \"0\", \"HINS3\": \"1\"}, {\"PARTNER\": \"-1\", \"SFR\": \"4\", \"DDRS\": \"0\", \"HINS3\": \"1\"}, {\"PARTNER\": \"3\", \"SFR\": \"4\", \"DDRS\": \"0\", \"HINS3\": \"1\"}, {\"PARTNER\": \"4\", \"SFR\": \"4\", \"DDRS\": \"0\", \"HINS3\": \"1\"}, {\"PARTNER\": \"2\", \"SFR\": \"4\", \"DDRS\": \"0\", \"HINS3\": \"1\"}, {\"PARTNER\": \"1\", \"SFR\": \"4\", \"DDRS\": \"0\", \"HINS3\": \"1\"}, {\"PARTNER\": \"0\", \"SFR\": \"0\", \"DDRS\": \"0\", \"HINS3\": \"1\"}, {\"PARTNER\": \"-1\", \"SFR\": \"0\", \"DDRS\": \"0\", \"HINS3\": \"1\"}, {\"PARTNER\": \"3\", \"SFR\": \"0\", \"DDRS\": \"0\", \"HINS3\": \"1\"}, {\"PARTNER\": \"4\", \"SFR\": \"0\", \"DDRS\": \"0\", \"HINS3\": \"1\"}, {\"PARTNER\": \"2\", \"SFR\": \"0\", \"DDRS\": \"0\", \"HINS3\": \"1\"}, {\"PARTNER\": \"1\", \"SFR\": \"0\", \"DDRS\": \"0\", \"HINS3\": \"1\"}, {\"PARTNER\": \"0\", \"SFR\": \"3\", \"DDRS\": \"0\", \"HINS3\": \"1\"}, {\"PARTNER\": \"-1\", \"SFR\": \"3\", \"DDRS\": \"0\", \"HINS3\": \"1\"}, {\"PARTNER\": \"3\", \"SFR\": \"3\", \"DDRS\": \"0\", \"HINS3\": \"1\"}, {\"PARTNER\": \"4\", \"SFR\": \"3\", \"DDRS\": \"0\", \"HINS3\": \"1\"}, {\"PARTNER\": \"2\", \"SFR\": \"3\", \"DDRS\": \"0\", \"HINS3\": \"1\"}, {\"PARTNER\": \"1\", \"SFR\": \"3\", \"DDRS\": \"0\", \"HINS3\": \"1\"}, {\"PARTNER\": \"0\", \"SFR\": \"2\", \"DDRS\": \"2\", \"HINS3\": \"1\"}, {\"PARTNER\": \"-1\", \"SFR\": \"2\", \"DDRS\": \"2\", \"HINS3\": \"1\"}, {\"PARTNER\": \"3\", \"SFR\": \"2\", \"DDRS\": \"2\", \"HINS3\": \"1\"}, {\"PARTNER\": \"4\", \"SFR\": \"2\", \"DDRS\": \"2\", \"HINS3\": \"1\"}, {\"PARTNER\": \"2\", \"SFR\": \"2\", \"DDRS\": \"2\", \"HINS3\": \"1\"}, {\"PARTNER\": \"1\", \"SFR\": \"2\", \"DDRS\": \"2\", \"HINS3\": \"1\"}, {\"PARTNER\": \"0\", \"SFR\": \"6\", \"DDRS\": \"2\", \"HINS3\": \"1\"}, {\"PARTNER\": \"-1\", \"SFR\": \"6\", \"DDRS\": \"2\", \"HINS3\": \"1\"}, {\"PARTNER\": \"3\", \"SFR\": \"6\", \"DDRS\": \"2\", \"HINS3\": \"1\"}, {\"PARTNER\": \"4\", \"SFR\": \"6\", \"DDRS\": \"2\", \"HINS3\": \"1\"}, {\"PARTNER\": \"2\", \"SFR\": \"6\", \"DDRS\": \"2\", \"HINS3\": \"1\"}, {\"PARTNER\": \"1\", \"SFR\": \"6\", \"DDRS\": \"2\", \"HINS3\": \"1\"}, {\"PARTNER\": \"0\", \"SFR\": \"5\", \"DDRS\": \"2\", \"HINS3\": \"1\"}, {\"PARTNER\": \"-1\", \"SFR\": \"5\", \"DDRS\": \"2\", \"HINS3\": \"1\"}, {\"PARTNER\": \"3\", \"SFR\": \"5\", \"DDRS\": \"2\", \"HINS3\": \"1\"}, {\"PARTNER\": \"4\", \"SFR\": \"5\", \"DDRS\": \"2\", \"HINS3\": \"1\"}, {\"PARTNER\": \"2\", \"SFR\": \"5\", \"DDRS\": \"2\", \"HINS3\": \"1\"}, {\"PARTNER\": \"1\", \"SFR\": \"5\", \"DDRS\": \"2\", \"HINS3\": \"1\"}, {\"PARTNER\": \"0\", \"SFR\": \"1\", \"DDRS\": \"2\", \"HINS3\": \"1\"}, {\"PARTNER\": \"-1\", \"SFR\": \"1\", \"DDRS\": \"2\", \"HINS3\": \"1\"}, {\"PARTNER\": \"3\", \"SFR\": \"1\", \"DDRS\": \"2\", \"HINS3\": \"1\"}, {\"PARTNER\": \"4\", \"SFR\": \"1\", \"DDRS\": \"2\", \"HINS3\": \"1\"}, {\"PARTNER\": \"2\", \"SFR\": \"1\", \"DDRS\": \"2\", \"HINS3\": \"1\"}, {\"PARTNER\": \"1\", \"SFR\": \"1\", \"DDRS\": \"2\", \"HINS3\": \"1\"}, {\"PARTNER\": \"0\", \"SFR\": \"4\", \"DDRS\": \"2\", \"HINS3\": \"1\"}, {\"PARTNER\": \"-1\", \"SFR\": \"4\", \"DDRS\": \"2\", \"HINS3\": \"1\"}, {\"PARTNER\": \"3\", \"SFR\": \"4\", \"DDRS\": \"2\", \"HINS3\": \"1\"}, {\"PARTNER\": \"4\", \"SFR\": \"4\", \"DDRS\": \"2\", \"HINS3\": \"1\"}, {\"PARTNER\": \"2\", \"SFR\": \"4\", \"DDRS\": \"2\", \"HINS3\": \"1\"}, {\"PARTNER\": \"1\", \"SFR\": \"4\", \"DDRS\": \"2\", \"HINS3\": \"1\"}, {\"PARTNER\": \"0\", \"SFR\": \"0\", \"DDRS\": \"2\", \"HINS3\": \"1\"}, {\"PARTNER\": \"-1\", \"SFR\": \"0\", \"DDRS\": \"2\", \"HINS3\": \"1\"}, {\"PARTNER\": \"3\", \"SFR\": \"0\", \"DDRS\": \"2\", \"HINS3\": \"1\"}, {\"PARTNER\": \"4\", \"SFR\": \"0\", \"DDRS\": \"2\", \"HINS3\": \"1\"}, {\"PARTNER\": \"2\", \"SFR\": \"0\", \"DDRS\": \"2\", \"HINS3\": \"1\"}, {\"PARTNER\": \"1\", \"SFR\": \"0\", \"DDRS\": \"2\", \"HINS3\": \"1\"}, {\"PARTNER\": \"0\", \"SFR\": \"3\", \"DDRS\": \"2\", \"HINS3\": \"1\"}, {\"PARTNER\": \"-1\", \"SFR\": \"3\", \"DDRS\": \"2\", \"HINS3\": \"1\"}, {\"PARTNER\": \"3\", \"SFR\": \"3\", \"DDRS\": \"2\", \"HINS3\": \"1\"}, {\"PARTNER\": \"4\", \"SFR\": \"3\", \"DDRS\": \"2\", \"HINS3\": \"1\"}, {\"PARTNER\": \"2\", \"SFR\": \"3\", \"DDRS\": \"2\", \"HINS3\": \"1\"}, {\"PARTNER\": \"1\", \"SFR\": \"3\", \"DDRS\": \"2\", \"HINS3\": \"1\"},\"ADJHSG\", \"REFR\", \"DECADE\", \"ACR\", \"MLPJ\"]There was an error while running your query.  We\\'ve logged the error and we\\'ll correct it ASAP.  Sorry for the inconvenience.'"
      ]
     },
     "execution_count": 13,
     "metadata": {},
     "output_type": "execute_result"
    }
   ],
   "source": [
    "census_data.text"
   ]
  },
  {
   "cell_type": "code",
   "execution_count": 14,
   "id": "22388e99",
   "metadata": {},
   "outputs": [
    {
     "data": {
      "text/html": [
       "<div>\n",
       "<style scoped>\n",
       "    .dataframe tbody tr th:only-of-type {\n",
       "        vertical-align: middle;\n",
       "    }\n",
       "\n",
       "    .dataframe tbody tr th {\n",
       "        vertical-align: top;\n",
       "    }\n",
       "\n",
       "    .dataframe thead th {\n",
       "        text-align: right;\n",
       "    }\n",
       "</style>\n",
       "<table border=\"1\" class=\"dataframe\">\n",
       "  <thead>\n",
       "    <tr style=\"text-align: right;\">\n",
       "      <th></th>\n",
       "      <th>0</th>\n",
       "    </tr>\n",
       "  </thead>\n",
       "  <tbody>\n",
       "    <tr>\n",
       "      <th>0</th>\n",
       "      <td>b'[[{\"PARTNER\": \"0\", \"SFR\": \"2\", \"DDRS\": \"1\", ...</td>\n",
       "    </tr>\n",
       "    <tr>\n",
       "      <th>1</th>\n",
       "      <td>b' \"3\", \"SFR\": \"2\", \"DDRS\": \"1\", \"HINS3\": \"2\"}...</td>\n",
       "    </tr>\n",
       "    <tr>\n",
       "      <th>2</th>\n",
       "      <td>b'2\", \"DDRS\": \"1\", \"HINS3\": \"2\"}, {\"PARTNER\": ...</td>\n",
       "    </tr>\n",
       "    <tr>\n",
       "      <th>3</th>\n",
       "      <td>b'\", \"HINS3\": \"2\"}, {\"PARTNER\": \"-1\", \"SFR\": \"...</td>\n",
       "    </tr>\n",
       "    <tr>\n",
       "      <th>4</th>\n",
       "      <td>b'2\"}, {\"PARTNER\": \"4\", \"SFR\": \"6\", \"DDRS\": \"1...</td>\n",
       "    </tr>\n",
       "    <tr>\n",
       "      <th>...</th>\n",
       "      <td>...</td>\n",
       "    </tr>\n",
       "    <tr>\n",
       "      <th>109</th>\n",
       "      <td>b'\"PARTNER\": \"2\", \"SFR\": \"0\", \"DDRS\": \"2\", \"HI...</td>\n",
       "    </tr>\n",
       "    <tr>\n",
       "      <th>110</th>\n",
       "      <td>b', \"SFR\": \"3\", \"DDRS\": \"2\", \"HINS3\": \"1\"}, {\"...</td>\n",
       "    </tr>\n",
       "    <tr>\n",
       "      <th>111</th>\n",
       "      <td>b' \"DDRS\": \"2\", \"HINS3\": \"1\"}, {\"PARTNER\": \"4\"...</td>\n",
       "    </tr>\n",
       "    <tr>\n",
       "      <th>112</th>\n",
       "      <td>b'\"HINS3\": \"1\"}, {\"PARTNER\": \"1\", \"SFR\": \"3\", ...</td>\n",
       "    </tr>\n",
       "    <tr>\n",
       "      <th>113</th>\n",
       "      <td>b\"ror while running your query.  We've logged ...</td>\n",
       "    </tr>\n",
       "  </tbody>\n",
       "</table>\n",
       "<p>114 rows × 1 columns</p>\n",
       "</div>"
      ],
      "text/plain": [
       "                                                     0\n",
       "0    b'[[{\"PARTNER\": \"0\", \"SFR\": \"2\", \"DDRS\": \"1\", ...\n",
       "1    b' \"3\", \"SFR\": \"2\", \"DDRS\": \"1\", \"HINS3\": \"2\"}...\n",
       "2    b'2\", \"DDRS\": \"1\", \"HINS3\": \"2\"}, {\"PARTNER\": ...\n",
       "3    b'\", \"HINS3\": \"2\"}, {\"PARTNER\": \"-1\", \"SFR\": \"...\n",
       "4    b'2\"}, {\"PARTNER\": \"4\", \"SFR\": \"6\", \"DDRS\": \"1...\n",
       "..                                                 ...\n",
       "109  b'\"PARTNER\": \"2\", \"SFR\": \"0\", \"DDRS\": \"2\", \"HI...\n",
       "110  b', \"SFR\": \"3\", \"DDRS\": \"2\", \"HINS3\": \"1\"}, {\"...\n",
       "111  b' \"DDRS\": \"2\", \"HINS3\": \"1\"}, {\"PARTNER\": \"4\"...\n",
       "112  b'\"HINS3\": \"1\"}, {\"PARTNER\": \"1\", \"SFR\": \"3\", ...\n",
       "113  b\"ror while running your query.  We've logged ...\n",
       "\n",
       "[114 rows x 1 columns]"
      ]
     },
     "execution_count": 14,
     "metadata": {},
     "output_type": "execute_result"
    }
   ],
   "source": [
    "census_df"
   ]
  }
 ],
 "metadata": {
  "kernelspec": {
   "display_name": "Python 3 (ipykernel)",
   "language": "python",
   "name": "python3"
  },
  "language_info": {
   "codemirror_mode": {
    "name": "ipython",
    "version": 3
   },
   "file_extension": ".py",
   "mimetype": "text/x-python",
   "name": "python",
   "nbconvert_exporter": "python",
   "pygments_lexer": "ipython3",
   "version": "3.10.4"
  }
 },
 "nbformat": 4,
 "nbformat_minor": 5
}
