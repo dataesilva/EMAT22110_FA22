{
 "cells": [
  {
   "cell_type": "code",
   "execution_count": 1,
   "id": "499bbf4b",
   "metadata": {},
   "outputs": [],
   "source": [
    "import pandas as pd\n",
    "import json\n",
    "import requests\n",
    "import urllib"
   ]
  },
  {
   "cell_type": "code",
   "execution_count": 2,
   "id": "3d911af9",
   "metadata": {},
   "outputs": [
    {
     "name": "stdout",
     "output_type": "stream",
     "text": [
      " Volume in drive C is Windows\n",
      " Volume Serial Number is 88B8-561F\n",
      "\n",
      " Directory of C:\\Users\\dsilva2\\EMAT22110_FA22\n",
      "\n",
      "09/22/2022  11:46 AM    <DIR>          .\n",
      "09/22/2022  11:46 AM    <DIR>          ..\n",
      "09/22/2022  11:45 AM    <DIR>          .ipynb_checkpoints\n",
      "08/30/2022  12:14 PM             1,231 8-30_inclass.ipynb\n",
      "09/01/2022  11:27 AM               696 9-1_in-class.ipynb\n",
      "09/15/2022  10:19 PM            24,001 9-15_in-class.ipynb\n",
      "09/22/2022  11:43 AM               962 9-22_in-class.ipynb\n",
      "09/21/2022  10:03 PM            98,823 9-22_prep.ipynb\n",
      "09/06/2022  12:11 PM           531,684 9-6_in-class.ipynb\n",
      "09/06/2022  09:50 AM    <DIR>          facebook-davidsilva100046_full\n",
      "09/06/2022  09:48 AM    <DIR>          facebook-davidsilva100046_year-toshare\n",
      "09/06/2022  09:27 AM           597,973 facebook-davidsilva100046_year-toshare.zip\n",
      "09/01/2022  12:14 PM             2,232 Silva_SystemsCheck.ipynb\n",
      "09/22/2022  11:46 AM               127 Twitter_Token_9-22.txt\n",
      "09/21/2022  09:34 PM               125 Twitter-Key_9-21-22.txt\n",
      "              10 File(s)      1,257,854 bytes\n",
      "               5 Dir(s)  193,504,890,880 bytes free\n"
     ]
    }
   ],
   "source": [
    "ls"
   ]
  },
  {
   "cell_type": "code",
   "execution_count": 4,
   "id": "813d123b",
   "metadata": {},
   "outputs": [],
   "source": [
    "bearer_token = pd.read_csv(\"Twitter_Token_9-22.txt\", header = 0, sep = '\\t')"
   ]
  },
  {
   "cell_type": "code",
   "execution_count": 7,
   "id": "42408f07",
   "metadata": {},
   "outputs": [
    {
     "data": {
      "text/plain": [
       "'AAAAAAAAAAAAAAAAAAAAABVvgAEAAAAA47vNQpZedCZ5%2BXmSQVRljWjPTnI%3Dh5Yo341SHWeZ3jgd9zk6IK3GWijcGVt4lNQkVyBapa02VhXXBc'"
      ]
     },
     "execution_count": 7,
     "metadata": {},
     "output_type": "execute_result"
    }
   ],
   "source": [
    "bearer_token['Bearer_Token'].iloc[0]"
   ]
  },
  {
   "cell_type": "code",
   "execution_count": 8,
   "id": "5aa9832d",
   "metadata": {},
   "outputs": [
    {
     "name": "stdout",
     "output_type": "stream",
     "text": [
      "this is fun\n"
     ]
    }
   ],
   "source": [
    "print('this is {}'.format('fun'))"
   ]
  },
  {
   "cell_type": "code",
   "execution_count": 11,
   "id": "6978e8ff",
   "metadata": {},
   "outputs": [],
   "source": [
    "headers = {'Authorization':'Bearer {}'.format(bearer_token['Bearer_Token'].iloc[0])}"
   ]
  },
  {
   "cell_type": "code",
   "execution_count": 13,
   "id": "ca55c063",
   "metadata": {},
   "outputs": [],
   "source": [
    "endpoint = 'https://api.twitter.com/2/tweets/search/recent'"
   ]
  },
  {
   "cell_type": "code",
   "execution_count": 14,
   "id": "ee192dfd",
   "metadata": {},
   "outputs": [],
   "source": [
    "search_recent_url = endpoint + '?query={}'.format('nfl browns')"
   ]
  },
  {
   "cell_type": "code",
   "execution_count": 15,
   "id": "e34a467f",
   "metadata": {},
   "outputs": [
    {
     "data": {
      "text/plain": [
       "'https://api.twitter.com/2/tweets/search/recent?query=nfl browns'"
      ]
     },
     "execution_count": 15,
     "metadata": {},
     "output_type": "execute_result"
    }
   ],
   "source": [
    "search_recent_url"
   ]
  },
  {
   "cell_type": "code",
   "execution_count": 17,
   "id": "50e81e7a",
   "metadata": {},
   "outputs": [],
   "source": [
    "query = urllib.parse.quote('nfl browns')"
   ]
  },
  {
   "cell_type": "code",
   "execution_count": 18,
   "id": "62f3526f",
   "metadata": {},
   "outputs": [
    {
     "data": {
      "text/plain": [
       "'nfl%20browns'"
      ]
     },
     "execution_count": 18,
     "metadata": {},
     "output_type": "execute_result"
    }
   ],
   "source": [
    "query"
   ]
  },
  {
   "cell_type": "code",
   "execution_count": 29,
   "id": "bd927463",
   "metadata": {},
   "outputs": [],
   "source": [
    "search_recent_url = endpoint + '?query={}'.format(query)"
   ]
  },
  {
   "cell_type": "code",
   "execution_count": 30,
   "id": "6775a854",
   "metadata": {},
   "outputs": [
    {
     "data": {
      "text/plain": [
       "'https://api.twitter.com/2/tweets/search/recent?query=nfl%20browns'"
      ]
     },
     "execution_count": 30,
     "metadata": {},
     "output_type": "execute_result"
    }
   ],
   "source": [
    "search_recent_url"
   ]
  },
  {
   "cell_type": "code",
   "execution_count": 31,
   "id": "36efcdd3",
   "metadata": {},
   "outputs": [],
   "source": [
    "response = requests.get(search_recent_url, headers = headers)"
   ]
  },
  {
   "cell_type": "code",
   "execution_count": 32,
   "id": "a59ae016",
   "metadata": {},
   "outputs": [
    {
     "data": {
      "text/plain": [
       "<Response [200]>"
      ]
     },
     "execution_count": 32,
     "metadata": {},
     "output_type": "execute_result"
    }
   ],
   "source": [
    "response"
   ]
  },
  {
   "cell_type": "code",
   "execution_count": 35,
   "id": "f18f3333",
   "metadata": {},
   "outputs": [
    {
     "data": {
      "text/plain": [
       "'{\"data\":[{\"id\":\"1572981278747643906\",\"text\":\"NFL 2022 WEEK 2 \\\\nGLI HIGHLIGHTS NON SCRITTI \\\\n\\\\nBROWNS-JETS \\\\nSegna Chubb, ma guardate (0.05) che blocco Teller - il 77 di Cleveland - assesta a Mosley - 57 NY -. Da svenimento istantaneo.\\\\nhttps://t.co/b2Kt7EQDZB\\\\n@rprat75\"},{\"id\":\"1572981189149085699\",\"text\":\"RT @nflnewss24: Cleveland Browns vs Pittsburgh Steelers Live Stream\\\\nsteelers at browns\\\\uD83D\\\\uDC49https://t.co/YINMOkZAhT\\\\ncleveland browns steelers\\\\npi…\"},{\"id\":\"1572981155670159360\",\"text\":\"@Jamey_Messina @NFL Best; Chargers\\\\nWorst; Browns (is it a helmet or is it bunny rabbit?)\"},{\"id\":\"1572981068755795969\",\"text\":\"\\'GMFB\\' calls their shot ahead of Steelers-Browns https://t.co/oePCLzivf1 #Steelers https://t.co/wfBnIbmVD6\"},{\"id\":\"1572981061448974336\",\"text\":\"Cleveland Browns vs Pittsburgh Steelers Live Stream\\\\nsteelers at browns\\\\uD83D\\\\uDC49https://t.co/YINMOkZAhT\\\\ncleveland browns steelers\\\\npitt vs cleveland\\\\nnfl browns vs steelers\\\\nbrowns steelers stream\\\\nbrowns vs steelers 2022\\\\nsteelers browns live stream\\\\nbrowns vs steelers stream #NFL #Browns https://t.co/nZiQclmVtQ\"},{\"id\":\"1572981055174361089\",\"text\":\"Report: Celtics\\' Udoka facing 2022-23 suspension for relationship with staffer\\\\n\\\\nBut Deshaun Watson gets only 11 games for 26 sexual assaults?\\\\n\\\\nOur society is officially broken.\\\\n\\\\n#NBA\\\\n#NFL\\\\n#Celtics\\\\n#Browns\\\\n\\\\nhttps://t.co/1MlIWl2BO4\"},{\"id\":\"1572981021057875968\",\"text\":\"RT @chrismeaney: Mean Streets is LIVE @FTNNetwork powered by @GamePlusNetwork \\\\n\\\\n@5ive_for_siix joins the show!\\\\n\\\\n\\\\uD83C\\\\uDFC8 Browns vs Steelers Previe…\"},{\"id\":\"1572981016029188096\",\"text\":\"RT @westwood1sports: Week 3 starts in Cleveland!\\\\n\\\\nPregame at 7:30pm ET\\\\n\\\\n\\\\uD83C\\\\uDFC8: @steelers vs. @Browns \\\\n\\\\uD83D\\\\uDDE3️: Ian Eagle &amp; @JasonMcCourty \\\\n\\\\uD83D\\\\uDCFB: Affili…\"},{\"id\":\"1572980967794511874\",\"text\":\"BALL CALL!!!!!! its thursday which means THURSDAY NIGHT FOOTBALL!!! we have an AFC NORTH battle between the browns and the steelers tonight at 8:15. pls ensure that any and all fantasy team lineups are set before kickoff for WEEK THREE OF NFL FOOTBALL!!!!!!\"},{\"id\":\"1572980926480777217\",\"text\":\"RT NBC6News \\\\\"Big Game Bound: Browns, Steelers look to rebound after tough losses https://t.co/j2TEpezEss\\\\\"\"}],\"meta\":{\"newest_id\":\"1572981278747643906\",\"oldest_id\":\"1572980926480777217\",\"result_count\":10,\"next_token\":\"b26v89c19zqg8o3fpzbkioxrzzmsuoi71dw9x7odyimbh\"}}'"
      ]
     },
     "execution_count": 35,
     "metadata": {},
     "output_type": "execute_result"
    }
   ],
   "source": [
    "response.text"
   ]
  },
  {
   "cell_type": "code",
   "execution_count": 36,
   "id": "8f8a6972",
   "metadata": {},
   "outputs": [],
   "source": [
    "response_dict = json.loads(response.text)"
   ]
  },
  {
   "cell_type": "code",
   "execution_count": 37,
   "id": "68b85e23",
   "metadata": {},
   "outputs": [
    {
     "data": {
      "text/plain": [
       "dict_keys(['data', 'meta'])"
      ]
     },
     "execution_count": 37,
     "metadata": {},
     "output_type": "execute_result"
    }
   ],
   "source": [
    "response_dict.keys()"
   ]
  },
  {
   "cell_type": "code",
   "execution_count": 38,
   "id": "6eb7ad0f",
   "metadata": {},
   "outputs": [
    {
     "data": {
      "text/plain": [
       "[{'id': '1572981278747643906',\n",
       "  'text': 'NFL 2022 WEEK 2 \\nGLI HIGHLIGHTS NON SCRITTI \\n\\nBROWNS-JETS \\nSegna Chubb, ma guardate (0.05) che blocco Teller - il 77 di Cleveland - assesta a Mosley - 57 NY -. Da svenimento istantaneo.\\nhttps://t.co/b2Kt7EQDZB\\n@rprat75'},\n",
       " {'id': '1572981189149085699',\n",
       "  'text': 'RT @nflnewss24: Cleveland Browns vs Pittsburgh Steelers Live Stream\\nsteelers at browns👉https://t.co/YINMOkZAhT\\ncleveland browns steelers\\npi…'},\n",
       " {'id': '1572981155670159360',\n",
       "  'text': '@Jamey_Messina @NFL Best; Chargers\\nWorst; Browns (is it a helmet or is it bunny rabbit?)'},\n",
       " {'id': '1572981068755795969',\n",
       "  'text': \"'GMFB' calls their shot ahead of Steelers-Browns https://t.co/oePCLzivf1 #Steelers https://t.co/wfBnIbmVD6\"},\n",
       " {'id': '1572981061448974336',\n",
       "  'text': 'Cleveland Browns vs Pittsburgh Steelers Live Stream\\nsteelers at browns👉https://t.co/YINMOkZAhT\\ncleveland browns steelers\\npitt vs cleveland\\nnfl browns vs steelers\\nbrowns steelers stream\\nbrowns vs steelers 2022\\nsteelers browns live stream\\nbrowns vs steelers stream #NFL #Browns https://t.co/nZiQclmVtQ'},\n",
       " {'id': '1572981055174361089',\n",
       "  'text': \"Report: Celtics' Udoka facing 2022-23 suspension for relationship with staffer\\n\\nBut Deshaun Watson gets only 11 games for 26 sexual assaults?\\n\\nOur society is officially broken.\\n\\n#NBA\\n#NFL\\n#Celtics\\n#Browns\\n\\nhttps://t.co/1MlIWl2BO4\"},\n",
       " {'id': '1572981021057875968',\n",
       "  'text': 'RT @chrismeaney: Mean Streets is LIVE @FTNNetwork powered by @GamePlusNetwork \\n\\n@5ive_for_siix joins the show!\\n\\n🏈 Browns vs Steelers Previe…'},\n",
       " {'id': '1572981016029188096',\n",
       "  'text': 'RT @westwood1sports: Week 3 starts in Cleveland!\\n\\nPregame at 7:30pm ET\\n\\n🏈: @steelers vs. @Browns \\n🗣️: Ian Eagle &amp; @JasonMcCourty \\n📻: Affili…'},\n",
       " {'id': '1572980967794511874',\n",
       "  'text': 'BALL CALL!!!!!! its thursday which means THURSDAY NIGHT FOOTBALL!!! we have an AFC NORTH battle between the browns and the steelers tonight at 8:15. pls ensure that any and all fantasy team lineups are set before kickoff for WEEK THREE OF NFL FOOTBALL!!!!!!'},\n",
       " {'id': '1572980926480777217',\n",
       "  'text': 'RT NBC6News \"Big Game Bound: Browns, Steelers look to rebound after tough losses https://t.co/j2TEpezEss\"'}]"
      ]
     },
     "execution_count": 38,
     "metadata": {},
     "output_type": "execute_result"
    }
   ],
   "source": [
    "response_dict['data']"
   ]
  },
  {
   "cell_type": "code",
   "execution_count": 39,
   "id": "6a6d0bb0",
   "metadata": {},
   "outputs": [
    {
     "data": {
      "text/plain": [
       "{'newest_id': '1572981278747643906',\n",
       " 'oldest_id': '1572980926480777217',\n",
       " 'result_count': 10,\n",
       " 'next_token': 'b26v89c19zqg8o3fpzbkioxrzzmsuoi71dw9x7odyimbh'}"
      ]
     },
     "execution_count": 39,
     "metadata": {},
     "output_type": "execute_result"
    }
   ],
   "source": [
    "response_dict['meta']"
   ]
  }
 ],
 "metadata": {
  "kernelspec": {
   "display_name": "Python 3 (ipykernel)",
   "language": "python",
   "name": "python3"
  },
  "language_info": {
   "codemirror_mode": {
    "name": "ipython",
    "version": 3
   },
   "file_extension": ".py",
   "mimetype": "text/x-python",
   "name": "python",
   "nbconvert_exporter": "python",
   "pygments_lexer": "ipython3",
   "version": "3.10.4"
  }
 },
 "nbformat": 4,
 "nbformat_minor": 5
}
