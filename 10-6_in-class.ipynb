{
 "cells": [
  {
   "cell_type": "code",
   "execution_count": 1,
   "id": "05ec88a0",
   "metadata": {},
   "outputs": [],
   "source": [
    "import pandas as pd\n",
    "import json\n",
    "import requests\n",
    "import urllib"
   ]
  },
  {
   "cell_type": "code",
   "execution_count": 5,
   "id": "9860b408",
   "metadata": {},
   "outputs": [],
   "source": [
    "endpoint = 'https://api.twitter.com/2/tweets/search/recent'\n",
    "bt = pd.read_csv('Twitter_Token_9-22.txt', header = 0)"
   ]
  },
  {
   "cell_type": "code",
   "execution_count": 8,
   "id": "1ba6dabe",
   "metadata": {},
   "outputs": [],
   "source": [
    "header = {'Authorization': 'Bearer {}'.format(bt['Bearer_Token'][0])}"
   ]
  },
  {
   "cell_type": "code",
   "execution_count": 15,
   "id": "9bb7da1a",
   "metadata": {},
   "outputs": [],
   "source": [
    "query_text = '(mls OR (major leage soccer)) (playoff OR tournament OR playoffs OR cup OR shield) lang:en -is:retweet'\n",
    "query_encoded = urllib.parse.quote(query_text)\n",
    "tweet_fields = 'lang,public_metrics,author_id'"
   ]
  },
  {
   "cell_type": "code",
   "execution_count": 16,
   "id": "ca6b1b5a",
   "metadata": {},
   "outputs": [],
   "source": [
    "query_url = endpoint + '?query={}&tweet.fields={}'.format(query_encoded, tweet_fields)"
   ]
  },
  {
   "cell_type": "code",
   "execution_count": 17,
   "id": "ec10d712",
   "metadata": {},
   "outputs": [],
   "source": [
    "response = requests.get(query_url, headers = header)"
   ]
  },
  {
   "cell_type": "code",
   "execution_count": 18,
   "id": "b3f92f9a",
   "metadata": {},
   "outputs": [
    {
     "data": {
      "text/plain": [
       "200"
      ]
     },
     "execution_count": 18,
     "metadata": {},
     "output_type": "execute_result"
    }
   ],
   "source": [
    "response.status_code"
   ]
  },
  {
   "cell_type": "code",
   "execution_count": 19,
   "id": "6a9ce4ef",
   "metadata": {},
   "outputs": [
    {
     "data": {
      "text/plain": [
       "'{\"data\":[{\"lang\":\"en\",\"author_id\":\"1317070333925609473\",\"public_metrics\":{\"retweet_count\":5,\"reply_count\":0,\"like_count\":0,\"quote_count\":0},\"text\":\"RT @FootballRamble: Inter Miami reached the MLS playoffs last night... https://t.co/UQq7Wko7hh\",\"edit_history_tweet_ids\":[\"1578047866513379329\"],\"id\":\"1578047866513379329\"},{\"lang\":\"en\",\"author_id\":\"4161131834\",\"public_metrics\":{\"retweet_count\":0,\"reply_count\":0,\"like_count\":0,\"quote_count\":0},\"text\":\"@ManagerTactical MLS is a great option for him before the World Cup or Swiss league\",\"edit_history_tweet_ids\":[\"1578047049739554816\"],\"id\":\"1578047049739554816\"},{\"lang\":\"en\",\"author_id\":\"191068541\",\"public_metrics\":{\"retweet_count\":5,\"reply_count\":0,\"like_count\":0,\"quote_count\":0},\"text\":\"RT @FootballRamble: Inter Miami reached the MLS playoffs last night... https://t.co/UQq7Wko7hh\",\"edit_history_tweet_ids\":[\"1578046931493916673\"],\"id\":\"1578046931493916673\"},{\"lang\":\"en\",\"author_id\":\"904749553072488449\",\"public_metrics\":{\"retweet_count\":0,\"reply_count\":0,\"like_count\":1,\"quote_count\":0},\"text\":\"The four western conference @MLS teams that have neither clinched playoffs or been eliminated are all playing each other at the same time on Sunday. This is gonna be WILD. #RCTID\",\"edit_history_tweet_ids\":[\"1578045802144227329\"],\"id\":\"1578045802144227329\"},{\"lang\":\"en\",\"author_id\":\"24139062\",\"public_metrics\":{\"retweet_count\":0,\"reply_count\":0,\"like_count\":0,\"quote_count\":0},\"text\":\"All good now you can concentrate on never winning an mls cup https://t.co/fLr2dOFTV1\",\"edit_history_tweet_ids\":[\"1578045358969454592\"],\"id\":\"1578045358969454592\"},{\"lang\":\"en\",\"author_id\":\"30762549\",\"public_metrics\":{\"retweet_count\":0,\"reply_count\":0,\"like_count\":3,\"quote_count\":0},\"text\":\"Look at what I finally put up in my office! Ready for the MLS Playoffs! @NSCRoadies @NashvilleSC @WesBolingTN @RuffinJD #EveryoneN https://t.co/EKN35WhNxn\",\"edit_history_tweet_ids\":[\"1578045333040517121\"],\"id\":\"1578045333040517121\"},{\"lang\":\"en\",\"author_id\":\"34743442\",\"public_metrics\":{\"retweet_count\":0,\"reply_count\":0,\"like_count\":2,\"quote_count\":0},\"text\":\"@NewYorkRedBulls @MLS Awesome. Now sign some new talented players so the playoffs aren\\'t one and done, again. #RBNY\",\"edit_history_tweet_ids\":[\"1578045322747691015\"],\"id\":\"1578045322747691015\"},{\"lang\":\"en\",\"author_id\":\"2903191432\",\"public_metrics\":{\"retweet_count\":0,\"reply_count\":0,\"like_count\":2,\"quote_count\":0},\"text\":\"@Laf4MVP It\\'s MLS Playoffs SZN!\\\\n#TheRedBull https://t.co/0dbnTJdPlQ\",\"edit_history_tweet_ids\":[\"1578044940575297536\"],\"id\":\"1578044940575297536\"},{\"lang\":\"en\",\"author_id\":\"2744716047\",\"public_metrics\":{\"retweet_count\":11,\"reply_count\":0,\"like_count\":0,\"quote_count\":0},\"text\":\"RT @FOXSoccer: Only 4️⃣ spots remain in @MLS playoffs \\\\uD83D\\\\uDD25 \\\\n\\\\nWho will clinch a playoff berth next? https://t.co/li7QxJ18hG\",\"edit_history_tweet_ids\":[\"1578043436158144517\"],\"id\":\"1578043436158144517\"},{\"lang\":\"en\",\"author_id\":\"25619967\",\"public_metrics\":{\"retweet_count\":0,\"reply_count\":0,\"like_count\":0,\"quote_count\":0},\"text\":\"@SociosUSA @MLS @LAFC v Nashville. Supporters shield day and Walker Zimmermans return to the banc\",\"edit_history_tweet_ids\":[\"1578043434345955328\"],\"id\":\"1578043434345955328\"}],\"meta\":{\"newest_id\":\"1578047866513379329\",\"oldest_id\":\"1578043434345955328\",\"result_count\":10,\"next_token\":\"b26v89c19zqg8o3fpzbn13dp55a76z2mc0itdbe7ym3ct\"}}'"
      ]
     },
     "execution_count": 19,
     "metadata": {},
     "output_type": "execute_result"
    }
   ],
   "source": [
    "response.text"
   ]
  },
  {
   "cell_type": "code",
   "execution_count": 23,
   "id": "13658ff1",
   "metadata": {},
   "outputs": [],
   "source": [
    "response_dict = json.loads(response.text)"
   ]
  },
  {
   "cell_type": "code",
   "execution_count": 25,
   "id": "b050b4a7",
   "metadata": {},
   "outputs": [
    {
     "data": {
      "text/plain": [
       "dict_keys(['data', 'meta'])"
      ]
     },
     "execution_count": 25,
     "metadata": {},
     "output_type": "execute_result"
    }
   ],
   "source": [
    "response_dict.keys()"
   ]
  },
  {
   "cell_type": "code",
   "execution_count": 27,
   "id": "e9b05697",
   "metadata": {},
   "outputs": [
    {
     "data": {
      "text/plain": [
       "list"
      ]
     },
     "execution_count": 27,
     "metadata": {},
     "output_type": "execute_result"
    }
   ],
   "source": [
    "type(response_dict['data'])"
   ]
  },
  {
   "cell_type": "code",
   "execution_count": 28,
   "id": "a7046112",
   "metadata": {},
   "outputs": [
    {
     "data": {
      "text/plain": [
       "dict"
      ]
     },
     "execution_count": 28,
     "metadata": {},
     "output_type": "execute_result"
    }
   ],
   "source": [
    "type(response_dict['data'][0])"
   ]
  },
  {
   "cell_type": "code",
   "execution_count": 29,
   "id": "ad0bcfac",
   "metadata": {},
   "outputs": [
    {
     "data": {
      "text/plain": [
       "dict_keys(['lang', 'author_id', 'public_metrics', 'text', 'edit_history_tweet_ids', 'id'])"
      ]
     },
     "execution_count": 29,
     "metadata": {},
     "output_type": "execute_result"
    }
   ],
   "source": [
    "response_dict['data'][0].keys()"
   ]
  },
  {
   "cell_type": "code",
   "execution_count": 31,
   "id": "4725afa8",
   "metadata": {},
   "outputs": [
    {
     "data": {
      "text/plain": [
       "'RT @FootballRamble: Inter Miami reached the MLS playoffs last night... https://t.co/UQq7Wko7hh'"
      ]
     },
     "execution_count": 31,
     "metadata": {},
     "output_type": "execute_result"
    }
   ],
   "source": [
    "response_dict['data'][0]['text']"
   ]
  },
  {
   "cell_type": "code",
   "execution_count": 33,
   "id": "eb4ba64d",
   "metadata": {},
   "outputs": [
    {
     "data": {
      "text/plain": [
       "dict"
      ]
     },
     "execution_count": 33,
     "metadata": {},
     "output_type": "execute_result"
    }
   ],
   "source": [
    "type(response_dict['data'][0]['public_metrics'])"
   ]
  },
  {
   "cell_type": "code",
   "execution_count": 34,
   "id": "7fb5b169",
   "metadata": {},
   "outputs": [
    {
     "data": {
      "text/plain": [
       "dict_keys(['retweet_count', 'reply_count', 'like_count', 'quote_count'])"
      ]
     },
     "execution_count": 34,
     "metadata": {},
     "output_type": "execute_result"
    }
   ],
   "source": [
    "response_dict['data'][0]['public_metrics'].keys()"
   ]
  },
  {
   "cell_type": "code",
   "execution_count": 35,
   "id": "5540cc10",
   "metadata": {},
   "outputs": [
    {
     "data": {
      "text/plain": [
       "0"
      ]
     },
     "execution_count": 35,
     "metadata": {},
     "output_type": "execute_result"
    }
   ],
   "source": [
    "response_dict['data'][0]['public_metrics']['like_count']"
   ]
  },
  {
   "cell_type": "code",
   "execution_count": 36,
   "id": "5aeb7c1b",
   "metadata": {},
   "outputs": [
    {
     "data": {
      "text/plain": [
       "'1578045358969454592'"
      ]
     },
     "execution_count": 36,
     "metadata": {},
     "output_type": "execute_result"
    }
   ],
   "source": [
    "response_dict['data'][4]['id']"
   ]
  },
  {
   "cell_type": "code",
   "execution_count": 55,
   "id": "048fe106",
   "metadata": {},
   "outputs": [],
   "source": [
    "response_df = pd.DataFrame(response_dict['data'])\n",
    "response_df2 = response_df"
   ]
  },
  {
   "cell_type": "code",
   "execution_count": 59,
   "id": "8e0bff80",
   "metadata": {},
   "outputs": [
    {
     "data": {
      "text/html": [
       "<div>\n",
       "<style scoped>\n",
       "    .dataframe tbody tr th:only-of-type {\n",
       "        vertical-align: middle;\n",
       "    }\n",
       "\n",
       "    .dataframe tbody tr th {\n",
       "        vertical-align: top;\n",
       "    }\n",
       "\n",
       "    .dataframe thead th {\n",
       "        text-align: right;\n",
       "    }\n",
       "</style>\n",
       "<table border=\"1\" class=\"dataframe\">\n",
       "  <thead>\n",
       "    <tr style=\"text-align: right;\">\n",
       "      <th></th>\n",
       "      <th>lang</th>\n",
       "      <th>author_id</th>\n",
       "      <th>public_metrics</th>\n",
       "      <th>text</th>\n",
       "      <th>edit_history_tweet_ids</th>\n",
       "      <th>id</th>\n",
       "    </tr>\n",
       "  </thead>\n",
       "  <tbody>\n",
       "    <tr>\n",
       "      <th>0</th>\n",
       "      <td>en</td>\n",
       "      <td>1317070333925609473</td>\n",
       "      <td>{'retweet_count': 5, 'reply_count': 0, 'like_c...</td>\n",
       "      <td>RT @FootballRamble: Inter Miami reached the ML...</td>\n",
       "      <td>[1578047866513379329]</td>\n",
       "      <td>1578047866513379329</td>\n",
       "    </tr>\n",
       "    <tr>\n",
       "      <th>1</th>\n",
       "      <td>en</td>\n",
       "      <td>4161131834</td>\n",
       "      <td>{'retweet_count': 0, 'reply_count': 0, 'like_c...</td>\n",
       "      <td>@ManagerTactical MLS is a great option for him...</td>\n",
       "      <td>[1578047049739554816]</td>\n",
       "      <td>1578047049739554816</td>\n",
       "    </tr>\n",
       "    <tr>\n",
       "      <th>2</th>\n",
       "      <td>en</td>\n",
       "      <td>191068541</td>\n",
       "      <td>{'retweet_count': 5, 'reply_count': 0, 'like_c...</td>\n",
       "      <td>RT @FootballRamble: Inter Miami reached the ML...</td>\n",
       "      <td>[1578046931493916673]</td>\n",
       "      <td>1578046931493916673</td>\n",
       "    </tr>\n",
       "    <tr>\n",
       "      <th>3</th>\n",
       "      <td>en</td>\n",
       "      <td>904749553072488449</td>\n",
       "      <td>{'retweet_count': 0, 'reply_count': 0, 'like_c...</td>\n",
       "      <td>The four western conference @MLS teams that ha...</td>\n",
       "      <td>[1578045802144227329]</td>\n",
       "      <td>1578045802144227329</td>\n",
       "    </tr>\n",
       "    <tr>\n",
       "      <th>4</th>\n",
       "      <td>en</td>\n",
       "      <td>24139062</td>\n",
       "      <td>{'retweet_count': 0, 'reply_count': 0, 'like_c...</td>\n",
       "      <td>All good now you can concentrate on never winn...</td>\n",
       "      <td>[1578045358969454592]</td>\n",
       "      <td>1578045358969454592</td>\n",
       "    </tr>\n",
       "  </tbody>\n",
       "</table>\n",
       "</div>"
      ],
      "text/plain": [
       "  lang            author_id  \\\n",
       "0   en  1317070333925609473   \n",
       "1   en           4161131834   \n",
       "2   en            191068541   \n",
       "3   en   904749553072488449   \n",
       "4   en             24139062   \n",
       "\n",
       "                                      public_metrics  \\\n",
       "0  {'retweet_count': 5, 'reply_count': 0, 'like_c...   \n",
       "1  {'retweet_count': 0, 'reply_count': 0, 'like_c...   \n",
       "2  {'retweet_count': 5, 'reply_count': 0, 'like_c...   \n",
       "3  {'retweet_count': 0, 'reply_count': 0, 'like_c...   \n",
       "4  {'retweet_count': 0, 'reply_count': 0, 'like_c...   \n",
       "\n",
       "                                                text edit_history_tweet_ids  \\\n",
       "0  RT @FootballRamble: Inter Miami reached the ML...  [1578047866513379329]   \n",
       "1  @ManagerTactical MLS is a great option for him...  [1578047049739554816]   \n",
       "2  RT @FootballRamble: Inter Miami reached the ML...  [1578046931493916673]   \n",
       "3  The four western conference @MLS teams that ha...  [1578045802144227329]   \n",
       "4  All good now you can concentrate on never winn...  [1578045358969454592]   \n",
       "\n",
       "                    id  \n",
       "0  1578047866513379329  \n",
       "1  1578047049739554816  \n",
       "2  1578046931493916673  \n",
       "3  1578045802144227329  \n",
       "4  1578045358969454592  "
      ]
     },
     "execution_count": 59,
     "metadata": {},
     "output_type": "execute_result"
    }
   ],
   "source": [
    "response_df.head()"
   ]
  },
  {
   "cell_type": "code",
   "execution_count": 60,
   "id": "df603f9c",
   "metadata": {},
   "outputs": [],
   "source": [
    "public_metrics_df = pd.DataFrame(list(response_df['public_metrics']))"
   ]
  },
  {
   "cell_type": "code",
   "execution_count": 61,
   "id": "c4ede93f",
   "metadata": {},
   "outputs": [
    {
     "data": {
      "text/html": [
       "<div>\n",
       "<style scoped>\n",
       "    .dataframe tbody tr th:only-of-type {\n",
       "        vertical-align: middle;\n",
       "    }\n",
       "\n",
       "    .dataframe tbody tr th {\n",
       "        vertical-align: top;\n",
       "    }\n",
       "\n",
       "    .dataframe thead th {\n",
       "        text-align: right;\n",
       "    }\n",
       "</style>\n",
       "<table border=\"1\" class=\"dataframe\">\n",
       "  <thead>\n",
       "    <tr style=\"text-align: right;\">\n",
       "      <th></th>\n",
       "      <th>retweet_count</th>\n",
       "      <th>reply_count</th>\n",
       "      <th>like_count</th>\n",
       "      <th>quote_count</th>\n",
       "    </tr>\n",
       "  </thead>\n",
       "  <tbody>\n",
       "    <tr>\n",
       "      <th>0</th>\n",
       "      <td>5</td>\n",
       "      <td>0</td>\n",
       "      <td>0</td>\n",
       "      <td>0</td>\n",
       "    </tr>\n",
       "    <tr>\n",
       "      <th>1</th>\n",
       "      <td>0</td>\n",
       "      <td>0</td>\n",
       "      <td>0</td>\n",
       "      <td>0</td>\n",
       "    </tr>\n",
       "    <tr>\n",
       "      <th>2</th>\n",
       "      <td>5</td>\n",
       "      <td>0</td>\n",
       "      <td>0</td>\n",
       "      <td>0</td>\n",
       "    </tr>\n",
       "    <tr>\n",
       "      <th>3</th>\n",
       "      <td>0</td>\n",
       "      <td>0</td>\n",
       "      <td>1</td>\n",
       "      <td>0</td>\n",
       "    </tr>\n",
       "    <tr>\n",
       "      <th>4</th>\n",
       "      <td>0</td>\n",
       "      <td>0</td>\n",
       "      <td>0</td>\n",
       "      <td>0</td>\n",
       "    </tr>\n",
       "    <tr>\n",
       "      <th>5</th>\n",
       "      <td>0</td>\n",
       "      <td>0</td>\n",
       "      <td>3</td>\n",
       "      <td>0</td>\n",
       "    </tr>\n",
       "    <tr>\n",
       "      <th>6</th>\n",
       "      <td>0</td>\n",
       "      <td>0</td>\n",
       "      <td>2</td>\n",
       "      <td>0</td>\n",
       "    </tr>\n",
       "    <tr>\n",
       "      <th>7</th>\n",
       "      <td>0</td>\n",
       "      <td>0</td>\n",
       "      <td>2</td>\n",
       "      <td>0</td>\n",
       "    </tr>\n",
       "    <tr>\n",
       "      <th>8</th>\n",
       "      <td>11</td>\n",
       "      <td>0</td>\n",
       "      <td>0</td>\n",
       "      <td>0</td>\n",
       "    </tr>\n",
       "    <tr>\n",
       "      <th>9</th>\n",
       "      <td>0</td>\n",
       "      <td>0</td>\n",
       "      <td>0</td>\n",
       "      <td>0</td>\n",
       "    </tr>\n",
       "  </tbody>\n",
       "</table>\n",
       "</div>"
      ],
      "text/plain": [
       "   retweet_count  reply_count  like_count  quote_count\n",
       "0              5            0           0            0\n",
       "1              0            0           0            0\n",
       "2              5            0           0            0\n",
       "3              0            0           1            0\n",
       "4              0            0           0            0\n",
       "5              0            0           3            0\n",
       "6              0            0           2            0\n",
       "7              0            0           2            0\n",
       "8             11            0           0            0\n",
       "9              0            0           0            0"
      ]
     },
     "execution_count": 61,
     "metadata": {},
     "output_type": "execute_result"
    }
   ],
   "source": [
    "public_metrics_df"
   ]
  },
  {
   "cell_type": "code",
   "execution_count": 62,
   "id": "8108229f",
   "metadata": {},
   "outputs": [],
   "source": [
    "response_df['retweets'] = public_metrics_df['retweet_count']\n",
    "response_df['replies'] = public_metrics_df['reply_count']\n",
    "response_df['likes'] = public_metrics_df['like_count']\n",
    "response_df['quotes'] = public_metrics_df['quote_count']"
   ]
  },
  {
   "cell_type": "code",
   "execution_count": 63,
   "id": "e4115f95",
   "metadata": {},
   "outputs": [
    {
     "data": {
      "text/html": [
       "<div>\n",
       "<style scoped>\n",
       "    .dataframe tbody tr th:only-of-type {\n",
       "        vertical-align: middle;\n",
       "    }\n",
       "\n",
       "    .dataframe tbody tr th {\n",
       "        vertical-align: top;\n",
       "    }\n",
       "\n",
       "    .dataframe thead th {\n",
       "        text-align: right;\n",
       "    }\n",
       "</style>\n",
       "<table border=\"1\" class=\"dataframe\">\n",
       "  <thead>\n",
       "    <tr style=\"text-align: right;\">\n",
       "      <th></th>\n",
       "      <th>lang</th>\n",
       "      <th>author_id</th>\n",
       "      <th>public_metrics</th>\n",
       "      <th>text</th>\n",
       "      <th>edit_history_tweet_ids</th>\n",
       "      <th>id</th>\n",
       "      <th>retweets</th>\n",
       "      <th>replies</th>\n",
       "      <th>likes</th>\n",
       "      <th>quotes</th>\n",
       "    </tr>\n",
       "  </thead>\n",
       "  <tbody>\n",
       "    <tr>\n",
       "      <th>0</th>\n",
       "      <td>en</td>\n",
       "      <td>1317070333925609473</td>\n",
       "      <td>{'retweet_count': 5, 'reply_count': 0, 'like_c...</td>\n",
       "      <td>RT @FootballRamble: Inter Miami reached the ML...</td>\n",
       "      <td>[1578047866513379329]</td>\n",
       "      <td>1578047866513379329</td>\n",
       "      <td>5</td>\n",
       "      <td>0</td>\n",
       "      <td>0</td>\n",
       "      <td>0</td>\n",
       "    </tr>\n",
       "    <tr>\n",
       "      <th>1</th>\n",
       "      <td>en</td>\n",
       "      <td>4161131834</td>\n",
       "      <td>{'retweet_count': 0, 'reply_count': 0, 'like_c...</td>\n",
       "      <td>@ManagerTactical MLS is a great option for him...</td>\n",
       "      <td>[1578047049739554816]</td>\n",
       "      <td>1578047049739554816</td>\n",
       "      <td>0</td>\n",
       "      <td>0</td>\n",
       "      <td>0</td>\n",
       "      <td>0</td>\n",
       "    </tr>\n",
       "    <tr>\n",
       "      <th>2</th>\n",
       "      <td>en</td>\n",
       "      <td>191068541</td>\n",
       "      <td>{'retweet_count': 5, 'reply_count': 0, 'like_c...</td>\n",
       "      <td>RT @FootballRamble: Inter Miami reached the ML...</td>\n",
       "      <td>[1578046931493916673]</td>\n",
       "      <td>1578046931493916673</td>\n",
       "      <td>5</td>\n",
       "      <td>0</td>\n",
       "      <td>0</td>\n",
       "      <td>0</td>\n",
       "    </tr>\n",
       "    <tr>\n",
       "      <th>3</th>\n",
       "      <td>en</td>\n",
       "      <td>904749553072488449</td>\n",
       "      <td>{'retweet_count': 0, 'reply_count': 0, 'like_c...</td>\n",
       "      <td>The four western conference @MLS teams that ha...</td>\n",
       "      <td>[1578045802144227329]</td>\n",
       "      <td>1578045802144227329</td>\n",
       "      <td>0</td>\n",
       "      <td>0</td>\n",
       "      <td>1</td>\n",
       "      <td>0</td>\n",
       "    </tr>\n",
       "    <tr>\n",
       "      <th>4</th>\n",
       "      <td>en</td>\n",
       "      <td>24139062</td>\n",
       "      <td>{'retweet_count': 0, 'reply_count': 0, 'like_c...</td>\n",
       "      <td>All good now you can concentrate on never winn...</td>\n",
       "      <td>[1578045358969454592]</td>\n",
       "      <td>1578045358969454592</td>\n",
       "      <td>0</td>\n",
       "      <td>0</td>\n",
       "      <td>0</td>\n",
       "      <td>0</td>\n",
       "    </tr>\n",
       "  </tbody>\n",
       "</table>\n",
       "</div>"
      ],
      "text/plain": [
       "  lang            author_id  \\\n",
       "0   en  1317070333925609473   \n",
       "1   en           4161131834   \n",
       "2   en            191068541   \n",
       "3   en   904749553072488449   \n",
       "4   en             24139062   \n",
       "\n",
       "                                      public_metrics  \\\n",
       "0  {'retweet_count': 5, 'reply_count': 0, 'like_c...   \n",
       "1  {'retweet_count': 0, 'reply_count': 0, 'like_c...   \n",
       "2  {'retweet_count': 5, 'reply_count': 0, 'like_c...   \n",
       "3  {'retweet_count': 0, 'reply_count': 0, 'like_c...   \n",
       "4  {'retweet_count': 0, 'reply_count': 0, 'like_c...   \n",
       "\n",
       "                                                text edit_history_tweet_ids  \\\n",
       "0  RT @FootballRamble: Inter Miami reached the ML...  [1578047866513379329]   \n",
       "1  @ManagerTactical MLS is a great option for him...  [1578047049739554816]   \n",
       "2  RT @FootballRamble: Inter Miami reached the ML...  [1578046931493916673]   \n",
       "3  The four western conference @MLS teams that ha...  [1578045802144227329]   \n",
       "4  All good now you can concentrate on never winn...  [1578045358969454592]   \n",
       "\n",
       "                    id  retweets  replies  likes  quotes  \n",
       "0  1578047866513379329         5        0      0       0  \n",
       "1  1578047049739554816         0        0      0       0  \n",
       "2  1578046931493916673         5        0      0       0  \n",
       "3  1578045802144227329         0        0      1       0  \n",
       "4  1578045358969454592         0        0      0       0  "
      ]
     },
     "execution_count": 63,
     "metadata": {},
     "output_type": "execute_result"
    }
   ],
   "source": [
    "response_df.head()"
   ]
  },
  {
   "cell_type": "code",
   "execution_count": 65,
   "id": "a3c6a0b9",
   "metadata": {},
   "outputs": [],
   "source": [
    "response_df2 = response_df2.join(public_metrics_df)"
   ]
  },
  {
   "cell_type": "code",
   "execution_count": 67,
   "id": "9093d31b",
   "metadata": {},
   "outputs": [
    {
     "data": {
      "text/html": [
       "<div>\n",
       "<style scoped>\n",
       "    .dataframe tbody tr th:only-of-type {\n",
       "        vertical-align: middle;\n",
       "    }\n",
       "\n",
       "    .dataframe tbody tr th {\n",
       "        vertical-align: top;\n",
       "    }\n",
       "\n",
       "    .dataframe thead th {\n",
       "        text-align: right;\n",
       "    }\n",
       "</style>\n",
       "<table border=\"1\" class=\"dataframe\">\n",
       "  <thead>\n",
       "    <tr style=\"text-align: right;\">\n",
       "      <th></th>\n",
       "      <th>lang</th>\n",
       "      <th>author_id</th>\n",
       "      <th>public_metrics</th>\n",
       "      <th>text</th>\n",
       "      <th>edit_history_tweet_ids</th>\n",
       "      <th>id</th>\n",
       "      <th>retweets</th>\n",
       "      <th>replies</th>\n",
       "      <th>likes</th>\n",
       "      <th>quotes</th>\n",
       "      <th>retweet_count</th>\n",
       "      <th>reply_count</th>\n",
       "      <th>like_count</th>\n",
       "      <th>quote_count</th>\n",
       "    </tr>\n",
       "  </thead>\n",
       "  <tbody>\n",
       "    <tr>\n",
       "      <th>0</th>\n",
       "      <td>en</td>\n",
       "      <td>1317070333925609473</td>\n",
       "      <td>{'retweet_count': 5, 'reply_count': 0, 'like_c...</td>\n",
       "      <td>RT @FootballRamble: Inter Miami reached the ML...</td>\n",
       "      <td>[1578047866513379329]</td>\n",
       "      <td>1578047866513379329</td>\n",
       "      <td>5</td>\n",
       "      <td>0</td>\n",
       "      <td>0</td>\n",
       "      <td>0</td>\n",
       "      <td>5</td>\n",
       "      <td>0</td>\n",
       "      <td>0</td>\n",
       "      <td>0</td>\n",
       "    </tr>\n",
       "    <tr>\n",
       "      <th>1</th>\n",
       "      <td>en</td>\n",
       "      <td>4161131834</td>\n",
       "      <td>{'retweet_count': 0, 'reply_count': 0, 'like_c...</td>\n",
       "      <td>@ManagerTactical MLS is a great option for him...</td>\n",
       "      <td>[1578047049739554816]</td>\n",
       "      <td>1578047049739554816</td>\n",
       "      <td>0</td>\n",
       "      <td>0</td>\n",
       "      <td>0</td>\n",
       "      <td>0</td>\n",
       "      <td>0</td>\n",
       "      <td>0</td>\n",
       "      <td>0</td>\n",
       "      <td>0</td>\n",
       "    </tr>\n",
       "    <tr>\n",
       "      <th>2</th>\n",
       "      <td>en</td>\n",
       "      <td>191068541</td>\n",
       "      <td>{'retweet_count': 5, 'reply_count': 0, 'like_c...</td>\n",
       "      <td>RT @FootballRamble: Inter Miami reached the ML...</td>\n",
       "      <td>[1578046931493916673]</td>\n",
       "      <td>1578046931493916673</td>\n",
       "      <td>5</td>\n",
       "      <td>0</td>\n",
       "      <td>0</td>\n",
       "      <td>0</td>\n",
       "      <td>5</td>\n",
       "      <td>0</td>\n",
       "      <td>0</td>\n",
       "      <td>0</td>\n",
       "    </tr>\n",
       "    <tr>\n",
       "      <th>3</th>\n",
       "      <td>en</td>\n",
       "      <td>904749553072488449</td>\n",
       "      <td>{'retweet_count': 0, 'reply_count': 0, 'like_c...</td>\n",
       "      <td>The four western conference @MLS teams that ha...</td>\n",
       "      <td>[1578045802144227329]</td>\n",
       "      <td>1578045802144227329</td>\n",
       "      <td>0</td>\n",
       "      <td>0</td>\n",
       "      <td>1</td>\n",
       "      <td>0</td>\n",
       "      <td>0</td>\n",
       "      <td>0</td>\n",
       "      <td>1</td>\n",
       "      <td>0</td>\n",
       "    </tr>\n",
       "    <tr>\n",
       "      <th>4</th>\n",
       "      <td>en</td>\n",
       "      <td>24139062</td>\n",
       "      <td>{'retweet_count': 0, 'reply_count': 0, 'like_c...</td>\n",
       "      <td>All good now you can concentrate on never winn...</td>\n",
       "      <td>[1578045358969454592]</td>\n",
       "      <td>1578045358969454592</td>\n",
       "      <td>0</td>\n",
       "      <td>0</td>\n",
       "      <td>0</td>\n",
       "      <td>0</td>\n",
       "      <td>0</td>\n",
       "      <td>0</td>\n",
       "      <td>0</td>\n",
       "      <td>0</td>\n",
       "    </tr>\n",
       "  </tbody>\n",
       "</table>\n",
       "</div>"
      ],
      "text/plain": [
       "  lang            author_id  \\\n",
       "0   en  1317070333925609473   \n",
       "1   en           4161131834   \n",
       "2   en            191068541   \n",
       "3   en   904749553072488449   \n",
       "4   en             24139062   \n",
       "\n",
       "                                      public_metrics  \\\n",
       "0  {'retweet_count': 5, 'reply_count': 0, 'like_c...   \n",
       "1  {'retweet_count': 0, 'reply_count': 0, 'like_c...   \n",
       "2  {'retweet_count': 5, 'reply_count': 0, 'like_c...   \n",
       "3  {'retweet_count': 0, 'reply_count': 0, 'like_c...   \n",
       "4  {'retweet_count': 0, 'reply_count': 0, 'like_c...   \n",
       "\n",
       "                                                text edit_history_tweet_ids  \\\n",
       "0  RT @FootballRamble: Inter Miami reached the ML...  [1578047866513379329]   \n",
       "1  @ManagerTactical MLS is a great option for him...  [1578047049739554816]   \n",
       "2  RT @FootballRamble: Inter Miami reached the ML...  [1578046931493916673]   \n",
       "3  The four western conference @MLS teams that ha...  [1578045802144227329]   \n",
       "4  All good now you can concentrate on never winn...  [1578045358969454592]   \n",
       "\n",
       "                    id  retweets  replies  likes  quotes  retweet_count  \\\n",
       "0  1578047866513379329         5        0      0       0              5   \n",
       "1  1578047049739554816         0        0      0       0              0   \n",
       "2  1578046931493916673         5        0      0       0              5   \n",
       "3  1578045802144227329         0        0      1       0              0   \n",
       "4  1578045358969454592         0        0      0       0              0   \n",
       "\n",
       "   reply_count  like_count  quote_count  \n",
       "0            0           0            0  \n",
       "1            0           0            0  \n",
       "2            0           0            0  \n",
       "3            0           1            0  \n",
       "4            0           0            0  "
      ]
     },
     "execution_count": 67,
     "metadata": {},
     "output_type": "execute_result"
    }
   ],
   "source": [
    "response_df2.head()"
   ]
  }
 ],
 "metadata": {
  "kernelspec": {
   "display_name": "Python 3 (ipykernel)",
   "language": "python",
   "name": "python3"
  },
  "language_info": {
   "codemirror_mode": {
    "name": "ipython",
    "version": 3
   },
   "file_extension": ".py",
   "mimetype": "text/x-python",
   "name": "python",
   "nbconvert_exporter": "python",
   "pygments_lexer": "ipython3",
   "version": "3.10.4"
  }
 },
 "nbformat": 4,
 "nbformat_minor": 5
}
