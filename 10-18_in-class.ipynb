{
 "cells": [
  {
   "cell_type": "code",
   "execution_count": 1,
   "id": "05ec88a0",
   "metadata": {},
   "outputs": [],
   "source": [
    "import pandas as pd\n",
    "import json\n",
    "import requests\n",
    "import urllib"
   ]
  },
  {
   "cell_type": "code",
   "execution_count": 2,
   "id": "9860b408",
   "metadata": {},
   "outputs": [],
   "source": [
    "endpoint = 'https://api.twitter.com/2/tweets/search/recent'\n",
    "bt = pd.read_csv('Twitter_Token_9-22.txt', header = 0)"
   ]
  },
  {
   "cell_type": "code",
   "execution_count": 3,
   "id": "1ba6dabe",
   "metadata": {},
   "outputs": [],
   "source": [
    "header = {'Authorization': 'Bearer {}'.format(bt['Bearer_Token'][0])}"
   ]
  },
  {
   "cell_type": "code",
   "execution_count": 4,
   "id": "9bb7da1a",
   "metadata": {},
   "outputs": [],
   "source": [
    "query_text = '(mls OR (major leage soccer)) (playoff OR tournament OR playoffs OR cup OR shield) lang:en -is:retweet'\n",
    "query_encoded = urllib.parse.quote(query_text)\n",
    "tweet_fields = 'lang,public_metrics,author_id'"
   ]
  },
  {
   "cell_type": "code",
   "execution_count": 5,
   "id": "ca6b1b5a",
   "metadata": {},
   "outputs": [],
   "source": [
    "query_url = endpoint + '?query={}&tweet.fields={}'.format(query_encoded, tweet_fields)"
   ]
  },
  {
   "cell_type": "code",
   "execution_count": 6,
   "id": "ec10d712",
   "metadata": {},
   "outputs": [],
   "source": [
    "response = requests.get(query_url, headers = header)"
   ]
  },
  {
   "cell_type": "code",
   "execution_count": 7,
   "id": "b3f92f9a",
   "metadata": {},
   "outputs": [
    {
     "data": {
      "text/plain": [
       "200"
      ]
     },
     "execution_count": 7,
     "metadata": {},
     "output_type": "execute_result"
    }
   ],
   "source": [
    "response.status_code"
   ]
  },
  {
   "cell_type": "code",
   "execution_count": 8,
   "id": "6a9ce4ef",
   "metadata": {},
   "outputs": [
    {
     "data": {
      "text/plain": [
       "'{\"data\":[{\"id\":\"1582390136775794690\",\"lang\":\"en\",\"public_metrics\":{\"retweet_count\":0,\"reply_count\":0,\"like_count\":0,\"quote_count\":0},\"text\":\"@kbert123 @TaylorTwellman @CitiField @yankeestadium @MLS Playing surface vs stadium? \\\\nI am not aware of any team in first division top 5 league that doesnt play in a stadium minimally designed for soccer matches. \\\\nWe wouldn\\'t expect a basketball or football playoff game to occur on stadium like this. \\\\nWe should raise the bar here. Imo\",\"edit_history_tweet_ids\":[\"1582390136775794690\"],\"author_id\":\"700669270389190662\"},{\"id\":\"1582390012036849665\",\"lang\":\"en\",\"public_metrics\":{\"retweet_count\":0,\"reply_count\":0,\"like_count\":0,\"quote_count\":0},\"text\":\"While the expansion team just made the MLS playoffs in only its second year, its off-field approach provides a handy blueprint for entrepreneurial success. @jeff_haden https://t.co/UyJqljLAXz\",\"edit_history_tweet_ids\":[\"1582390012036849665\"],\"author_id\":\"2184499256\"},{\"id\":\"1582389808806383616\",\"lang\":\"en\",\"public_metrics\":{\"retweet_count\":0,\"reply_count\":0,\"like_count\":0,\"quote_count\":0},\"text\":\"Dallas advanced past Minnesota 5-4 on penalty kicks after a 1-1 draw in the MLS playoffs. https://t.co/EKe3bZuT05\",\"edit_history_tweet_ids\":[\"1582389808806383616\"],\"author_id\":\"16318652\"},{\"id\":\"1582389437723729920\",\"lang\":\"en\",\"public_metrics\":{\"retweet_count\":0,\"reply_count\":0,\"like_count\":0,\"quote_count\":0},\"text\":\"\\\\uD83D\\\\uDCE3 New Podcast! \\\\\"Soccer Down Here 10/18: Tuesday Thoughts on MLS Playoffs And The World\\\\\" on @Spreaker #ballondor #majorleaguesoccer #mls #playoffs #soccer #sports #sportstalk https://t.co/ORtNgO7OWk\",\"edit_history_tweet_ids\":[\"1582389437723729920\"],\"author_id\":\"799707487888809984\"},{\"id\":\"1582389377153761281\",\"lang\":\"en\",\"public_metrics\":{\"retweet_count\":0,\"reply_count\":0,\"like_count\":1,\"quote_count\":0},\"text\":\"@benwright @ChrisIvey865 Is it possible to move on from Ake Loba and improve the roster up front to support Hany up top? \\\\n\\\\nThe core of the team is old. Our window is  closing with the current stars we have now. \\\\n\\\\nWe need additional goal scoring up front if we have a chance at MLS Cup.\",\"edit_history_tweet_ids\":[\"1582389377153761281\"],\"author_id\":\"1091043979\"},{\"id\":\"1582388602255732736\",\"lang\":\"en\",\"public_metrics\":{\"retweet_count\":0,\"reply_count\":0,\"like_count\":0,\"quote_count\":0},\"text\":\"MLS Cup playoffs Round One preview and predictions https://t.co/hP1o3sCHZY\",\"edit_history_tweet_ids\":[\"1582388602255732736\"],\"author_id\":\"1090294751239331841\"},{\"id\":\"1582388208062459905\",\"lang\":\"en\",\"public_metrics\":{\"retweet_count\":1,\"reply_count\":1,\"like_count\":0,\"quote_count\":0},\"text\":\"https://t.co/09mc1n3xjv\\\\n\\\\nShowbuzz Daily Sunday Top 150\\\\nMLS Playoffs\\\\n\\\\n-ABC/ESPN Deportes \\\\nAustin v Real Salt Lake 487,000 \\\\n\\\\n-ESPN ESPN Deportes \\\\n#46 Montreal v Orlando 218,000\",\"edit_history_tweet_ids\":[\"1582388208062459905\"],\"author_id\":\"909429377536012289\"},{\"id\":\"1582387439859306496\",\"lang\":\"en\",\"public_metrics\":{\"retweet_count\":0,\"reply_count\":1,\"like_count\":0,\"quote_count\":0},\"text\":\"@HelltownBeer MLS had playoff games on a Friday night and they were not even on a English language channel?\",\"edit_history_tweet_ids\":[\"1582387439859306496\"],\"author_id\":\"600626571\"},{\"id\":\"1582386890086703106\",\"lang\":\"en\",\"public_metrics\":{\"retweet_count\":1,\"reply_count\":2,\"like_count\":1,\"quote_count\":0},\"text\":\"The 8 PM MLS Playoff game on ESPN 173k (Montreal/Orland). Friday\\'s playoff games weren\\'t on Eng-lang TV. On TUDN Galaxy v Nash 118k. NYRB v Cincy didn\\'t finish in the top 150.\",\"edit_history_tweet_ids\":[\"1582386890086703106\"],\"author_id\":\"310796195\"},{\"id\":\"1582386557503225856\",\"lang\":\"en\",\"public_metrics\":{\"retweet_count\":0,\"reply_count\":0,\"like_count\":0,\"quote_count\":0},\"text\":\"Eastern and Western Conference Semifinals Set in Audi 2022 MLS Cup\\xa0Playoffs https://t.co/PiBImnhOhp\",\"edit_history_tweet_ids\":[\"1582386557503225856\"],\"author_id\":\"1530290376560496642\"}],\"meta\":{\"newest_id\":\"1582390136775794690\",\"oldest_id\":\"1582386557503225856\",\"result_count\":10,\"next_token\":\"b26v89c19zqg8o3fpzeka86mfal3e7kulix5kzskyyfst\"}}'"
      ]
     },
     "execution_count": 8,
     "metadata": {},
     "output_type": "execute_result"
    }
   ],
   "source": [
    "response.text"
   ]
  },
  {
   "cell_type": "code",
   "execution_count": 9,
   "id": "13658ff1",
   "metadata": {},
   "outputs": [],
   "source": [
    "response_dict = json.loads(response.text)"
   ]
  },
  {
   "cell_type": "code",
   "execution_count": 10,
   "id": "b050b4a7",
   "metadata": {},
   "outputs": [
    {
     "data": {
      "text/plain": [
       "dict_keys(['data', 'meta'])"
      ]
     },
     "execution_count": 10,
     "metadata": {},
     "output_type": "execute_result"
    }
   ],
   "source": [
    "response_dict.keys()"
   ]
  },
  {
   "cell_type": "code",
   "execution_count": 11,
   "id": "e9b05697",
   "metadata": {},
   "outputs": [
    {
     "data": {
      "text/plain": [
       "list"
      ]
     },
     "execution_count": 11,
     "metadata": {},
     "output_type": "execute_result"
    }
   ],
   "source": [
    "type(response_dict['data'])"
   ]
  },
  {
   "cell_type": "code",
   "execution_count": 12,
   "id": "a7046112",
   "metadata": {},
   "outputs": [
    {
     "data": {
      "text/plain": [
       "dict"
      ]
     },
     "execution_count": 12,
     "metadata": {},
     "output_type": "execute_result"
    }
   ],
   "source": [
    "type(response_dict['data'][0])"
   ]
  },
  {
   "cell_type": "code",
   "execution_count": 13,
   "id": "ad0bcfac",
   "metadata": {},
   "outputs": [
    {
     "data": {
      "text/plain": [
       "dict_keys(['id', 'lang', 'public_metrics', 'text', 'edit_history_tweet_ids', 'author_id'])"
      ]
     },
     "execution_count": 13,
     "metadata": {},
     "output_type": "execute_result"
    }
   ],
   "source": [
    "response_dict['data'][0].keys()"
   ]
  },
  {
   "cell_type": "code",
   "execution_count": 14,
   "id": "4725afa8",
   "metadata": {},
   "outputs": [
    {
     "data": {
      "text/plain": [
       "\"@kbert123 @TaylorTwellman @CitiField @yankeestadium @MLS Playing surface vs stadium? \\nI am not aware of any team in first division top 5 league that doesnt play in a stadium minimally designed for soccer matches. \\nWe wouldn't expect a basketball or football playoff game to occur on stadium like this. \\nWe should raise the bar here. Imo\""
      ]
     },
     "execution_count": 14,
     "metadata": {},
     "output_type": "execute_result"
    }
   ],
   "source": [
    "response_dict['data'][0]['text']"
   ]
  },
  {
   "cell_type": "code",
   "execution_count": 15,
   "id": "eb4ba64d",
   "metadata": {},
   "outputs": [
    {
     "data": {
      "text/plain": [
       "dict"
      ]
     },
     "execution_count": 15,
     "metadata": {},
     "output_type": "execute_result"
    }
   ],
   "source": [
    "type(response_dict['data'][0]['public_metrics'])"
   ]
  },
  {
   "cell_type": "code",
   "execution_count": 16,
   "id": "7fb5b169",
   "metadata": {},
   "outputs": [
    {
     "data": {
      "text/plain": [
       "dict_keys(['retweet_count', 'reply_count', 'like_count', 'quote_count'])"
      ]
     },
     "execution_count": 16,
     "metadata": {},
     "output_type": "execute_result"
    }
   ],
   "source": [
    "response_dict['data'][0]['public_metrics'].keys()"
   ]
  },
  {
   "cell_type": "code",
   "execution_count": 17,
   "id": "5540cc10",
   "metadata": {},
   "outputs": [
    {
     "data": {
      "text/plain": [
       "0"
      ]
     },
     "execution_count": 17,
     "metadata": {},
     "output_type": "execute_result"
    }
   ],
   "source": [
    "response_dict['data'][0]['public_metrics']['like_count']"
   ]
  },
  {
   "cell_type": "code",
   "execution_count": 18,
   "id": "5aeb7c1b",
   "metadata": {},
   "outputs": [
    {
     "data": {
      "text/plain": [
       "'1582389377153761281'"
      ]
     },
     "execution_count": 18,
     "metadata": {},
     "output_type": "execute_result"
    }
   ],
   "source": [
    "response_dict['data'][4]['id']"
   ]
  },
  {
   "cell_type": "code",
   "execution_count": 19,
   "id": "048fe106",
   "metadata": {},
   "outputs": [],
   "source": [
    "response_df = pd.DataFrame(response_dict['data'])\n",
    "response_df2 = response_df"
   ]
  },
  {
   "cell_type": "code",
   "execution_count": 20,
   "id": "8e0bff80",
   "metadata": {},
   "outputs": [
    {
     "data": {
      "text/html": [
       "<div>\n",
       "<style scoped>\n",
       "    .dataframe tbody tr th:only-of-type {\n",
       "        vertical-align: middle;\n",
       "    }\n",
       "\n",
       "    .dataframe tbody tr th {\n",
       "        vertical-align: top;\n",
       "    }\n",
       "\n",
       "    .dataframe thead th {\n",
       "        text-align: right;\n",
       "    }\n",
       "</style>\n",
       "<table border=\"1\" class=\"dataframe\">\n",
       "  <thead>\n",
       "    <tr style=\"text-align: right;\">\n",
       "      <th></th>\n",
       "      <th>id</th>\n",
       "      <th>lang</th>\n",
       "      <th>public_metrics</th>\n",
       "      <th>text</th>\n",
       "      <th>edit_history_tweet_ids</th>\n",
       "      <th>author_id</th>\n",
       "    </tr>\n",
       "  </thead>\n",
       "  <tbody>\n",
       "    <tr>\n",
       "      <th>0</th>\n",
       "      <td>1582390136775794690</td>\n",
       "      <td>en</td>\n",
       "      <td>{'retweet_count': 0, 'reply_count': 0, 'like_c...</td>\n",
       "      <td>@kbert123 @TaylorTwellman @CitiField @yankeest...</td>\n",
       "      <td>[1582390136775794690]</td>\n",
       "      <td>700669270389190662</td>\n",
       "    </tr>\n",
       "    <tr>\n",
       "      <th>1</th>\n",
       "      <td>1582390012036849665</td>\n",
       "      <td>en</td>\n",
       "      <td>{'retweet_count': 0, 'reply_count': 0, 'like_c...</td>\n",
       "      <td>While the expansion team just made the MLS pla...</td>\n",
       "      <td>[1582390012036849665]</td>\n",
       "      <td>2184499256</td>\n",
       "    </tr>\n",
       "    <tr>\n",
       "      <th>2</th>\n",
       "      <td>1582389808806383616</td>\n",
       "      <td>en</td>\n",
       "      <td>{'retweet_count': 0, 'reply_count': 0, 'like_c...</td>\n",
       "      <td>Dallas advanced past Minnesota 5-4 on penalty ...</td>\n",
       "      <td>[1582389808806383616]</td>\n",
       "      <td>16318652</td>\n",
       "    </tr>\n",
       "    <tr>\n",
       "      <th>3</th>\n",
       "      <td>1582389437723729920</td>\n",
       "      <td>en</td>\n",
       "      <td>{'retweet_count': 0, 'reply_count': 0, 'like_c...</td>\n",
       "      <td>📣 New Podcast! \"Soccer Down Here 10/18: Tuesda...</td>\n",
       "      <td>[1582389437723729920]</td>\n",
       "      <td>799707487888809984</td>\n",
       "    </tr>\n",
       "    <tr>\n",
       "      <th>4</th>\n",
       "      <td>1582389377153761281</td>\n",
       "      <td>en</td>\n",
       "      <td>{'retweet_count': 0, 'reply_count': 0, 'like_c...</td>\n",
       "      <td>@benwright @ChrisIvey865 Is it possible to mov...</td>\n",
       "      <td>[1582389377153761281]</td>\n",
       "      <td>1091043979</td>\n",
       "    </tr>\n",
       "  </tbody>\n",
       "</table>\n",
       "</div>"
      ],
      "text/plain": [
       "                    id lang  \\\n",
       "0  1582390136775794690   en   \n",
       "1  1582390012036849665   en   \n",
       "2  1582389808806383616   en   \n",
       "3  1582389437723729920   en   \n",
       "4  1582389377153761281   en   \n",
       "\n",
       "                                      public_metrics  \\\n",
       "0  {'retweet_count': 0, 'reply_count': 0, 'like_c...   \n",
       "1  {'retweet_count': 0, 'reply_count': 0, 'like_c...   \n",
       "2  {'retweet_count': 0, 'reply_count': 0, 'like_c...   \n",
       "3  {'retweet_count': 0, 'reply_count': 0, 'like_c...   \n",
       "4  {'retweet_count': 0, 'reply_count': 0, 'like_c...   \n",
       "\n",
       "                                                text edit_history_tweet_ids  \\\n",
       "0  @kbert123 @TaylorTwellman @CitiField @yankeest...  [1582390136775794690]   \n",
       "1  While the expansion team just made the MLS pla...  [1582390012036849665]   \n",
       "2  Dallas advanced past Minnesota 5-4 on penalty ...  [1582389808806383616]   \n",
       "3  📣 New Podcast! \"Soccer Down Here 10/18: Tuesda...  [1582389437723729920]   \n",
       "4  @benwright @ChrisIvey865 Is it possible to mov...  [1582389377153761281]   \n",
       "\n",
       "            author_id  \n",
       "0  700669270389190662  \n",
       "1          2184499256  \n",
       "2            16318652  \n",
       "3  799707487888809984  \n",
       "4          1091043979  "
      ]
     },
     "execution_count": 20,
     "metadata": {},
     "output_type": "execute_result"
    }
   ],
   "source": [
    "response_df.head()"
   ]
  },
  {
   "cell_type": "code",
   "execution_count": 21,
   "id": "df603f9c",
   "metadata": {},
   "outputs": [],
   "source": [
    "public_metrics_df = pd.DataFrame(list(response_df['public_metrics']))"
   ]
  },
  {
   "cell_type": "code",
   "execution_count": 22,
   "id": "c4ede93f",
   "metadata": {},
   "outputs": [
    {
     "data": {
      "text/html": [
       "<div>\n",
       "<style scoped>\n",
       "    .dataframe tbody tr th:only-of-type {\n",
       "        vertical-align: middle;\n",
       "    }\n",
       "\n",
       "    .dataframe tbody tr th {\n",
       "        vertical-align: top;\n",
       "    }\n",
       "\n",
       "    .dataframe thead th {\n",
       "        text-align: right;\n",
       "    }\n",
       "</style>\n",
       "<table border=\"1\" class=\"dataframe\">\n",
       "  <thead>\n",
       "    <tr style=\"text-align: right;\">\n",
       "      <th></th>\n",
       "      <th>retweet_count</th>\n",
       "      <th>reply_count</th>\n",
       "      <th>like_count</th>\n",
       "      <th>quote_count</th>\n",
       "    </tr>\n",
       "  </thead>\n",
       "  <tbody>\n",
       "    <tr>\n",
       "      <th>0</th>\n",
       "      <td>0</td>\n",
       "      <td>0</td>\n",
       "      <td>0</td>\n",
       "      <td>0</td>\n",
       "    </tr>\n",
       "    <tr>\n",
       "      <th>1</th>\n",
       "      <td>0</td>\n",
       "      <td>0</td>\n",
       "      <td>0</td>\n",
       "      <td>0</td>\n",
       "    </tr>\n",
       "    <tr>\n",
       "      <th>2</th>\n",
       "      <td>0</td>\n",
       "      <td>0</td>\n",
       "      <td>0</td>\n",
       "      <td>0</td>\n",
       "    </tr>\n",
       "    <tr>\n",
       "      <th>3</th>\n",
       "      <td>0</td>\n",
       "      <td>0</td>\n",
       "      <td>0</td>\n",
       "      <td>0</td>\n",
       "    </tr>\n",
       "    <tr>\n",
       "      <th>4</th>\n",
       "      <td>0</td>\n",
       "      <td>0</td>\n",
       "      <td>1</td>\n",
       "      <td>0</td>\n",
       "    </tr>\n",
       "    <tr>\n",
       "      <th>5</th>\n",
       "      <td>0</td>\n",
       "      <td>0</td>\n",
       "      <td>0</td>\n",
       "      <td>0</td>\n",
       "    </tr>\n",
       "    <tr>\n",
       "      <th>6</th>\n",
       "      <td>1</td>\n",
       "      <td>1</td>\n",
       "      <td>0</td>\n",
       "      <td>0</td>\n",
       "    </tr>\n",
       "    <tr>\n",
       "      <th>7</th>\n",
       "      <td>0</td>\n",
       "      <td>1</td>\n",
       "      <td>0</td>\n",
       "      <td>0</td>\n",
       "    </tr>\n",
       "    <tr>\n",
       "      <th>8</th>\n",
       "      <td>1</td>\n",
       "      <td>2</td>\n",
       "      <td>1</td>\n",
       "      <td>0</td>\n",
       "    </tr>\n",
       "    <tr>\n",
       "      <th>9</th>\n",
       "      <td>0</td>\n",
       "      <td>0</td>\n",
       "      <td>0</td>\n",
       "      <td>0</td>\n",
       "    </tr>\n",
       "  </tbody>\n",
       "</table>\n",
       "</div>"
      ],
      "text/plain": [
       "   retweet_count  reply_count  like_count  quote_count\n",
       "0              0            0           0            0\n",
       "1              0            0           0            0\n",
       "2              0            0           0            0\n",
       "3              0            0           0            0\n",
       "4              0            0           1            0\n",
       "5              0            0           0            0\n",
       "6              1            1           0            0\n",
       "7              0            1           0            0\n",
       "8              1            2           1            0\n",
       "9              0            0           0            0"
      ]
     },
     "execution_count": 22,
     "metadata": {},
     "output_type": "execute_result"
    }
   ],
   "source": [
    "public_metrics_df"
   ]
  },
  {
   "cell_type": "code",
   "execution_count": 23,
   "id": "8108229f",
   "metadata": {},
   "outputs": [],
   "source": [
    "response_df['retweets'] = public_metrics_df['retweet_count']\n",
    "response_df['replies'] = public_metrics_df['reply_count']\n",
    "response_df['likes'] = public_metrics_df['like_count']\n",
    "response_df['quotes'] = public_metrics_df['quote_count']"
   ]
  },
  {
   "cell_type": "code",
   "execution_count": 24,
   "id": "e4115f95",
   "metadata": {},
   "outputs": [
    {
     "data": {
      "text/html": [
       "<div>\n",
       "<style scoped>\n",
       "    .dataframe tbody tr th:only-of-type {\n",
       "        vertical-align: middle;\n",
       "    }\n",
       "\n",
       "    .dataframe tbody tr th {\n",
       "        vertical-align: top;\n",
       "    }\n",
       "\n",
       "    .dataframe thead th {\n",
       "        text-align: right;\n",
       "    }\n",
       "</style>\n",
       "<table border=\"1\" class=\"dataframe\">\n",
       "  <thead>\n",
       "    <tr style=\"text-align: right;\">\n",
       "      <th></th>\n",
       "      <th>id</th>\n",
       "      <th>lang</th>\n",
       "      <th>public_metrics</th>\n",
       "      <th>text</th>\n",
       "      <th>edit_history_tweet_ids</th>\n",
       "      <th>author_id</th>\n",
       "      <th>retweets</th>\n",
       "      <th>replies</th>\n",
       "      <th>likes</th>\n",
       "      <th>quotes</th>\n",
       "    </tr>\n",
       "  </thead>\n",
       "  <tbody>\n",
       "    <tr>\n",
       "      <th>0</th>\n",
       "      <td>1582390136775794690</td>\n",
       "      <td>en</td>\n",
       "      <td>{'retweet_count': 0, 'reply_count': 0, 'like_c...</td>\n",
       "      <td>@kbert123 @TaylorTwellman @CitiField @yankeest...</td>\n",
       "      <td>[1582390136775794690]</td>\n",
       "      <td>700669270389190662</td>\n",
       "      <td>0</td>\n",
       "      <td>0</td>\n",
       "      <td>0</td>\n",
       "      <td>0</td>\n",
       "    </tr>\n",
       "    <tr>\n",
       "      <th>1</th>\n",
       "      <td>1582390012036849665</td>\n",
       "      <td>en</td>\n",
       "      <td>{'retweet_count': 0, 'reply_count': 0, 'like_c...</td>\n",
       "      <td>While the expansion team just made the MLS pla...</td>\n",
       "      <td>[1582390012036849665]</td>\n",
       "      <td>2184499256</td>\n",
       "      <td>0</td>\n",
       "      <td>0</td>\n",
       "      <td>0</td>\n",
       "      <td>0</td>\n",
       "    </tr>\n",
       "    <tr>\n",
       "      <th>2</th>\n",
       "      <td>1582389808806383616</td>\n",
       "      <td>en</td>\n",
       "      <td>{'retweet_count': 0, 'reply_count': 0, 'like_c...</td>\n",
       "      <td>Dallas advanced past Minnesota 5-4 on penalty ...</td>\n",
       "      <td>[1582389808806383616]</td>\n",
       "      <td>16318652</td>\n",
       "      <td>0</td>\n",
       "      <td>0</td>\n",
       "      <td>0</td>\n",
       "      <td>0</td>\n",
       "    </tr>\n",
       "    <tr>\n",
       "      <th>3</th>\n",
       "      <td>1582389437723729920</td>\n",
       "      <td>en</td>\n",
       "      <td>{'retweet_count': 0, 'reply_count': 0, 'like_c...</td>\n",
       "      <td>📣 New Podcast! \"Soccer Down Here 10/18: Tuesda...</td>\n",
       "      <td>[1582389437723729920]</td>\n",
       "      <td>799707487888809984</td>\n",
       "      <td>0</td>\n",
       "      <td>0</td>\n",
       "      <td>0</td>\n",
       "      <td>0</td>\n",
       "    </tr>\n",
       "    <tr>\n",
       "      <th>4</th>\n",
       "      <td>1582389377153761281</td>\n",
       "      <td>en</td>\n",
       "      <td>{'retweet_count': 0, 'reply_count': 0, 'like_c...</td>\n",
       "      <td>@benwright @ChrisIvey865 Is it possible to mov...</td>\n",
       "      <td>[1582389377153761281]</td>\n",
       "      <td>1091043979</td>\n",
       "      <td>0</td>\n",
       "      <td>0</td>\n",
       "      <td>1</td>\n",
       "      <td>0</td>\n",
       "    </tr>\n",
       "  </tbody>\n",
       "</table>\n",
       "</div>"
      ],
      "text/plain": [
       "                    id lang  \\\n",
       "0  1582390136775794690   en   \n",
       "1  1582390012036849665   en   \n",
       "2  1582389808806383616   en   \n",
       "3  1582389437723729920   en   \n",
       "4  1582389377153761281   en   \n",
       "\n",
       "                                      public_metrics  \\\n",
       "0  {'retweet_count': 0, 'reply_count': 0, 'like_c...   \n",
       "1  {'retweet_count': 0, 'reply_count': 0, 'like_c...   \n",
       "2  {'retweet_count': 0, 'reply_count': 0, 'like_c...   \n",
       "3  {'retweet_count': 0, 'reply_count': 0, 'like_c...   \n",
       "4  {'retweet_count': 0, 'reply_count': 0, 'like_c...   \n",
       "\n",
       "                                                text edit_history_tweet_ids  \\\n",
       "0  @kbert123 @TaylorTwellman @CitiField @yankeest...  [1582390136775794690]   \n",
       "1  While the expansion team just made the MLS pla...  [1582390012036849665]   \n",
       "2  Dallas advanced past Minnesota 5-4 on penalty ...  [1582389808806383616]   \n",
       "3  📣 New Podcast! \"Soccer Down Here 10/18: Tuesda...  [1582389437723729920]   \n",
       "4  @benwright @ChrisIvey865 Is it possible to mov...  [1582389377153761281]   \n",
       "\n",
       "            author_id  retweets  replies  likes  quotes  \n",
       "0  700669270389190662         0        0      0       0  \n",
       "1          2184499256         0        0      0       0  \n",
       "2            16318652         0        0      0       0  \n",
       "3  799707487888809984         0        0      0       0  \n",
       "4          1091043979         0        0      1       0  "
      ]
     },
     "execution_count": 24,
     "metadata": {},
     "output_type": "execute_result"
    }
   ],
   "source": [
    "response_df.head()"
   ]
  },
  {
   "cell_type": "code",
   "execution_count": 25,
   "id": "a3c6a0b9",
   "metadata": {},
   "outputs": [],
   "source": [
    "response_df2 = response_df2.join(public_metrics_df)"
   ]
  },
  {
   "cell_type": "code",
   "execution_count": 26,
   "id": "9093d31b",
   "metadata": {},
   "outputs": [
    {
     "data": {
      "text/html": [
       "<div>\n",
       "<style scoped>\n",
       "    .dataframe tbody tr th:only-of-type {\n",
       "        vertical-align: middle;\n",
       "    }\n",
       "\n",
       "    .dataframe tbody tr th {\n",
       "        vertical-align: top;\n",
       "    }\n",
       "\n",
       "    .dataframe thead th {\n",
       "        text-align: right;\n",
       "    }\n",
       "</style>\n",
       "<table border=\"1\" class=\"dataframe\">\n",
       "  <thead>\n",
       "    <tr style=\"text-align: right;\">\n",
       "      <th></th>\n",
       "      <th>id</th>\n",
       "      <th>lang</th>\n",
       "      <th>public_metrics</th>\n",
       "      <th>text</th>\n",
       "      <th>edit_history_tweet_ids</th>\n",
       "      <th>author_id</th>\n",
       "      <th>retweets</th>\n",
       "      <th>replies</th>\n",
       "      <th>likes</th>\n",
       "      <th>quotes</th>\n",
       "      <th>retweet_count</th>\n",
       "      <th>reply_count</th>\n",
       "      <th>like_count</th>\n",
       "      <th>quote_count</th>\n",
       "    </tr>\n",
       "  </thead>\n",
       "  <tbody>\n",
       "    <tr>\n",
       "      <th>0</th>\n",
       "      <td>1582390136775794690</td>\n",
       "      <td>en</td>\n",
       "      <td>{'retweet_count': 0, 'reply_count': 0, 'like_c...</td>\n",
       "      <td>@kbert123 @TaylorTwellman @CitiField @yankeest...</td>\n",
       "      <td>[1582390136775794690]</td>\n",
       "      <td>700669270389190662</td>\n",
       "      <td>0</td>\n",
       "      <td>0</td>\n",
       "      <td>0</td>\n",
       "      <td>0</td>\n",
       "      <td>0</td>\n",
       "      <td>0</td>\n",
       "      <td>0</td>\n",
       "      <td>0</td>\n",
       "    </tr>\n",
       "    <tr>\n",
       "      <th>1</th>\n",
       "      <td>1582390012036849665</td>\n",
       "      <td>en</td>\n",
       "      <td>{'retweet_count': 0, 'reply_count': 0, 'like_c...</td>\n",
       "      <td>While the expansion team just made the MLS pla...</td>\n",
       "      <td>[1582390012036849665]</td>\n",
       "      <td>2184499256</td>\n",
       "      <td>0</td>\n",
       "      <td>0</td>\n",
       "      <td>0</td>\n",
       "      <td>0</td>\n",
       "      <td>0</td>\n",
       "      <td>0</td>\n",
       "      <td>0</td>\n",
       "      <td>0</td>\n",
       "    </tr>\n",
       "    <tr>\n",
       "      <th>2</th>\n",
       "      <td>1582389808806383616</td>\n",
       "      <td>en</td>\n",
       "      <td>{'retweet_count': 0, 'reply_count': 0, 'like_c...</td>\n",
       "      <td>Dallas advanced past Minnesota 5-4 on penalty ...</td>\n",
       "      <td>[1582389808806383616]</td>\n",
       "      <td>16318652</td>\n",
       "      <td>0</td>\n",
       "      <td>0</td>\n",
       "      <td>0</td>\n",
       "      <td>0</td>\n",
       "      <td>0</td>\n",
       "      <td>0</td>\n",
       "      <td>0</td>\n",
       "      <td>0</td>\n",
       "    </tr>\n",
       "    <tr>\n",
       "      <th>3</th>\n",
       "      <td>1582389437723729920</td>\n",
       "      <td>en</td>\n",
       "      <td>{'retweet_count': 0, 'reply_count': 0, 'like_c...</td>\n",
       "      <td>📣 New Podcast! \"Soccer Down Here 10/18: Tuesda...</td>\n",
       "      <td>[1582389437723729920]</td>\n",
       "      <td>799707487888809984</td>\n",
       "      <td>0</td>\n",
       "      <td>0</td>\n",
       "      <td>0</td>\n",
       "      <td>0</td>\n",
       "      <td>0</td>\n",
       "      <td>0</td>\n",
       "      <td>0</td>\n",
       "      <td>0</td>\n",
       "    </tr>\n",
       "    <tr>\n",
       "      <th>4</th>\n",
       "      <td>1582389377153761281</td>\n",
       "      <td>en</td>\n",
       "      <td>{'retweet_count': 0, 'reply_count': 0, 'like_c...</td>\n",
       "      <td>@benwright @ChrisIvey865 Is it possible to mov...</td>\n",
       "      <td>[1582389377153761281]</td>\n",
       "      <td>1091043979</td>\n",
       "      <td>0</td>\n",
       "      <td>0</td>\n",
       "      <td>1</td>\n",
       "      <td>0</td>\n",
       "      <td>0</td>\n",
       "      <td>0</td>\n",
       "      <td>1</td>\n",
       "      <td>0</td>\n",
       "    </tr>\n",
       "  </tbody>\n",
       "</table>\n",
       "</div>"
      ],
      "text/plain": [
       "                    id lang  \\\n",
       "0  1582390136775794690   en   \n",
       "1  1582390012036849665   en   \n",
       "2  1582389808806383616   en   \n",
       "3  1582389437723729920   en   \n",
       "4  1582389377153761281   en   \n",
       "\n",
       "                                      public_metrics  \\\n",
       "0  {'retweet_count': 0, 'reply_count': 0, 'like_c...   \n",
       "1  {'retweet_count': 0, 'reply_count': 0, 'like_c...   \n",
       "2  {'retweet_count': 0, 'reply_count': 0, 'like_c...   \n",
       "3  {'retweet_count': 0, 'reply_count': 0, 'like_c...   \n",
       "4  {'retweet_count': 0, 'reply_count': 0, 'like_c...   \n",
       "\n",
       "                                                text edit_history_tweet_ids  \\\n",
       "0  @kbert123 @TaylorTwellman @CitiField @yankeest...  [1582390136775794690]   \n",
       "1  While the expansion team just made the MLS pla...  [1582390012036849665]   \n",
       "2  Dallas advanced past Minnesota 5-4 on penalty ...  [1582389808806383616]   \n",
       "3  📣 New Podcast! \"Soccer Down Here 10/18: Tuesda...  [1582389437723729920]   \n",
       "4  @benwright @ChrisIvey865 Is it possible to mov...  [1582389377153761281]   \n",
       "\n",
       "            author_id  retweets  replies  likes  quotes  retweet_count  \\\n",
       "0  700669270389190662         0        0      0       0              0   \n",
       "1          2184499256         0        0      0       0              0   \n",
       "2            16318652         0        0      0       0              0   \n",
       "3  799707487888809984         0        0      0       0              0   \n",
       "4          1091043979         0        0      1       0              0   \n",
       "\n",
       "   reply_count  like_count  quote_count  \n",
       "0            0           0            0  \n",
       "1            0           0            0  \n",
       "2            0           0            0  \n",
       "3            0           0            0  \n",
       "4            0           1            0  "
      ]
     },
     "execution_count": 26,
     "metadata": {},
     "output_type": "execute_result"
    }
   ],
   "source": [
    "response_df2.head()"
   ]
  },
  {
   "cell_type": "code",
   "execution_count": 29,
   "id": "95e8ec61",
   "metadata": {},
   "outputs": [
    {
     "data": {
      "text/plain": [
       "'b26v89c19zqg8o3fpzeka86mfal3e7kulix5kzskyyfst'"
      ]
     },
     "execution_count": 29,
     "metadata": {},
     "output_type": "execute_result"
    }
   ],
   "source": [
    "response_dict['meta']['next_token']"
   ]
  },
  {
   "cell_type": "code",
   "execution_count": 32,
   "id": "a9aa0e46",
   "metadata": {},
   "outputs": [],
   "source": [
    "next_query_url = query_url + \"&next_token={}\".format(response_dict['meta']['next_token'])"
   ]
  },
  {
   "cell_type": "code",
   "execution_count": 33,
   "id": "b7f36b7d",
   "metadata": {},
   "outputs": [],
   "source": [
    "next_response = requests.get(next_query_url, headers = header)"
   ]
  },
  {
   "cell_type": "code",
   "execution_count": 34,
   "id": "034f3015",
   "metadata": {},
   "outputs": [
    {
     "data": {
      "text/plain": [
       "200"
      ]
     },
     "execution_count": 34,
     "metadata": {},
     "output_type": "execute_result"
    }
   ],
   "source": [
    "next_response.status_code"
   ]
  },
  {
   "cell_type": "code",
   "execution_count": null,
   "id": "d9e23c92",
   "metadata": {},
   "outputs": [],
   "source": [
    "next_response.text"
   ]
  },
  {
   "cell_type": "code",
   "execution_count": 38,
   "id": "f16a0dc9",
   "metadata": {},
   "outputs": [],
   "source": [
    "next_response_dict = json.loads(next_response.text)"
   ]
  },
  {
   "cell_type": "code",
   "execution_count": 39,
   "id": "078145f8",
   "metadata": {},
   "outputs": [
    {
     "data": {
      "text/plain": [
       "{'newest_id': '1582386527664951304',\n",
       " 'oldest_id': '1582386342641557505',\n",
       " 'result_count': 10,\n",
       " 'next_token': 'b26v89c19zqg8o3fpzeka86mfa5p8n4wm75g3yybfqu0t'}"
      ]
     },
     "execution_count": 39,
     "metadata": {},
     "output_type": "execute_result"
    }
   ],
   "source": [
    "next_response_dict['meta']"
   ]
  },
  {
   "cell_type": "code",
   "execution_count": 6,
   "id": "aaf5af5d",
   "metadata": {},
   "outputs": [],
   "source": [
    "def twt_recent_search (query, num_pages, header):\n",
    "    response_list = []\n",
    "    next_token = ''\n",
    "    for i in range(0, num_pages):\n",
    "        if i > 0:\n",
    "            this_query = query + \"&next_token={}\".format(next_token)\n",
    "        else:\n",
    "            this_query = query\n",
    "        \n",
    "        this_response = requests.get(this_query, headers = header)\n",
    "        print(this_response.status_code)\n",
    "        this_response_dict = json.loads(this_response.text)\n",
    "        response_list.append(this_response_dict)\n",
    "        next_token = this_response_dict['meta']['next_token']\n",
    "        \n",
    "    return response_list"
   ]
  },
  {
   "cell_type": "code",
   "execution_count": 7,
   "id": "29317ffc",
   "metadata": {},
   "outputs": [],
   "source": [
    "my_responses = twt_recent_search(query_url, 10, header)"
   ]
  },
  {
   "cell_type": "code",
   "execution_count": 8,
   "id": "5f2c6178",
   "metadata": {},
   "outputs": [],
   "source": [
    "results_1 = pd.DataFrame.from_records(my_responses)"
   ]
  },
  {
   "cell_type": "code",
   "execution_count": 9,
   "id": "ed6f139f",
   "metadata": {},
   "outputs": [],
   "source": [
    "data_list = list(results_1['data'])"
   ]
  },
  {
   "cell_type": "code",
   "execution_count": 10,
   "id": "ff60cdd3",
   "metadata": {},
   "outputs": [],
   "source": [
    "data_list_of_dfs = [pd.DataFrame(x) for x in data_list]"
   ]
  },
  {
   "cell_type": "code",
   "execution_count": 11,
   "id": "71f197f3",
   "metadata": {},
   "outputs": [],
   "source": [
    "data_df = pd.concat(data_list_of_dfs)"
   ]
  },
  {
   "cell_type": "code",
   "execution_count": 13,
   "id": "7011565a",
   "metadata": {},
   "outputs": [
    {
     "data": {
      "text/html": [
       "<div>\n",
       "<style scoped>\n",
       "    .dataframe tbody tr th:only-of-type {\n",
       "        vertical-align: middle;\n",
       "    }\n",
       "\n",
       "    .dataframe tbody tr th {\n",
       "        vertical-align: top;\n",
       "    }\n",
       "\n",
       "    .dataframe thead th {\n",
       "        text-align: right;\n",
       "    }\n",
       "</style>\n",
       "<table border=\"1\" class=\"dataframe\">\n",
       "  <thead>\n",
       "    <tr style=\"text-align: right;\">\n",
       "      <th></th>\n",
       "      <th>edit_history_tweet_ids</th>\n",
       "      <th>author_id</th>\n",
       "      <th>text</th>\n",
       "      <th>public_metrics</th>\n",
       "      <th>id</th>\n",
       "      <th>lang</th>\n",
       "    </tr>\n",
       "  </thead>\n",
       "  <tbody>\n",
       "    <tr>\n",
       "      <th>0</th>\n",
       "      <td>[1582767070436917248]</td>\n",
       "      <td>2300501173</td>\n",
       "      <td>#Best of the day on https://t.co/2a7ToDGERh\\nW...</td>\n",
       "      <td>{'retweet_count': 0, 'reply_count': 0, 'like_c...</td>\n",
       "      <td>1582767070436917248</td>\n",
       "      <td>en</td>\n",
       "    </tr>\n",
       "    <tr>\n",
       "      <th>1</th>\n",
       "      <td>[1582767010491965441]</td>\n",
       "      <td>634241340</td>\n",
       "      <td>@Beelzebubs_la @Samoabob @bwm121 Nah: i alread...</td>\n",
       "      <td>{'retweet_count': 0, 'reply_count': 0, 'like_c...</td>\n",
       "      <td>1582767010491965441</td>\n",
       "      <td>en</td>\n",
       "    </tr>\n",
       "    <tr>\n",
       "      <th>2</th>\n",
       "      <td>[1582766976019369984]</td>\n",
       "      <td>2338348428</td>\n",
       "      <td>What's #Best on https://t.co/ZQiMKSXMzq ?\\nWas...</td>\n",
       "      <td>{'retweet_count': 0, 'reply_count': 0, 'like_c...</td>\n",
       "      <td>1582766976019369984</td>\n",
       "      <td>en</td>\n",
       "    </tr>\n",
       "    <tr>\n",
       "      <th>3</th>\n",
       "      <td>[1582766222277750784]</td>\n",
       "      <td>21568108</td>\n",
       "      <td>Game Day Hub: NYCFC host Inter Miami in the 20...</td>\n",
       "      <td>{'retweet_count': 0, 'reply_count': 0, 'like_c...</td>\n",
       "      <td>1582766222277750784</td>\n",
       "      <td>en</td>\n",
       "    </tr>\n",
       "    <tr>\n",
       "      <th>4</th>\n",
       "      <td>[1582766212026888195]</td>\n",
       "      <td>21568108</td>\n",
       "      <td>Set pieces are key for NYCFC’s playoff run htt...</td>\n",
       "      <td>{'retweet_count': 0, 'reply_count': 0, 'like_c...</td>\n",
       "      <td>1582766212026888195</td>\n",
       "      <td>en</td>\n",
       "    </tr>\n",
       "  </tbody>\n",
       "</table>\n",
       "</div>"
      ],
      "text/plain": [
       "  edit_history_tweet_ids   author_id  \\\n",
       "0  [1582767070436917248]  2300501173   \n",
       "1  [1582767010491965441]   634241340   \n",
       "2  [1582766976019369984]  2338348428   \n",
       "3  [1582766222277750784]    21568108   \n",
       "4  [1582766212026888195]    21568108   \n",
       "\n",
       "                                                text  \\\n",
       "0  #Best of the day on https://t.co/2a7ToDGERh\\nW...   \n",
       "1  @Beelzebubs_la @Samoabob @bwm121 Nah: i alread...   \n",
       "2  What's #Best on https://t.co/ZQiMKSXMzq ?\\nWas...   \n",
       "3  Game Day Hub: NYCFC host Inter Miami in the 20...   \n",
       "4  Set pieces are key for NYCFC’s playoff run htt...   \n",
       "\n",
       "                                      public_metrics                   id lang  \n",
       "0  {'retweet_count': 0, 'reply_count': 0, 'like_c...  1582767070436917248   en  \n",
       "1  {'retweet_count': 0, 'reply_count': 0, 'like_c...  1582767010491965441   en  \n",
       "2  {'retweet_count': 0, 'reply_count': 0, 'like_c...  1582766976019369984   en  \n",
       "3  {'retweet_count': 0, 'reply_count': 0, 'like_c...  1582766222277750784   en  \n",
       "4  {'retweet_count': 0, 'reply_count': 0, 'like_c...  1582766212026888195   en  "
      ]
     },
     "execution_count": 13,
     "metadata": {},
     "output_type": "execute_result"
    }
   ],
   "source": [
    "data_df.head()"
   ]
  },
  {
   "cell_type": "code",
   "execution_count": 14,
   "id": "31585085",
   "metadata": {},
   "outputs": [
    {
     "data": {
      "text/plain": [
       "100"
      ]
     },
     "execution_count": 14,
     "metadata": {},
     "output_type": "execute_result"
    }
   ],
   "source": [
    "len(data_df.index)"
   ]
  }
 ],
 "metadata": {
  "kernelspec": {
   "display_name": "Python 3 (ipykernel)",
   "language": "python",
   "name": "python3"
  },
  "language_info": {
   "codemirror_mode": {
    "name": "ipython",
    "version": 3
   },
   "file_extension": ".py",
   "mimetype": "text/x-python",
   "name": "python",
   "nbconvert_exporter": "python",
   "pygments_lexer": "ipython3",
   "version": "3.10.4"
  }
 },
 "nbformat": 4,
 "nbformat_minor": 5
}
